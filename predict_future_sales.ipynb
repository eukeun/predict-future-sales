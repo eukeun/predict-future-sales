{
  "nbformat": 4,
  "nbformat_minor": 0,
  "metadata": {
    "kernelspec": {
      "display_name": "Python 3",
      "language": "python",
      "name": "python3"
    },
    "language_info": {
      "codemirror_mode": {
        "name": "ipython",
        "version": 3
      },
      "file_extension": ".py",
      "mimetype": "text/x-python",
      "name": "python",
      "nbconvert_exporter": "python",
      "pygments_lexer": "ipython3",
      "version": "3.6.4"
    },
    "colab": {
      "name": "predict_future_sales.ipynb",
      "provenance": [],
      "machine_shape": "hm",
      "include_colab_link": true
    }
  },
  "cells": [
    {
      "cell_type": "markdown",
      "metadata": {
        "id": "view-in-github",
        "colab_type": "text"
      },
      "source": [
        "<a href=\"https://colab.research.google.com/github/eukeun/predict-future-sales/blob/master/predict_future_sales.ipynb\" target=\"_parent\"><img src=\"https://colab.research.google.com/assets/colab-badge.svg\" alt=\"Open In Colab\"/></a>"
      ]
    },
    {
      "cell_type": "code",
      "metadata": {
        "_cell_guid": "b1076dfc-b9ad-4769-8c92-a6c4dae69d19",
        "_uuid": "8f2839f25d086af736a60e9eeb907d3b93b6e0e5",
        "id": "CYkbOvSzziBV",
        "colab_type": "code",
        "outputId": "44eae050-fefd-4d7c-9f46-e7547b455fbb",
        "trusted": true,
        "colab": {
          "base_uri": "https://localhost:8080/",
          "height": 35
        }
      },
      "source": [
        "import numpy as np\n",
        "import pandas as pd\n",
        "import re\n",
        "\n",
        "from itertools import product\n",
        "from sklearn.preprocessing import LabelEncoder\n",
        "\n",
        "import seaborn as sns\n",
        "sns.set_style('darkgrid')\n",
        "import matplotlib.pyplot as plt\n",
        "%matplotlib inline\n",
        "\n",
        "from xgboost import XGBRegressor\n",
        "from xgboost import plot_importance\n",
        "\n",
        "def plot_features(booster, figsize):    \n",
        "    fig, ax = plt.subplots(1,1,figsize=figsize)\n",
        "    return plot_importance(booster=booster, ax=ax)\n",
        "\n",
        "import os\n",
        "for dirname, _, filenames in os.walk('/kaggle/input'):\n",
        "    for filename in filenames:\n",
        "        print(os.path.join(dirname, filename))\n",
        "\n",
        "import time\n",
        "import sys\n",
        "import gc\n",
        "import pickle\n",
        "sys.version_info"
      ],
      "execution_count": 1,
      "outputs": [
        {
          "output_type": "execute_result",
          "data": {
            "text/plain": [
              "sys.version_info(major=3, minor=6, micro=8, releaselevel='final', serial=0)"
            ]
          },
          "metadata": {
            "tags": []
          },
          "execution_count": 1
        }
      ]
    },
    {
      "cell_type": "code",
      "metadata": {
        "id": "Tak9QcUmYJjh",
        "colab_type": "code",
        "colab": {
          "base_uri": "https://localhost:8080/",
          "height": 127
        },
        "outputId": "86c8e20f-ff0f-474a-e0e2-6c18bfd87488"
      },
      "source": [
        "from google.colab import drive\n",
        "drive.mount('/content/drive')"
      ],
      "execution_count": 2,
      "outputs": [
        {
          "output_type": "stream",
          "text": [
            "Go to this URL in a browser: https://accounts.google.com/o/oauth2/auth?client_id=947318989803-6bn6qk8qdgf4n4g3pfee6491hc0brc4i.apps.googleusercontent.com&redirect_uri=urn%3aietf%3awg%3aoauth%3a2.0%3aoob&response_type=code&scope=email%20https%3a%2f%2fwww.googleapis.com%2fauth%2fdocs.test%20https%3a%2f%2fwww.googleapis.com%2fauth%2fdrive%20https%3a%2f%2fwww.googleapis.com%2fauth%2fdrive.photos.readonly%20https%3a%2f%2fwww.googleapis.com%2fauth%2fpeopleapi.readonly\n",
            "\n",
            "Enter your authorization code:\n",
            "··········\n",
            "Mounted at /content/drive\n"
          ],
          "name": "stdout"
        }
      ]
    },
    {
      "cell_type": "markdown",
      "metadata": {
        "id": "tAH801H8X40y",
        "colab_type": "text"
      },
      "source": [
        "러시아어를 영어로 번역해 둔 데이터를 사용\n",
        "\n",
        "https://www.kaggle.com/kazimanil/predict-future-sales-supplementary"
      ]
    },
    {
      "cell_type": "code",
      "metadata": {
        "id": "nbSG7l5Zzrix",
        "colab_type": "code",
        "trusted": true,
        "colab": {}
      },
      "source": [
        "items = pd.read_csv('/content/drive/My Drive/data/items_t.csv')\n",
        "shops = pd.read_csv('/content/drive/My Drive/data/shops_t.csv')\n",
        "cats = pd.read_csv('/content/drive/My Drive/data/item_categories_t.csv')\n",
        "train = pd.read_csv('/content/drive/My Drive/data/sales_train.csv')\n",
        "test = pd.read_csv('/content/drive/My Drive/data/test.csv').set_index('ID')"
      ],
      "execution_count": 0,
      "outputs": []
    },
    {
      "cell_type": "markdown",
      "metadata": {
        "id": "gcOy8LTdX401",
        "colab_type": "text"
      },
      "source": [
        "중복확인, 제거"
      ]
    },
    {
      "cell_type": "code",
      "metadata": {
        "id": "4S955OHNziBq",
        "colab_type": "code",
        "outputId": "f0ede615-adb8-48dc-d76d-475322b7ced7",
        "trusted": true,
        "colab": {
          "base_uri": "https://localhost:8080/",
          "height": 35
        }
      },
      "source": [
        "train.shape"
      ],
      "execution_count": 4,
      "outputs": [
        {
          "output_type": "execute_result",
          "data": {
            "text/plain": [
              "(2935849, 6)"
            ]
          },
          "metadata": {
            "tags": []
          },
          "execution_count": 4
        }
      ]
    },
    {
      "cell_type": "code",
      "metadata": {
        "id": "3p14SIlHziBs",
        "colab_type": "code",
        "outputId": "cec40105-2cf2-4143-fe24-b37148f1e80b",
        "trusted": true,
        "colab": {
          "base_uri": "https://localhost:8080/",
          "height": 35
        }
      },
      "source": [
        "train.drop_duplicates(subset=['date','date_block_num','shop_id','item_id','item_cnt_day'], inplace=True)\n",
        "train.shape"
      ],
      "execution_count": 5,
      "outputs": [
        {
          "output_type": "execute_result",
          "data": {
            "text/plain": [
              "(2935825, 6)"
            ]
          },
          "metadata": {
            "tags": []
          },
          "execution_count": 5
        }
      ]
    },
    {
      "cell_type": "markdown",
      "metadata": {
        "_uuid": "425d8f2dc08378977b393bf80c5fdcf0fba2c992",
        "id": "NHyrlT2xziBj",
        "colab_type": "text"
      },
      "source": [
        "이상값 제거"
      ]
    },
    {
      "cell_type": "code",
      "metadata": {
        "id": "cjhEfXJkYboL",
        "colab_type": "code",
        "colab": {
          "base_uri": "https://localhost:8080/",
          "height": 297
        },
        "outputId": "d92f2964-8af8-4983-a829-4b9725d32438"
      },
      "source": [
        "train.describe()"
      ],
      "execution_count": 6,
      "outputs": [
        {
          "output_type": "execute_result",
          "data": {
            "text/html": [
              "<div>\n",
              "<style scoped>\n",
              "    .dataframe tbody tr th:only-of-type {\n",
              "        vertical-align: middle;\n",
              "    }\n",
              "\n",
              "    .dataframe tbody tr th {\n",
              "        vertical-align: top;\n",
              "    }\n",
              "\n",
              "    .dataframe thead th {\n",
              "        text-align: right;\n",
              "    }\n",
              "</style>\n",
              "<table border=\"1\" class=\"dataframe\">\n",
              "  <thead>\n",
              "    <tr style=\"text-align: right;\">\n",
              "      <th></th>\n",
              "      <th>date_block_num</th>\n",
              "      <th>shop_id</th>\n",
              "      <th>item_id</th>\n",
              "      <th>item_price</th>\n",
              "      <th>item_cnt_day</th>\n",
              "    </tr>\n",
              "  </thead>\n",
              "  <tbody>\n",
              "    <tr>\n",
              "      <th>count</th>\n",
              "      <td>2.935825e+06</td>\n",
              "      <td>2.935825e+06</td>\n",
              "      <td>2.935825e+06</td>\n",
              "      <td>2.935825e+06</td>\n",
              "      <td>2.935825e+06</td>\n",
              "    </tr>\n",
              "    <tr>\n",
              "      <th>mean</th>\n",
              "      <td>1.456992e+01</td>\n",
              "      <td>3.300171e+01</td>\n",
              "      <td>1.019721e+04</td>\n",
              "      <td>8.908558e+02</td>\n",
              "      <td>1.242643e+00</td>\n",
              "    </tr>\n",
              "    <tr>\n",
              "      <th>std</th>\n",
              "      <td>9.422984e+00</td>\n",
              "      <td>1.622699e+01</td>\n",
              "      <td>6.324298e+03</td>\n",
              "      <td>1.729806e+03</td>\n",
              "      <td>2.618845e+00</td>\n",
              "    </tr>\n",
              "    <tr>\n",
              "      <th>min</th>\n",
              "      <td>0.000000e+00</td>\n",
              "      <td>0.000000e+00</td>\n",
              "      <td>0.000000e+00</td>\n",
              "      <td>-1.000000e+00</td>\n",
              "      <td>-2.200000e+01</td>\n",
              "    </tr>\n",
              "    <tr>\n",
              "      <th>25%</th>\n",
              "      <td>7.000000e+00</td>\n",
              "      <td>2.200000e+01</td>\n",
              "      <td>4.476000e+03</td>\n",
              "      <td>2.490000e+02</td>\n",
              "      <td>1.000000e+00</td>\n",
              "    </tr>\n",
              "    <tr>\n",
              "      <th>50%</th>\n",
              "      <td>1.400000e+01</td>\n",
              "      <td>3.100000e+01</td>\n",
              "      <td>9.343000e+03</td>\n",
              "      <td>3.990000e+02</td>\n",
              "      <td>1.000000e+00</td>\n",
              "    </tr>\n",
              "    <tr>\n",
              "      <th>75%</th>\n",
              "      <td>2.300000e+01</td>\n",
              "      <td>4.700000e+01</td>\n",
              "      <td>1.568400e+04</td>\n",
              "      <td>9.990000e+02</td>\n",
              "      <td>1.000000e+00</td>\n",
              "    </tr>\n",
              "    <tr>\n",
              "      <th>max</th>\n",
              "      <td>3.300000e+01</td>\n",
              "      <td>5.900000e+01</td>\n",
              "      <td>2.216900e+04</td>\n",
              "      <td>3.079800e+05</td>\n",
              "      <td>2.169000e+03</td>\n",
              "    </tr>\n",
              "  </tbody>\n",
              "</table>\n",
              "</div>"
            ],
            "text/plain": [
              "       date_block_num       shop_id       item_id    item_price  item_cnt_day\n",
              "count    2.935825e+06  2.935825e+06  2.935825e+06  2.935825e+06  2.935825e+06\n",
              "mean     1.456992e+01  3.300171e+01  1.019721e+04  8.908558e+02  1.242643e+00\n",
              "std      9.422984e+00  1.622699e+01  6.324298e+03  1.729806e+03  2.618845e+00\n",
              "min      0.000000e+00  0.000000e+00  0.000000e+00 -1.000000e+00 -2.200000e+01\n",
              "25%      7.000000e+00  2.200000e+01  4.476000e+03  2.490000e+02  1.000000e+00\n",
              "50%      1.400000e+01  3.100000e+01  9.343000e+03  3.990000e+02  1.000000e+00\n",
              "75%      2.300000e+01  4.700000e+01  1.568400e+04  9.990000e+02  1.000000e+00\n",
              "max      3.300000e+01  5.900000e+01  2.216900e+04  3.079800e+05  2.169000e+03"
            ]
          },
          "metadata": {
            "tags": []
          },
          "execution_count": 6
        }
      ]
    },
    {
      "cell_type": "code",
      "metadata": {
        "_uuid": "5a864412fafc3129a3e9bd5bb1f18a7cf0c62935",
        "id": "wrR7AffGziBj",
        "colab_type": "code",
        "outputId": "c76b4542-a757-4c7d-ad89-dc0af42f75d4",
        "trusted": true,
        "colab": {
          "base_uri": "https://localhost:8080/",
          "height": 561
        }
      },
      "source": [
        "plt.figure(figsize=(10,4))\n",
        "plt.xlim(-100, 3000)\n",
        "sns.boxplot(x=train.item_cnt_day)\n",
        "\n",
        "plt.figure(figsize=(10,4))\n",
        "plt.xlim(train.item_price.min(), train.item_price.max()*1.1)\n",
        "sns.boxplot(x=train.item_price)"
      ],
      "execution_count": 7,
      "outputs": [
        {
          "output_type": "execute_result",
          "data": {
            "text/plain": [
              "<matplotlib.axes._subplots.AxesSubplot at 0x7f395010a940>"
            ]
          },
          "metadata": {
            "tags": []
          },
          "execution_count": 7
        },
        {
          "output_type": "display_data",
          "data": {
            "image/png": "[encoded data removed]",
            "text/plain": [
              "<Figure size 720x288 with 1 Axes>"
            ]
          },
          "metadata": {
            "tags": []
          }
        },
        {
          "output_type": "display_data",
          "data": {
            "image/png": "[encoded data removed]",
            "text/plain": [
              "<Figure size 720x288 with 1 Axes>"
            ]
          },
          "metadata": {
            "tags": []
          }
        }
      ]
    },
    {
      "cell_type": "code",
      "metadata": {
        "_uuid": "7e621535d112603c60aeb2c2f83dbbf96d36b732",
        "id": "tueI5FWHziBl",
        "colab_type": "code",
        "trusted": true,
        "colab": {}
      },
      "source": [
        "train = train[train.item_price<100000]\n",
        "train = train[train.item_cnt_day<1001]"
      ],
      "execution_count": 0,
      "outputs": []
    },
    {
      "cell_type": "code",
      "metadata": {
        "id": "3Gz00f0sziBm",
        "colab_type": "code",
        "outputId": "e1a474c4-7647-4eca-9eec-8b2d5c489f9c",
        "trusted": true,
        "colab": {
          "base_uri": "https://localhost:8080/",
          "height": 80
        }
      },
      "source": [
        "train[train['item_price']<0]"
      ],
      "execution_count": 9,
      "outputs": [
        {
          "output_type": "execute_result",
          "data": {
            "text/html": [
              "<div>\n",
              "<style scoped>\n",
              "    .dataframe tbody tr th:only-of-type {\n",
              "        vertical-align: middle;\n",
              "    }\n",
              "\n",
              "    .dataframe tbody tr th {\n",
              "        vertical-align: top;\n",
              "    }\n",
              "\n",
              "    .dataframe thead th {\n",
              "        text-align: right;\n",
              "    }\n",
              "</style>\n",
              "<table border=\"1\" class=\"dataframe\">\n",
              "  <thead>\n",
              "    <tr style=\"text-align: right;\">\n",
              "      <th></th>\n",
              "      <th>date</th>\n",
              "      <th>date_block_num</th>\n",
              "      <th>shop_id</th>\n",
              "      <th>item_id</th>\n",
              "      <th>item_price</th>\n",
              "      <th>item_cnt_day</th>\n",
              "    </tr>\n",
              "  </thead>\n",
              "  <tbody>\n",
              "    <tr>\n",
              "      <th>484683</th>\n",
              "      <td>15.05.2013</td>\n",
              "      <td>4</td>\n",
              "      <td>32</td>\n",
              "      <td>2973</td>\n",
              "      <td>-1.0</td>\n",
              "      <td>1.0</td>\n",
              "    </tr>\n",
              "  </tbody>\n",
              "</table>\n",
              "</div>"
            ],
            "text/plain": [
              "              date  date_block_num  shop_id  item_id  item_price  item_cnt_day\n",
              "484683  15.05.2013               4       32     2973        -1.0           1.0"
            ]
          },
          "metadata": {
            "tags": []
          },
          "execution_count": 9
        }
      ]
    },
    {
      "cell_type": "markdown",
      "metadata": {
        "_uuid": "d2f99368478e3063b1c379537944e954d7186928",
        "id": "ga7wNOleziBo",
        "colab_type": "text"
      },
      "source": [
        "가격이 음수인 데이터를 같은 범위의 데이터의 중간값으로 변경"
      ]
    },
    {
      "cell_type": "code",
      "metadata": {
        "_uuid": "0fc6b90b22fe232f4240ac8f965cc52b3db5526a",
        "id": "2TisyvuIziBp",
        "colab_type": "code",
        "trusted": true,
        "colab": {}
      },
      "source": [
        "median = train[(train.shop_id==32)&(train.item_id==2973)&(train.date_block_num==4)&(train.item_price>0)].item_price.median()\n",
        "train.loc[train.item_price<0, 'item_price'] = median"
      ],
      "execution_count": 0,
      "outputs": []
    },
    {
      "cell_type": "markdown",
      "metadata": {
        "id": "aDHI5iM6YiXp",
        "colab_type": "text"
      },
      "source": [
        "shop_id 변경"
      ]
    },
    {
      "cell_type": "code",
      "metadata": {
        "trusted": true,
        "id": "Jd1Fao4pX41U",
        "colab_type": "code",
        "colab": {
          "base_uri": "https://localhost:8080/",
          "height": 235
        },
        "outputId": "f487149c-4630-4f0d-d3e6-157ec8b24adb"
      },
      "source": [
        "shops[shops['Name'].duplicated()]"
      ],
      "execution_count": 11,
      "outputs": [
        {
          "output_type": "execute_result",
          "data": {
            "text/html": [
              "<div>\n",
              "<style scoped>\n",
              "    .dataframe tbody tr th:only-of-type {\n",
              "        vertical-align: middle;\n",
              "    }\n",
              "\n",
              "    .dataframe tbody tr th {\n",
              "        vertical-align: top;\n",
              "    }\n",
              "\n",
              "    .dataframe thead th {\n",
              "        text-align: right;\n",
              "    }\n",
              "</style>\n",
              "<table border=\"1\" class=\"dataframe\">\n",
              "  <thead>\n",
              "    <tr style=\"text-align: right;\">\n",
              "      <th></th>\n",
              "      <th>Name</th>\n",
              "      <th>shop_id</th>\n",
              "      <th>City</th>\n",
              "      <th>Type</th>\n",
              "    </tr>\n",
              "  </thead>\n",
              "  <tbody>\n",
              "    <tr>\n",
              "      <th>11</th>\n",
              "      <td>Chkalov Str. 39 m2</td>\n",
              "      <td>11</td>\n",
              "      <td>Zhukovsky</td>\n",
              "      <td>Shop</td>\n",
              "    </tr>\n",
              "    <tr>\n",
              "      <th>37</th>\n",
              "      <td>Mega</td>\n",
              "      <td>37</td>\n",
              "      <td>Novosibirsk</td>\n",
              "      <td>TC</td>\n",
              "    </tr>\n",
              "    <tr>\n",
              "      <th>38</th>\n",
              "      <td>Mega</td>\n",
              "      <td>38</td>\n",
              "      <td>Omsk</td>\n",
              "      <td>TC</td>\n",
              "    </tr>\n",
              "    <tr>\n",
              "      <th>41</th>\n",
              "      <td>Mega</td>\n",
              "      <td>41</td>\n",
              "      <td>Rostov-on-Don</td>\n",
              "      <td>TC</td>\n",
              "    </tr>\n",
              "    <tr>\n",
              "      <th>54</th>\n",
              "      <td>Mega</td>\n",
              "      <td>54</td>\n",
              "      <td>Khimki</td>\n",
              "      <td>TC</td>\n",
              "    </tr>\n",
              "    <tr>\n",
              "      <th>58</th>\n",
              "      <td>Central</td>\n",
              "      <td>58</td>\n",
              "      <td>Yakutsk</td>\n",
              "      <td>SC</td>\n",
              "    </tr>\n",
              "  </tbody>\n",
              "</table>\n",
              "</div>"
            ],
            "text/plain": [
              "                  Name  shop_id           City  Type\n",
              "11  Chkalov Str. 39 m2       11      Zhukovsky  Shop\n",
              "37                Mega       37    Novosibirsk    TC\n",
              "38                Mega       38           Omsk    TC\n",
              "41                Mega       41  Rostov-on-Don    TC\n",
              "54                Mega       54         Khimki    TC\n",
              "58             Central       58        Yakutsk    SC"
            ]
          },
          "metadata": {
            "tags": []
          },
          "execution_count": 11
        }
      ]
    },
    {
      "cell_type": "code",
      "metadata": {
        "trusted": true,
        "id": "t_F7SiqIX41W",
        "colab_type": "code",
        "colab": {
          "base_uri": "https://localhost:8080/",
          "height": 111
        },
        "outputId": "17a95fef-77ac-4fb8-e06e-cbd9bd32e88e"
      },
      "source": [
        "shops[shops['Name']=='Chkalov Str. 39 m2']"
      ],
      "execution_count": 12,
      "outputs": [
        {
          "output_type": "execute_result",
          "data": {
            "text/html": [
              "<div>\n",
              "<style scoped>\n",
              "    .dataframe tbody tr th:only-of-type {\n",
              "        vertical-align: middle;\n",
              "    }\n",
              "\n",
              "    .dataframe tbody tr th {\n",
              "        vertical-align: top;\n",
              "    }\n",
              "\n",
              "    .dataframe thead th {\n",
              "        text-align: right;\n",
              "    }\n",
              "</style>\n",
              "<table border=\"1\" class=\"dataframe\">\n",
              "  <thead>\n",
              "    <tr style=\"text-align: right;\">\n",
              "      <th></th>\n",
              "      <th>Name</th>\n",
              "      <th>shop_id</th>\n",
              "      <th>City</th>\n",
              "      <th>Type</th>\n",
              "    </tr>\n",
              "  </thead>\n",
              "  <tbody>\n",
              "    <tr>\n",
              "      <th>10</th>\n",
              "      <td>Chkalov Str. 39 m2</td>\n",
              "      <td>10</td>\n",
              "      <td>Zhukovsky</td>\n",
              "      <td>Shop</td>\n",
              "    </tr>\n",
              "    <tr>\n",
              "      <th>11</th>\n",
              "      <td>Chkalov Str. 39 m2</td>\n",
              "      <td>11</td>\n",
              "      <td>Zhukovsky</td>\n",
              "      <td>Shop</td>\n",
              "    </tr>\n",
              "  </tbody>\n",
              "</table>\n",
              "</div>"
            ],
            "text/plain": [
              "                  Name  shop_id       City  Type\n",
              "10  Chkalov Str. 39 m2       10  Zhukovsky  Shop\n",
              "11  Chkalov Str. 39 m2       11  Zhukovsky  Shop"
            ]
          },
          "metadata": {
            "tags": []
          },
          "execution_count": 12
        }
      ]
    },
    {
      "cell_type": "code",
      "metadata": {
        "trusted": true,
        "id": "z06bFnr4X41Y",
        "colab_type": "code",
        "colab": {
          "base_uri": "https://localhost:8080/",
          "height": 111
        },
        "outputId": "105490d9-3af9-4013-b617-62854ecc4c96"
      },
      "source": [
        "shops[shops['City']=='Novosibirsk']"
      ],
      "execution_count": 13,
      "outputs": [
        {
          "output_type": "execute_result",
          "data": {
            "text/html": [
              "<div>\n",
              "<style scoped>\n",
              "    .dataframe tbody tr th:only-of-type {\n",
              "        vertical-align: middle;\n",
              "    }\n",
              "\n",
              "    .dataframe tbody tr th {\n",
              "        vertical-align: top;\n",
              "    }\n",
              "\n",
              "    .dataframe thead th {\n",
              "        text-align: right;\n",
              "    }\n",
              "</style>\n",
              "<table border=\"1\" class=\"dataframe\">\n",
              "  <thead>\n",
              "    <tr style=\"text-align: right;\">\n",
              "      <th></th>\n",
              "      <th>Name</th>\n",
              "      <th>shop_id</th>\n",
              "      <th>City</th>\n",
              "      <th>Type</th>\n",
              "    </tr>\n",
              "  </thead>\n",
              "  <tbody>\n",
              "    <tr>\n",
              "      <th>36</th>\n",
              "      <td>Gallery Novosibirsk</td>\n",
              "      <td>36</td>\n",
              "      <td>Novosibirsk</td>\n",
              "      <td>TRC</td>\n",
              "    </tr>\n",
              "    <tr>\n",
              "      <th>37</th>\n",
              "      <td>Mega</td>\n",
              "      <td>37</td>\n",
              "      <td>Novosibirsk</td>\n",
              "      <td>TC</td>\n",
              "    </tr>\n",
              "  </tbody>\n",
              "</table>\n",
              "</div>"
            ],
            "text/plain": [
              "                   Name  shop_id         City Type\n",
              "36  Gallery Novosibirsk       36  Novosibirsk  TRC\n",
              "37                 Mega       37  Novosibirsk   TC"
            ]
          },
          "metadata": {
            "tags": []
          },
          "execution_count": 13
        }
      ]
    },
    {
      "cell_type": "code",
      "metadata": {
        "trusted": true,
        "id": "DzscvvU5X41c",
        "colab_type": "code",
        "colab": {
          "base_uri": "https://localhost:8080/",
          "height": 80
        },
        "outputId": "be8dadaa-a6bc-47be-fa96-4a5af0a3dfd8"
      },
      "source": [
        "shops[shops['City']=='Omsk']"
      ],
      "execution_count": 14,
      "outputs": [
        {
          "output_type": "execute_result",
          "data": {
            "text/html": [
              "<div>\n",
              "<style scoped>\n",
              "    .dataframe tbody tr th:only-of-type {\n",
              "        vertical-align: middle;\n",
              "    }\n",
              "\n",
              "    .dataframe tbody tr th {\n",
              "        vertical-align: top;\n",
              "    }\n",
              "\n",
              "    .dataframe thead th {\n",
              "        text-align: right;\n",
              "    }\n",
              "</style>\n",
              "<table border=\"1\" class=\"dataframe\">\n",
              "  <thead>\n",
              "    <tr style=\"text-align: right;\">\n",
              "      <th></th>\n",
              "      <th>Name</th>\n",
              "      <th>shop_id</th>\n",
              "      <th>City</th>\n",
              "      <th>Type</th>\n",
              "    </tr>\n",
              "  </thead>\n",
              "  <tbody>\n",
              "    <tr>\n",
              "      <th>38</th>\n",
              "      <td>Mega</td>\n",
              "      <td>38</td>\n",
              "      <td>Omsk</td>\n",
              "      <td>TC</td>\n",
              "    </tr>\n",
              "  </tbody>\n",
              "</table>\n",
              "</div>"
            ],
            "text/plain": [
              "    Name  shop_id  City Type\n",
              "38  Mega       38  Omsk   TC"
            ]
          },
          "metadata": {
            "tags": []
          },
          "execution_count": 14
        }
      ]
    },
    {
      "cell_type": "code",
      "metadata": {
        "trusted": true,
        "id": "IIwRiY8_X41e",
        "colab_type": "code",
        "colab": {
          "base_uri": "https://localhost:8080/",
          "height": 142
        },
        "outputId": "3d34ad2e-ac1b-4e20-aff6-0c78a77c5c30"
      },
      "source": [
        "shops[shops['City']=='Rostov-on-Don']"
      ],
      "execution_count": 15,
      "outputs": [
        {
          "output_type": "execute_result",
          "data": {
            "text/html": [
              "<div>\n",
              "<style scoped>\n",
              "    .dataframe tbody tr th:only-of-type {\n",
              "        vertical-align: middle;\n",
              "    }\n",
              "\n",
              "    .dataframe tbody tr th {\n",
              "        vertical-align: top;\n",
              "    }\n",
              "\n",
              "    .dataframe thead th {\n",
              "        text-align: right;\n",
              "    }\n",
              "</style>\n",
              "<table border=\"1\" class=\"dataframe\">\n",
              "  <thead>\n",
              "    <tr style=\"text-align: right;\">\n",
              "      <th></th>\n",
              "      <th>Name</th>\n",
              "      <th>shop_id</th>\n",
              "      <th>City</th>\n",
              "      <th>Type</th>\n",
              "    </tr>\n",
              "  </thead>\n",
              "  <tbody>\n",
              "    <tr>\n",
              "      <th>39</th>\n",
              "      <td>Megacenter Horizon</td>\n",
              "      <td>39</td>\n",
              "      <td>Rostov-on-Don</td>\n",
              "      <td>TRC</td>\n",
              "    </tr>\n",
              "    <tr>\n",
              "      <th>40</th>\n",
              "      <td>Megacenter Horizon Island</td>\n",
              "      <td>40</td>\n",
              "      <td>Rostov-on-Don</td>\n",
              "      <td>TRC</td>\n",
              "    </tr>\n",
              "    <tr>\n",
              "      <th>41</th>\n",
              "      <td>Mega</td>\n",
              "      <td>41</td>\n",
              "      <td>Rostov-on-Don</td>\n",
              "      <td>TC</td>\n",
              "    </tr>\n",
              "  </tbody>\n",
              "</table>\n",
              "</div>"
            ],
            "text/plain": [
              "                         Name  shop_id           City Type\n",
              "39         Megacenter Horizon       39  Rostov-on-Don  TRC\n",
              "40  Megacenter Horizon Island       40  Rostov-on-Don  TRC\n",
              "41                       Mega       41  Rostov-on-Don   TC"
            ]
          },
          "metadata": {
            "tags": []
          },
          "execution_count": 15
        }
      ]
    },
    {
      "cell_type": "code",
      "metadata": {
        "trusted": true,
        "id": "mEl3W_moX41h",
        "colab_type": "code",
        "colab": {
          "base_uri": "https://localhost:8080/",
          "height": 80
        },
        "outputId": "e28b4111-1bae-4e09-dd75-9338b6b2bc3e"
      },
      "source": [
        "shops[shops['City']=='Khimki']"
      ],
      "execution_count": 16,
      "outputs": [
        {
          "output_type": "execute_result",
          "data": {
            "text/html": [
              "<div>\n",
              "<style scoped>\n",
              "    .dataframe tbody tr th:only-of-type {\n",
              "        vertical-align: middle;\n",
              "    }\n",
              "\n",
              "    .dataframe tbody tr th {\n",
              "        vertical-align: top;\n",
              "    }\n",
              "\n",
              "    .dataframe thead th {\n",
              "        text-align: right;\n",
              "    }\n",
              "</style>\n",
              "<table border=\"1\" class=\"dataframe\">\n",
              "  <thead>\n",
              "    <tr style=\"text-align: right;\">\n",
              "      <th></th>\n",
              "      <th>Name</th>\n",
              "      <th>shop_id</th>\n",
              "      <th>City</th>\n",
              "      <th>Type</th>\n",
              "    </tr>\n",
              "  </thead>\n",
              "  <tbody>\n",
              "    <tr>\n",
              "      <th>54</th>\n",
              "      <td>Mega</td>\n",
              "      <td>54</td>\n",
              "      <td>Khimki</td>\n",
              "      <td>TC</td>\n",
              "    </tr>\n",
              "  </tbody>\n",
              "</table>\n",
              "</div>"
            ],
            "text/plain": [
              "    Name  shop_id    City Type\n",
              "54  Mega       54  Khimki   TC"
            ]
          },
          "metadata": {
            "tags": []
          },
          "execution_count": 16
        }
      ]
    },
    {
      "cell_type": "code",
      "metadata": {
        "trusted": true,
        "id": "drk96N3XX41l",
        "colab_type": "code",
        "colab": {
          "base_uri": "https://localhost:8080/",
          "height": 173
        },
        "outputId": "589a21cf-992e-47e9-b586-9a7899df19e3"
      },
      "source": [
        "shops[shops['City']=='Yakutsk']"
      ],
      "execution_count": 17,
      "outputs": [
        {
          "output_type": "execute_result",
          "data": {
            "text/html": [
              "<div>\n",
              "<style scoped>\n",
              "    .dataframe tbody tr th:only-of-type {\n",
              "        vertical-align: middle;\n",
              "    }\n",
              "\n",
              "    .dataframe tbody tr th {\n",
              "        vertical-align: top;\n",
              "    }\n",
              "\n",
              "    .dataframe thead th {\n",
              "        text-align: right;\n",
              "    }\n",
              "</style>\n",
              "<table border=\"1\" class=\"dataframe\">\n",
              "  <thead>\n",
              "    <tr style=\"text-align: right;\">\n",
              "      <th></th>\n",
              "      <th>Name</th>\n",
              "      <th>shop_id</th>\n",
              "      <th>City</th>\n",
              "      <th>Type</th>\n",
              "    </tr>\n",
              "  </thead>\n",
              "  <tbody>\n",
              "    <tr>\n",
              "      <th>0</th>\n",
              "      <td>Ordzhonikidze, 56 francs</td>\n",
              "      <td>0</td>\n",
              "      <td>Yakutsk</td>\n",
              "      <td>Shop</td>\n",
              "    </tr>\n",
              "    <tr>\n",
              "      <th>1</th>\n",
              "      <td>Central franc</td>\n",
              "      <td>1</td>\n",
              "      <td>Yakutsk</td>\n",
              "      <td>TC</td>\n",
              "    </tr>\n",
              "    <tr>\n",
              "      <th>57</th>\n",
              "      <td>Ordzhonikidze, 56</td>\n",
              "      <td>57</td>\n",
              "      <td>Yakutsk</td>\n",
              "      <td>Shop</td>\n",
              "    </tr>\n",
              "    <tr>\n",
              "      <th>58</th>\n",
              "      <td>Central</td>\n",
              "      <td>58</td>\n",
              "      <td>Yakutsk</td>\n",
              "      <td>SC</td>\n",
              "    </tr>\n",
              "  </tbody>\n",
              "</table>\n",
              "</div>"
            ],
            "text/plain": [
              "                        Name  shop_id     City  Type\n",
              "0   Ordzhonikidze, 56 francs        0  Yakutsk  Shop\n",
              "1              Central franc        1  Yakutsk    TC\n",
              "57         Ordzhonikidze, 56       57  Yakutsk  Shop\n",
              "58                   Central       58  Yakutsk    SC"
            ]
          },
          "metadata": {
            "tags": []
          },
          "execution_count": 17
        }
      ]
    },
    {
      "cell_type": "code",
      "metadata": {
        "_uuid": "00fe91e9c482ea413abd774ff903fe3d152785dd",
        "id": "UQV0HuLHziBw",
        "colab_type": "code",
        "trusted": true,
        "colab": {}
      },
      "source": [
        "# Ordzhonikidze, 56\n",
        "train.loc[train.shop_id == 0, 'shop_id'] = 57\n",
        "test.loc[test.shop_id == 0, 'shop_id'] = 57\n",
        "# Central\n",
        "train.loc[train.shop_id == 1, 'shop_id'] = 58\n",
        "test.loc[test.shop_id == 1, 'shop_id'] = 58\n",
        "# Chkalov Str. 39 m2\n",
        "train.loc[train.shop_id == 10, 'shop_id'] = 11\n",
        "test.loc[test.shop_id == 10, 'shop_id'] = 11"
      ],
      "execution_count": 0,
      "outputs": []
    },
    {
      "cell_type": "code",
      "metadata": {
        "id": "6PuvXs_ZziB0",
        "colab_type": "code",
        "outputId": "d1dce6a7-8e41-4973-d81e-46f54151059e",
        "trusted": true,
        "colab": {
          "base_uri": "https://localhost:8080/",
          "height": 204
        }
      },
      "source": [
        "items.head()"
      ],
      "execution_count": 20,
      "outputs": [
        {
          "output_type": "execute_result",
          "data": {
            "text/html": [
              "<div>\n",
              "<style scoped>\n",
              "    .dataframe tbody tr th:only-of-type {\n",
              "        vertical-align: middle;\n",
              "    }\n",
              "\n",
              "    .dataframe tbody tr th {\n",
              "        vertical-align: top;\n",
              "    }\n",
              "\n",
              "    .dataframe thead th {\n",
              "        text-align: right;\n",
              "    }\n",
              "</style>\n",
              "<table border=\"1\" class=\"dataframe\">\n",
              "  <thead>\n",
              "    <tr style=\"text-align: right;\">\n",
              "      <th></th>\n",
              "      <th>item_name</th>\n",
              "      <th>item_id</th>\n",
              "      <th>item_category_id</th>\n",
              "    </tr>\n",
              "  </thead>\n",
              "  <tbody>\n",
              "    <tr>\n",
              "      <th>0</th>\n",
              "      <td>!! IN THE POWER OF HAPPINESS (PLAST) D</td>\n",
              "      <td>0</td>\n",
              "      <td>40</td>\n",
              "    </tr>\n",
              "    <tr>\n",
              "      <th>1</th>\n",
              "      <td>! ABBYY FineReader 12 Professional Edition Ful...</td>\n",
              "      <td>1</td>\n",
              "      <td>76</td>\n",
              "    </tr>\n",
              "    <tr>\n",
              "      <th>2</th>\n",
              "      <td>*** IN THE GLORY OF THE GLORY (UNV) D</td>\n",
              "      <td>2</td>\n",
              "      <td>40</td>\n",
              "    </tr>\n",
              "    <tr>\n",
              "      <th>3</th>\n",
              "      <td>*** BLUE WAVE (Univ) D</td>\n",
              "      <td>3</td>\n",
              "      <td>40</td>\n",
              "    </tr>\n",
              "    <tr>\n",
              "      <th>4</th>\n",
              "      <td>*** BOX (GLASS) D</td>\n",
              "      <td>4</td>\n",
              "      <td>40</td>\n",
              "    </tr>\n",
              "  </tbody>\n",
              "</table>\n",
              "</div>"
            ],
            "text/plain": [
              "                                           item_name  item_id  item_category_id\n",
              "0             !! IN THE POWER OF HAPPINESS (PLAST) D        0                40\n",
              "1  ! ABBYY FineReader 12 Professional Edition Ful...        1                76\n",
              "2              *** IN THE GLORY OF THE GLORY (UNV) D        2                40\n",
              "3                             *** BLUE WAVE (Univ) D        3                40\n",
              "4                                  *** BOX (GLASS) D        4                40"
            ]
          },
          "metadata": {
            "tags": []
          },
          "execution_count": 20
        }
      ]
    },
    {
      "cell_type": "markdown",
      "metadata": {
        "id": "oNWOMNcjX41y",
        "colab_type": "text"
      },
      "source": [
        "item을 type으로 나눠주고 라벨링"
      ]
    },
    {
      "cell_type": "code",
      "metadata": {
        "id": "s3msCE2XziB2",
        "colab_type": "code",
        "outputId": "da40d284-89fb-4d5f-9522-73e3008661c5",
        "trusted": true,
        "colab": {
          "base_uri": "https://localhost:8080/",
          "height": 35
        }
      },
      "source": [
        "item_names = items.item_name.values\n",
        "p = re.compile(r'\\((.*?)\\)', re.S)\n",
        "features = []\n",
        "for o in item_names:\n",
        "    features.append(re.findall(p, o)[-2:])\n",
        "features[:5]"
      ],
      "execution_count": 21,
      "outputs": [
        {
          "output_type": "execute_result",
          "data": {
            "text/plain": [
              "[['PLAST'], [], ['UNV'], ['Univ'], ['GLASS']]"
            ]
          },
          "metadata": {
            "tags": []
          },
          "execution_count": 21
        }
      ]
    },
    {
      "cell_type": "code",
      "metadata": {
        "id": "uGFWls-WziB3",
        "colab_type": "code",
        "trusted": true,
        "colab": {}
      },
      "source": [
        "item_f1 = []\n",
        "item_f2 = []\n",
        "\n",
        "for o in features:\n",
        "    if len(o) == 0:\n",
        "        item_f1.append(np.nan)\n",
        "        item_f2.append(np.nan)\n",
        "    elif len(o) == 1:\n",
        "        item_f1.append(o[0])\n",
        "        item_f2.append(np.nan)\n",
        "    else:\n",
        "        item_f1.append(o[1])\n",
        "        item_f2.append(o[0])"
      ],
      "execution_count": 0,
      "outputs": []
    },
    {
      "cell_type": "code",
      "metadata": {
        "id": "FSWQTi6dziB7",
        "colab_type": "code",
        "outputId": "a3d58eb9-dfd5-4145-afd5-c88572678827",
        "trusted": true,
        "colab": {
          "base_uri": "https://localhost:8080/",
          "height": 204
        }
      },
      "source": [
        "items['item_f1'] = pd.Series(item_f1)\n",
        "items['item_f2'] = pd.Series(item_f2)\n",
        "items['item_f1_code'] = LabelEncoder().fit_transform(items['item_f1'].fillna('xxx')).astype(np.int16)\n",
        "items['item_f2_code'] = LabelEncoder().fit_transform(items['item_f2'].fillna('xxx')).astype(np.int16)\n",
        "\n",
        "items.drop(['item_f1', 'item_f2'], 1, inplace=True)\n",
        "items.drop(['item_name'], axis=1, inplace=True)\n",
        "items.head()"
      ],
      "execution_count": 23,
      "outputs": [
        {
          "output_type": "execute_result",
          "data": {
            "text/html": [
              "<div>\n",
              "<style scoped>\n",
              "    .dataframe tbody tr th:only-of-type {\n",
              "        vertical-align: middle;\n",
              "    }\n",
              "\n",
              "    .dataframe tbody tr th {\n",
              "        vertical-align: top;\n",
              "    }\n",
              "\n",
              "    .dataframe thead th {\n",
              "        text-align: right;\n",
              "    }\n",
              "</style>\n",
              "<table border=\"1\" class=\"dataframe\">\n",
              "  <thead>\n",
              "    <tr style=\"text-align: right;\">\n",
              "      <th></th>\n",
              "      <th>item_id</th>\n",
              "      <th>item_category_id</th>\n",
              "      <th>item_f1_code</th>\n",
              "      <th>item_f2_code</th>\n",
              "    </tr>\n",
              "  </thead>\n",
              "  <tbody>\n",
              "    <tr>\n",
              "      <th>0</th>\n",
              "      <td>0</td>\n",
              "      <td>40</td>\n",
              "      <td>737</td>\n",
              "      <td>255</td>\n",
              "    </tr>\n",
              "    <tr>\n",
              "      <th>1</th>\n",
              "      <td>1</td>\n",
              "      <td>76</td>\n",
              "      <td>1136</td>\n",
              "      <td>255</td>\n",
              "    </tr>\n",
              "    <tr>\n",
              "      <th>2</th>\n",
              "      <td>2</td>\n",
              "      <td>40</td>\n",
              "      <td>881</td>\n",
              "      <td>255</td>\n",
              "    </tr>\n",
              "    <tr>\n",
              "      <th>3</th>\n",
              "      <td>3</td>\n",
              "      <td>40</td>\n",
              "      <td>886</td>\n",
              "      <td>255</td>\n",
              "    </tr>\n",
              "    <tr>\n",
              "      <th>4</th>\n",
              "      <td>4</td>\n",
              "      <td>40</td>\n",
              "      <td>580</td>\n",
              "      <td>255</td>\n",
              "    </tr>\n",
              "  </tbody>\n",
              "</table>\n",
              "</div>"
            ],
            "text/plain": [
              "   item_id  item_category_id  item_f1_code  item_f2_code\n",
              "0        0                40           737           255\n",
              "1        1                76          1136           255\n",
              "2        2                40           881           255\n",
              "3        3                40           886           255\n",
              "4        4                40           580           255"
            ]
          },
          "metadata": {
            "tags": []
          },
          "execution_count": 23
        }
      ]
    },
    {
      "cell_type": "markdown",
      "metadata": {
        "id": "smVRzT9WX415",
        "colab_type": "text"
      },
      "source": [
        "shop을 도시와 shop_type별로 라벨링"
      ]
    },
    {
      "cell_type": "code",
      "metadata": {
        "trusted": true,
        "id": "aQZDl3GGX415",
        "colab_type": "code",
        "colab": {
          "base_uri": "https://localhost:8080/",
          "height": 204
        },
        "outputId": "5675d696-680f-4533-a933-a2b3242dbcc6"
      },
      "source": [
        "shops.head()"
      ],
      "execution_count": 24,
      "outputs": [
        {
          "output_type": "execute_result",
          "data": {
            "text/html": [
              "<div>\n",
              "<style scoped>\n",
              "    .dataframe tbody tr th:only-of-type {\n",
              "        vertical-align: middle;\n",
              "    }\n",
              "\n",
              "    .dataframe tbody tr th {\n",
              "        vertical-align: top;\n",
              "    }\n",
              "\n",
              "    .dataframe thead th {\n",
              "        text-align: right;\n",
              "    }\n",
              "</style>\n",
              "<table border=\"1\" class=\"dataframe\">\n",
              "  <thead>\n",
              "    <tr style=\"text-align: right;\">\n",
              "      <th></th>\n",
              "      <th>Name</th>\n",
              "      <th>shop_id</th>\n",
              "      <th>City</th>\n",
              "      <th>Type</th>\n",
              "    </tr>\n",
              "  </thead>\n",
              "  <tbody>\n",
              "    <tr>\n",
              "      <th>0</th>\n",
              "      <td>Ordzhonikidze, 56 francs</td>\n",
              "      <td>0</td>\n",
              "      <td>Yakutsk</td>\n",
              "      <td>Shop</td>\n",
              "    </tr>\n",
              "    <tr>\n",
              "      <th>1</th>\n",
              "      <td>Central franc</td>\n",
              "      <td>1</td>\n",
              "      <td>Yakutsk</td>\n",
              "      <td>TC</td>\n",
              "    </tr>\n",
              "    <tr>\n",
              "      <th>2</th>\n",
              "      <td>Mega</td>\n",
              "      <td>2</td>\n",
              "      <td>Adygea</td>\n",
              "      <td>TC</td>\n",
              "    </tr>\n",
              "    <tr>\n",
              "      <th>3</th>\n",
              "      <td>October-Kinomir</td>\n",
              "      <td>3</td>\n",
              "      <td>Balashikha</td>\n",
              "      <td>TRC</td>\n",
              "    </tr>\n",
              "    <tr>\n",
              "      <th>4</th>\n",
              "      <td>Volga Mall</td>\n",
              "      <td>4</td>\n",
              "      <td>Volzhsky</td>\n",
              "      <td>TC</td>\n",
              "    </tr>\n",
              "  </tbody>\n",
              "</table>\n",
              "</div>"
            ],
            "text/plain": [
              "                       Name  shop_id        City  Type\n",
              "0  Ordzhonikidze, 56 francs        0     Yakutsk  Shop\n",
              "1             Central franc        1     Yakutsk    TC\n",
              "2                      Mega        2      Adygea    TC\n",
              "3           October-Kinomir        3  Balashikha   TRC\n",
              "4                Volga Mall        4    Volzhsky    TC"
            ]
          },
          "metadata": {
            "tags": []
          },
          "execution_count": 24
        }
      ]
    },
    {
      "cell_type": "code",
      "metadata": {
        "_uuid": "12fae4c8d0c8f3e817307d1e0ffc6831e9a8d696",
        "id": "7vM-PE4eziB_",
        "colab_type": "code",
        "outputId": "8b8502f0-a468-4ecf-af00-0d8f097480d3",
        "trusted": true,
        "colab": {
          "base_uri": "https://localhost:8080/",
          "height": 204
        }
      },
      "source": [
        "shops['city_code'] = LabelEncoder().fit_transform(shops['City'])\n",
        "shops['shop_type_code'] = LabelEncoder().fit_transform(shops['Type'])\n",
        "shops = shops[['shop_id','city_code','shop_type_code']]\n",
        "shops.head()"
      ],
      "execution_count": 25,
      "outputs": [
        {
          "output_type": "execute_result",
          "data": {
            "text/html": [
              "<div>\n",
              "<style scoped>\n",
              "    .dataframe tbody tr th:only-of-type {\n",
              "        vertical-align: middle;\n",
              "    }\n",
              "\n",
              "    .dataframe tbody tr th {\n",
              "        vertical-align: top;\n",
              "    }\n",
              "\n",
              "    .dataframe thead th {\n",
              "        text-align: right;\n",
              "    }\n",
              "</style>\n",
              "<table border=\"1\" class=\"dataframe\">\n",
              "  <thead>\n",
              "    <tr style=\"text-align: right;\">\n",
              "      <th></th>\n",
              "      <th>shop_id</th>\n",
              "      <th>city_code</th>\n",
              "      <th>shop_type_code</th>\n",
              "    </tr>\n",
              "  </thead>\n",
              "  <tbody>\n",
              "    <tr>\n",
              "      <th>0</th>\n",
              "      <td>0</td>\n",
              "      <td>26</td>\n",
              "      <td>3</td>\n",
              "    </tr>\n",
              "    <tr>\n",
              "      <th>1</th>\n",
              "      <td>1</td>\n",
              "      <td>26</td>\n",
              "      <td>4</td>\n",
              "    </tr>\n",
              "    <tr>\n",
              "      <th>2</th>\n",
              "      <td>2</td>\n",
              "      <td>0</td>\n",
              "      <td>4</td>\n",
              "    </tr>\n",
              "    <tr>\n",
              "      <th>3</th>\n",
              "      <td>3</td>\n",
              "      <td>1</td>\n",
              "      <td>5</td>\n",
              "    </tr>\n",
              "    <tr>\n",
              "      <th>4</th>\n",
              "      <td>4</td>\n",
              "      <td>23</td>\n",
              "      <td>4</td>\n",
              "    </tr>\n",
              "  </tbody>\n",
              "</table>\n",
              "</div>"
            ],
            "text/plain": [
              "   shop_id  city_code  shop_type_code\n",
              "0        0         26               3\n",
              "1        1         26               4\n",
              "2        2          0               4\n",
              "3        3          1               5\n",
              "4        4         23               4"
            ]
          },
          "metadata": {
            "tags": []
          },
          "execution_count": 25
        }
      ]
    },
    {
      "cell_type": "markdown",
      "metadata": {
        "id": "HjGvfydnX42A",
        "colab_type": "text"
      },
      "source": [
        "카테고리별 라벨링"
      ]
    },
    {
      "cell_type": "code",
      "metadata": {
        "id": "2lk_QXBGziCC",
        "colab_type": "code",
        "outputId": "6a36f2f1-b823-4ed7-d7f3-ce866f1105de",
        "trusted": true,
        "colab": {
          "base_uri": "https://localhost:8080/",
          "height": 204
        }
      },
      "source": [
        "cats['split'] = cats['item_category_name'].str.split('-')\n",
        "cats['type'] = cats['split'].map(lambda x: x[0].strip())\n",
        "cats['type_code'] = LabelEncoder().fit_transform(cats['type'])\n",
        "\n",
        "cats['subtype'] = cats['split'].map(lambda x: x[1].strip() if len(x) > 1 else x[0].strip())\n",
        "cats['subtype_code'] = LabelEncoder().fit_transform(cats['subtype'])\n",
        "cats = cats[['item_category_id','type_code', 'subtype_code']]\n",
        "\n",
        "cats.head()"
      ],
      "execution_count": 26,
      "outputs": [
        {
          "output_type": "execute_result",
          "data": {
            "text/html": [
              "<div>\n",
              "<style scoped>\n",
              "    .dataframe tbody tr th:only-of-type {\n",
              "        vertical-align: middle;\n",
              "    }\n",
              "\n",
              "    .dataframe tbody tr th {\n",
              "        vertical-align: top;\n",
              "    }\n",
              "\n",
              "    .dataframe thead th {\n",
              "        text-align: right;\n",
              "    }\n",
              "</style>\n",
              "<table border=\"1\" class=\"dataframe\">\n",
              "  <thead>\n",
              "    <tr style=\"text-align: right;\">\n",
              "      <th></th>\n",
              "      <th>item_category_id</th>\n",
              "      <th>type_code</th>\n",
              "      <th>subtype_code</th>\n",
              "    </tr>\n",
              "  </thead>\n",
              "  <tbody>\n",
              "    <tr>\n",
              "      <th>0</th>\n",
              "      <td>0</td>\n",
              "      <td>15</td>\n",
              "      <td>32</td>\n",
              "    </tr>\n",
              "    <tr>\n",
              "      <th>1</th>\n",
              "      <td>1</td>\n",
              "      <td>0</td>\n",
              "      <td>44</td>\n",
              "    </tr>\n",
              "    <tr>\n",
              "      <th>2</th>\n",
              "      <td>2</td>\n",
              "      <td>0</td>\n",
              "      <td>45</td>\n",
              "    </tr>\n",
              "    <tr>\n",
              "      <th>3</th>\n",
              "      <td>3</td>\n",
              "      <td>0</td>\n",
              "      <td>46</td>\n",
              "    </tr>\n",
              "    <tr>\n",
              "      <th>4</th>\n",
              "      <td>4</td>\n",
              "      <td>0</td>\n",
              "      <td>48</td>\n",
              "    </tr>\n",
              "  </tbody>\n",
              "</table>\n",
              "</div>"
            ],
            "text/plain": [
              "   item_category_id  type_code  subtype_code\n",
              "0                 0         15            32\n",
              "1                 1          0            44\n",
              "2                 2          0            45\n",
              "3                 3          0            46\n",
              "4                 4          0            48"
            ]
          },
          "metadata": {
            "tags": []
          },
          "execution_count": 26
        }
      ]
    },
    {
      "cell_type": "markdown",
      "metadata": {
        "_uuid": "62c5f83fa222595da99294f465ab28e80ce415e9",
        "id": "erTd5y7kziCE",
        "colab_type": "text"
      },
      "source": [
        "우리가 예측하려고 하는 (월, 상점, 상품) 형태의 matrix를 생성"
      ]
    },
    {
      "cell_type": "code",
      "metadata": {
        "_uuid": "7626c7455ea71b65894c6c866519df15080fa2ac",
        "id": "Vto1xtNTziCF",
        "colab_type": "code",
        "trusted": true,
        "colab": {}
      },
      "source": [
        "matrix = []\n",
        "cols = ['date_block_num','shop_id','item_id']\n",
        "for i in range(34):\n",
        "    sales = train[train.date_block_num==i]\n",
        "    matrix.append(np.array(list(product([i], sales.shop_id.unique(), sales.item_id.unique())), dtype='int16'))\n",
        "    \n",
        "matrix = pd.DataFrame(np.vstack(matrix), columns=cols)\n",
        "matrix['date_block_num'] = matrix['date_block_num'].astype(np.int8)\n",
        "matrix['shop_id'] = matrix['shop_id'].astype(np.int8)\n",
        "matrix['item_id'] = matrix['item_id'].astype(np.int16)\n",
        "matrix.sort_values(cols,inplace=True)"
      ],
      "execution_count": 0,
      "outputs": []
    },
    {
      "cell_type": "markdown",
      "metadata": {
        "id": "XqzR1UEsX42H",
        "colab_type": "text"
      },
      "source": [
        "월 단위의 판매량을 추가, robust하게 하기 위해 범위를 맞춰줌"
      ]
    },
    {
      "cell_type": "code",
      "metadata": {
        "_uuid": "7dd27181918fc7df89676e24d72130d183929d2d",
        "id": "Dth3Uy9GziCJ",
        "colab_type": "code",
        "trusted": true,
        "colab": {}
      },
      "source": [
        "group = train.groupby(['date_block_num','shop_id','item_id']).agg({'item_cnt_day': ['sum']})\n",
        "group.columns = ['item_cnt_month']\n",
        "group.reset_index(inplace=True)\n",
        "\n",
        "matrix = pd.merge(matrix, group, on=cols, how='left')\n",
        "matrix['item_cnt_month'] = (matrix['item_cnt_month']\n",
        "                                .fillna(0)\n",
        "                                .clip(0,20) # NB clip target here\n",
        "                                .astype(np.float16))"
      ],
      "execution_count": 0,
      "outputs": []
    },
    {
      "cell_type": "markdown",
      "metadata": {
        "id": "uW1oHvo0X42K",
        "colab_type": "text"
      },
      "source": [
        "test 데이터를 train과 같은 꼴로 만들어줌"
      ]
    },
    {
      "cell_type": "code",
      "metadata": {
        "_uuid": "29d02bdb4fa768577607bf735b918ca81da85d41",
        "id": "iQqbDImZziCN",
        "colab_type": "code",
        "trusted": true,
        "colab": {}
      },
      "source": [
        "test['date_block_num'] = 34\n",
        "test['date_block_num'] = test['date_block_num'].astype(np.int8)\n",
        "test['shop_id'] = test['shop_id'].astype(np.int8)\n",
        "test['item_id'] = test['item_id'].astype(np.int16)"
      ],
      "execution_count": 0,
      "outputs": []
    },
    {
      "cell_type": "markdown",
      "metadata": {
        "id": "KQKKse43X42P",
        "colab_type": "text"
      },
      "source": [
        "matrix뒤에 붙여준다"
      ]
    },
    {
      "cell_type": "code",
      "metadata": {
        "_uuid": "177fbbab94c8057d67d61357d29581248468a74d",
        "id": "OUhNLyY2ziCO",
        "colab_type": "code",
        "trusted": true,
        "colab": {
          "base_uri": "https://localhost:8080/",
          "height": 161
        },
        "outputId": "c17c7d6b-d542-48c2-9c4e-468cb7c35095"
      },
      "source": [
        "matrix = pd.concat([matrix, test], ignore_index=True, keys=cols)\n",
        "matrix.fillna(0, inplace=True) # 34 month"
      ],
      "execution_count": 30,
      "outputs": [
        {
          "output_type": "stream",
          "text": [
            "/usr/local/lib/python3.6/dist-packages/ipykernel_launcher.py:1: FutureWarning: Sorting because non-concatenation axis is not aligned. A future version\n",
            "of pandas will change to not sort by default.\n",
            "\n",
            "To accept the future behavior, pass 'sort=False'.\n",
            "\n",
            "To retain the current behavior and silence the warning, pass 'sort=True'.\n",
            "\n",
            "  \"\"\"Entry point for launching an IPython kernel.\n"
          ],
          "name": "stderr"
        }
      ]
    },
    {
      "cell_type": "markdown",
      "metadata": {
        "_uuid": "233e394a6cebf36ef002dc76fef8d430026a52b3",
        "id": "xH32-G6bziCR",
        "colab_type": "text"
      },
      "source": [
        "예측에 필요한 Feature들을 추가"
      ]
    },
    {
      "cell_type": "code",
      "metadata": {
        "_uuid": "7dfd5df3e2bcaee4c312f3979736f52c40f2560f",
        "id": "T8iPHHJpziCR",
        "colab_type": "code",
        "trusted": true,
        "colab": {}
      },
      "source": [
        "matrix = pd.merge(matrix, shops, on=['shop_id'], how='left')\n",
        "matrix = pd.merge(matrix, items, on=['item_id'], how='left')\n",
        "matrix = pd.merge(matrix, cats, on=['item_category_id'], how='left')\n",
        "matrix['city_code'] = matrix['city_code'].astype(np.int8)\n",
        "matrix['item_category_id'] = matrix['item_category_id'].astype(np.int8)\n",
        "matrix['type_code'] = matrix['type_code'].astype(np.int8)\n",
        "matrix['shop_type_code'] = matrix['shop_type_code'].astype(np.int8)\n",
        "matrix['subtype_code'] = matrix['subtype_code'].astype(np.int8)"
      ],
      "execution_count": 0,
      "outputs": []
    },
    {
      "cell_type": "markdown",
      "metadata": {
        "_uuid": "8358b291fdc8e0e7d1b5700974803b3f104715f7",
        "id": "AjcuU5sdziCS",
        "colab_type": "text"
      },
      "source": [
        "수개월 전의 판매량들을 가지고 예측"
      ]
    },
    {
      "cell_type": "code",
      "metadata": {
        "_uuid": "9cd7bcc7643ce4545475e8e6f80d09a979aac42d",
        "id": "-d9fjAZLziCT",
        "colab_type": "code",
        "trusted": true,
        "colab": {}
      },
      "source": [
        "def lag_feature(df, lags, col):\n",
        "    tmp = df[['date_block_num','shop_id','item_id',col]]\n",
        "    for i in lags:\n",
        "        shifted = tmp.copy()\n",
        "        shifted.columns = ['date_block_num','shop_id','item_id', col+'_lag_'+str(i)]\n",
        "        shifted['date_block_num'] += i\n",
        "        df = pd.merge(df, shifted, on=['date_block_num','shop_id','item_id'], how='left')\n",
        "    return df"
      ],
      "execution_count": 0,
      "outputs": []
    },
    {
      "cell_type": "code",
      "metadata": {
        "_uuid": "78bf7ece93ebc4629ad0e48cd6a9927788d8706d",
        "id": "tGfUKhXoziCV",
        "colab_type": "code",
        "trusted": true,
        "colab": {}
      },
      "source": [
        "matrix = lag_feature(matrix, [1,2,3,6,12], 'item_cnt_month')"
      ],
      "execution_count": 0,
      "outputs": []
    },
    {
      "cell_type": "markdown",
      "metadata": {
        "_uuid": "c67bf4dbcef884ffe9d19c65d37bc4de1f287ef6",
        "id": "RR2SgRZ6ziCX",
        "colab_type": "text"
      },
      "source": [
        "다양한 feature들 생성"
      ]
    },
    {
      "cell_type": "code",
      "metadata": {
        "_uuid": "763aca242154ea10fa0a62fffadb4ef90e9532d6",
        "id": "HdWG7gc6ziCX",
        "colab_type": "code",
        "trusted": true,
        "colab": {}
      },
      "source": [
        "group = matrix.groupby(['date_block_num']).agg({'item_cnt_month': ['mean']})\n",
        "group.columns = [ 'date_avg_item_cnt' ]\n",
        "group.reset_index(inplace=True)\n",
        "\n",
        "matrix = pd.merge(matrix, group, on=['date_block_num'], how='left')\n",
        "matrix['date_avg_item_cnt'] = matrix['date_avg_item_cnt'].astype(np.float16)\n",
        "matrix = lag_feature(matrix, [1], 'date_avg_item_cnt')\n",
        "matrix.drop(['date_avg_item_cnt'], axis=1, inplace=True)"
      ],
      "execution_count": 0,
      "outputs": []
    },
    {
      "cell_type": "code",
      "metadata": {
        "_uuid": "fc9166c4e678ebb99d03566f1751b7d4b5c690d2",
        "id": "ZfSnqe6gziCZ",
        "colab_type": "code",
        "trusted": true,
        "colab": {}
      },
      "source": [
        "group = matrix.groupby(['date_block_num', 'item_id']).agg({'item_cnt_month': ['mean']})\n",
        "group.columns = [ 'date_item_avg_item_cnt' ]\n",
        "group.reset_index(inplace=True)\n",
        "\n",
        "matrix = pd.merge(matrix, group, on=['date_block_num','item_id'], how='left')\n",
        "matrix['date_item_avg_item_cnt'] = matrix['date_item_avg_item_cnt'].astype(np.float16)\n",
        "matrix = lag_feature(matrix, [1,2,3,6,12], 'date_item_avg_item_cnt')\n",
        "matrix.drop(['date_item_avg_item_cnt'], axis=1, inplace=True)"
      ],
      "execution_count": 0,
      "outputs": []
    },
    {
      "cell_type": "code",
      "metadata": {
        "_uuid": "73f2552c403c5f67bbf07f28d69efcc015d00f32",
        "id": "djEeEWosziCb",
        "colab_type": "code",
        "trusted": true,
        "colab": {}
      },
      "source": [
        "group = matrix.groupby(['date_block_num', 'shop_id']).agg({'item_cnt_month': ['mean']})\n",
        "group.columns = [ 'date_shop_avg_item_cnt' ]\n",
        "group.reset_index(inplace=True)\n",
        "\n",
        "matrix = pd.merge(matrix, group, on=['date_block_num','shop_id'], how='left')\n",
        "matrix['date_shop_avg_item_cnt'] = matrix['date_shop_avg_item_cnt'].astype(np.float16)\n",
        "matrix = lag_feature(matrix, [1,2,3,6,12], 'date_shop_avg_item_cnt')\n",
        "matrix.drop(['date_shop_avg_item_cnt'], axis=1, inplace=True)"
      ],
      "execution_count": 0,
      "outputs": []
    },
    {
      "cell_type": "code",
      "metadata": {
        "_uuid": "c3948a9b206bc480b31385c29a713aa49747de19",
        "id": "Ts9bTKM3ziCd",
        "colab_type": "code",
        "trusted": true,
        "colab": {}
      },
      "source": [
        "group = matrix.groupby(['date_block_num', 'item_category_id']).agg({'item_cnt_month': ['mean']})\n",
        "group.columns = [ 'date_cat_avg_item_cnt' ]\n",
        "group.reset_index(inplace=True)\n",
        "\n",
        "matrix = pd.merge(matrix, group, on=['date_block_num','item_category_id'], how='left')\n",
        "matrix['date_cat_avg_item_cnt'] = matrix['date_cat_avg_item_cnt'].astype(np.float16)\n",
        "matrix = lag_feature(matrix, [1], 'date_cat_avg_item_cnt')\n",
        "matrix.drop(['date_cat_avg_item_cnt'], axis=1, inplace=True)"
      ],
      "execution_count": 0,
      "outputs": []
    },
    {
      "cell_type": "code",
      "metadata": {
        "id": "xceTgc_1ziCe",
        "colab_type": "code",
        "trusted": true,
        "colab": {}
      },
      "source": [
        "group = matrix.groupby(['date_block_num', 'item_category_id', 'item_f1_code']).agg({'item_cnt_month': ['mean']})\n",
        "group.columns = [ 'date_cat_item_f1_avg_item_cnt' ]\n",
        "group.reset_index(inplace=True)\n",
        "\n",
        "matrix = pd.merge(matrix, group, on=['date_block_num','item_category_id', 'item_f1_code'], how='left')\n",
        "matrix['date_cat_item_f1_avg_item_cnt'] = matrix['date_cat_item_f1_avg_item_cnt'].astype(np.float16)\n",
        "matrix = lag_feature(matrix, [1], 'date_cat_item_f1_avg_item_cnt')\n",
        "matrix.drop(['date_cat_item_f1_avg_item_cnt'], axis=1, inplace=True)"
      ],
      "execution_count": 0,
      "outputs": []
    },
    {
      "cell_type": "code",
      "metadata": {
        "id": "Md2I7iVkziCf",
        "colab_type": "code",
        "trusted": true,
        "colab": {}
      },
      "source": [
        "group = matrix.groupby(['date_block_num', 'item_category_id', 'item_f2_code']).agg({'item_cnt_month': ['mean']})\n",
        "group.columns = [ 'date_cat_item_f2_avg_item_cnt' ]\n",
        "group.reset_index(inplace=True)\n",
        "\n",
        "matrix = pd.merge(matrix, group, on=['date_block_num','item_category_id', 'item_f2_code'], how='left')\n",
        "matrix['date_cat_item_f2_avg_item_cnt'] = matrix['date_cat_item_f2_avg_item_cnt'].astype(np.float16)\n",
        "matrix = lag_feature(matrix, [1], 'date_cat_item_f2_avg_item_cnt')\n",
        "matrix.drop(['date_cat_item_f2_avg_item_cnt'], axis=1, inplace=True)"
      ],
      "execution_count": 0,
      "outputs": []
    },
    {
      "cell_type": "code",
      "metadata": {
        "_uuid": "bf98335755692f0d7666eeac2db1961692f09a16",
        "id": "Cr4TQy49ziCh",
        "colab_type": "code",
        "trusted": true,
        "colab": {}
      },
      "source": [
        "group = matrix.groupby(['date_block_num', 'shop_id', 'item_category_id']).agg({'item_cnt_month': ['mean']})\n",
        "group.columns = ['date_shop_cat_avg_item_cnt']\n",
        "group.reset_index(inplace=True)\n",
        "\n",
        "matrix = pd.merge(matrix, group, on=['date_block_num', 'shop_id', 'item_category_id'], how='left')\n",
        "matrix['date_shop_cat_avg_item_cnt'] = matrix['date_shop_cat_avg_item_cnt'].astype(np.float16)\n",
        "matrix = lag_feature(matrix, [1], 'date_shop_cat_avg_item_cnt')\n",
        "matrix.drop(['date_shop_cat_avg_item_cnt'], axis=1, inplace=True)"
      ],
      "execution_count": 0,
      "outputs": []
    },
    {
      "cell_type": "code",
      "metadata": {
        "_uuid": "3959603ea684eb3cbfd17d557399caa6e9da88e4",
        "id": "UsC2-LYeziCj",
        "colab_type": "code",
        "trusted": true,
        "colab": {}
      },
      "source": [
        "group = matrix.groupby(['date_block_num', 'shop_id', 'type_code']).agg({'item_cnt_month': ['mean']})\n",
        "group.columns = ['date_shop_type_avg_item_cnt']\n",
        "group.reset_index(inplace=True)\n",
        "\n",
        "matrix = pd.merge(matrix, group, on=['date_block_num', 'shop_id', 'type_code'], how='left')\n",
        "matrix['date_shop_type_avg_item_cnt'] = matrix['date_shop_type_avg_item_cnt'].astype(np.float16)\n",
        "matrix = lag_feature(matrix, [1], 'date_shop_type_avg_item_cnt')\n",
        "matrix.drop(['date_shop_type_avg_item_cnt'], axis=1, inplace=True)"
      ],
      "execution_count": 0,
      "outputs": []
    },
    {
      "cell_type": "code",
      "metadata": {
        "_uuid": "39f66d2e30f691237aa5d41ff9fc3a0eb7e9a788",
        "id": "9EK9--HTziCl",
        "colab_type": "code",
        "trusted": true,
        "colab": {}
      },
      "source": [
        "group = matrix.groupby(['date_block_num', 'shop_id', 'subtype_code']).agg({'item_cnt_month': ['mean']})\n",
        "group.columns = ['date_shop_subtype_avg_item_cnt']\n",
        "group.reset_index(inplace=True)\n",
        "\n",
        "matrix = pd.merge(matrix, group, on=['date_block_num', 'shop_id', 'subtype_code'], how='left')\n",
        "matrix['date_shop_subtype_avg_item_cnt'] = matrix['date_shop_subtype_avg_item_cnt'].astype(np.float16)\n",
        "matrix = lag_feature(matrix, [1], 'date_shop_subtype_avg_item_cnt')\n",
        "matrix.drop(['date_shop_subtype_avg_item_cnt'], axis=1, inplace=True)"
      ],
      "execution_count": 0,
      "outputs": []
    },
    {
      "cell_type": "code",
      "metadata": {
        "_uuid": "87d57d01beb0830138dabae79b4022d4c6a9cc12",
        "id": "vNaRiNaiziCn",
        "colab_type": "code",
        "trusted": true,
        "colab": {}
      },
      "source": [
        "group = matrix.groupby(['date_block_num', 'city_code']).agg({'item_cnt_month': ['mean']})\n",
        "group.columns = [ 'date_city_avg_item_cnt' ]\n",
        "group.reset_index(inplace=True)\n",
        "\n",
        "matrix = pd.merge(matrix, group, on=['date_block_num', 'city_code'], how='left')\n",
        "matrix['date_city_avg_item_cnt'] = matrix['date_city_avg_item_cnt'].astype(np.float16)\n",
        "matrix = lag_feature(matrix, [1], 'date_city_avg_item_cnt')\n",
        "matrix.drop(['date_city_avg_item_cnt'], axis=1, inplace=True)"
      ],
      "execution_count": 0,
      "outputs": []
    },
    {
      "cell_type": "code",
      "metadata": {
        "id": "eJSWxxMgziCp",
        "colab_type": "code",
        "trusted": true,
        "colab": {}
      },
      "source": [
        "group = matrix.groupby(['date_block_num', 'shop_type_code']).agg({'item_cnt_month': ['mean']})\n",
        "group.columns = [ 'date_shop_type_avg_item_cnt' ]\n",
        "group.reset_index(inplace=True)\n",
        "\n",
        "matrix = pd.merge(matrix, group, on=['date_block_num', 'shop_type_code'], how='left')\n",
        "matrix['date_shop_type_avg_item_cnt'] = matrix['date_shop_type_avg_item_cnt'].astype(np.float16)\n",
        "matrix = lag_feature(matrix, [1], 'date_shop_type_avg_item_cnt')\n",
        "matrix.drop(['date_shop_type_avg_item_cnt'], axis=1, inplace=True)"
      ],
      "execution_count": 0,
      "outputs": []
    },
    {
      "cell_type": "code",
      "metadata": {
        "_uuid": "db1f0170ec4a6fd9894bc53b36f3166d4b26abcf",
        "id": "RlLr-xlvziCq",
        "colab_type": "code",
        "trusted": true,
        "colab": {}
      },
      "source": [
        "group = matrix.groupby(['date_block_num', 'item_id', 'city_code']).agg({'item_cnt_month': ['mean']})\n",
        "group.columns = [ 'date_item_city_avg_item_cnt' ]\n",
        "group.reset_index(inplace=True)\n",
        "\n",
        "matrix = pd.merge(matrix, group, on=['date_block_num', 'item_id', 'city_code'], how='left')\n",
        "matrix['date_item_city_avg_item_cnt'] = matrix['date_item_city_avg_item_cnt'].astype(np.float16)\n",
        "matrix = lag_feature(matrix, [1], 'date_item_city_avg_item_cnt')\n",
        "matrix.drop(['date_item_city_avg_item_cnt'], axis=1, inplace=True)"
      ],
      "execution_count": 0,
      "outputs": []
    },
    {
      "cell_type": "code",
      "metadata": {
        "id": "7U-cjMCIziCr",
        "colab_type": "code",
        "trusted": true,
        "colab": {}
      },
      "source": [
        "group = matrix.groupby(['date_block_num', 'item_id', 'shop_type_code']).agg({'item_cnt_month': ['mean']})\n",
        "group.columns = [ 'date_item_shop_type_avg_item_cnt' ]\n",
        "group.reset_index(inplace=True)\n",
        "\n",
        "matrix = pd.merge(matrix, group, on=['date_block_num', 'item_id', 'shop_type_code'], how='left')\n",
        "matrix['date_item_shop_type_avg_item_cnt'] = matrix['date_item_shop_type_avg_item_cnt'].astype(np.float16)\n",
        "matrix = lag_feature(matrix, [1], 'date_item_shop_type_avg_item_cnt')\n",
        "matrix.drop(['date_item_shop_type_avg_item_cnt'], axis=1, inplace=True)"
      ],
      "execution_count": 0,
      "outputs": []
    },
    {
      "cell_type": "code",
      "metadata": {
        "_uuid": "3cd5232ad63357dacebe9d223cc93dd669132bb7",
        "id": "Hz0hA7dQziCu",
        "colab_type": "code",
        "trusted": true,
        "colab": {}
      },
      "source": [
        "group = matrix.groupby(['date_block_num', 'type_code']).agg({'item_cnt_month': ['mean']})\n",
        "group.columns = [ 'date_type_avg_item_cnt' ]\n",
        "group.reset_index(inplace=True)\n",
        "\n",
        "matrix = pd.merge(matrix, group, on=['date_block_num', 'type_code'], how='left')\n",
        "matrix['date_type_avg_item_cnt'] = matrix['date_type_avg_item_cnt'].astype(np.float16)\n",
        "matrix = lag_feature(matrix, [1], 'date_type_avg_item_cnt')\n",
        "matrix.drop(['date_type_avg_item_cnt'], axis=1, inplace=True)"
      ],
      "execution_count": 0,
      "outputs": []
    },
    {
      "cell_type": "code",
      "metadata": {
        "_uuid": "00394f3694ae9c7093176eadac7abeaa79ff5467",
        "id": "wQPQBw6TziCv",
        "colab_type": "code",
        "trusted": true,
        "colab": {}
      },
      "source": [
        "group = matrix.groupby(['date_block_num', 'subtype_code']).agg({'item_cnt_month': ['mean']})\n",
        "group.columns = [ 'date_subtype_avg_item_cnt' ]\n",
        "group.reset_index(inplace=True)\n",
        "\n",
        "matrix = pd.merge(matrix, group, on=['date_block_num', 'subtype_code'], how='left')\n",
        "matrix['date_subtype_avg_item_cnt'] = matrix['date_subtype_avg_item_cnt'].astype(np.float16)\n",
        "matrix = lag_feature(matrix, [1], 'date_subtype_avg_item_cnt')\n",
        "matrix.drop(['date_subtype_avg_item_cnt'], axis=1, inplace=True)"
      ],
      "execution_count": 0,
      "outputs": []
    },
    {
      "cell_type": "code",
      "metadata": {
        "id": "IEMy0cEzziCx",
        "colab_type": "code",
        "trusted": true,
        "colab": {}
      },
      "source": [
        "group = matrix.groupby(['date_block_num', 'subtype_code', 'item_f1_code']).agg({'item_cnt_month': ['mean']})\n",
        "group.columns = [ 'date_subtype_item_f1_avg_item_cnt' ]\n",
        "group.reset_index(inplace=True)\n",
        "\n",
        "matrix = pd.merge(matrix, group, on=['date_block_num', 'subtype_code', 'item_f1_code'], how='left')\n",
        "matrix['date_subtype_item_f1_avg_item_cnt'] = matrix['date_subtype_item_f1_avg_item_cnt'].astype(np.float16)\n",
        "matrix = lag_feature(matrix, [1], 'date_subtype_item_f1_avg_item_cnt')\n",
        "matrix.drop(['date_subtype_item_f1_avg_item_cnt'], axis=1, inplace=True)"
      ],
      "execution_count": 0,
      "outputs": []
    },
    {
      "cell_type": "code",
      "metadata": {
        "trusted": true,
        "id": "KAfuFIefX43I",
        "colab_type": "code",
        "colab": {}
      },
      "source": [
        "group = matrix.groupby(['date_block_num', 'subtype_code', 'item_f2_code']).agg({'item_cnt_month': ['mean']})\n",
        "group.columns = [ 'date_subtype_item_f2_avg_item_cnt' ]\n",
        "group.reset_index(inplace=True)\n",
        "\n",
        "matrix = pd.merge(matrix, group, on=['date_block_num', 'subtype_code', 'item_f2_code'], how='left')\n",
        "matrix['date_subtype_item_f2_avg_item_cnt'] = matrix['date_subtype_item_f2_avg_item_cnt'].astype(np.float16)\n",
        "matrix = lag_feature(matrix, [1], 'date_subtype_item_f2_avg_item_cnt')\n",
        "matrix.drop(['date_subtype_item_f2_avg_item_cnt'], axis=1, inplace=True)"
      ],
      "execution_count": 0,
      "outputs": []
    },
    {
      "cell_type": "markdown",
      "metadata": {
        "_uuid": "0504e9613087237c255914d9ebd165fac4e88cd0",
        "id": "IqVVJ4O8ziC0",
        "colab_type": "text"
      },
      "source": [
        "현재 기준으로 지난 달 특정 feature의 값이 전체 평균보다 높은지 낮은지 구한다"
      ]
    },
    {
      "cell_type": "markdown",
      "metadata": {
        "id": "sZ0RmJZmaiEH",
        "colab_type": "text"
      },
      "source": [
        "1달전 값이 없을 경우 2달, 3달, 최대 6달전까지 확인"
      ]
    },
    {
      "cell_type": "code",
      "metadata": {
        "_uuid": "0da2ded8502e273137991fd2bebbadaf19c19622",
        "id": "KHg3uAgxziC1",
        "colab_type": "code",
        "trusted": true,
        "colab": {}
      },
      "source": [
        "group = train.groupby(['item_id']).agg({'item_price': ['mean']})\n",
        "group.columns = ['item_avg_item_price']\n",
        "group.reset_index(inplace=True)\n",
        "\n",
        "matrix = pd.merge(matrix, group, on=['item_id'], how='left')\n",
        "matrix['item_avg_item_price'] = matrix['item_avg_item_price'].astype(np.float16)\n",
        "\n",
        "group = train.groupby(['date_block_num','item_id']).agg({'item_price': ['mean']})\n",
        "group.columns = ['date_item_avg_item_price']\n",
        "group.reset_index(inplace=True)\n",
        "\n",
        "matrix = pd.merge(matrix, group, on=['date_block_num','item_id'], how='left')\n",
        "matrix['date_item_avg_item_price'] = matrix['date_item_avg_item_price'].astype(np.float16)\n",
        "\n",
        "lags = [1,2,3,4,5,6]\n",
        "matrix = lag_feature(matrix, lags, 'date_item_avg_item_price')\n",
        "\n",
        "for i in lags:\n",
        "    matrix['delta_price_lag_'+str(i)] = \\\n",
        "        (matrix['date_item_avg_item_price_lag_'+str(i)] - matrix['item_avg_item_price']) / matrix['item_avg_item_price']\n",
        "\n",
        "def select_trend(row):\n",
        "    for i in lags:\n",
        "        if row['delta_price_lag_'+str(i)]:\n",
        "            return row['delta_price_lag_'+str(i)]\n",
        "    return 0\n",
        "    \n",
        "matrix['delta_price_lag'] = matrix.apply(select_trend, axis=1)\n",
        "matrix['delta_price_lag'] = matrix['delta_price_lag'].astype(np.float16)\n",
        "matrix['delta_price_lag'].fillna(0, inplace=True)\n",
        "\n",
        "fetures_to_drop = ['item_avg_item_price', 'date_item_avg_item_price']\n",
        "for i in lags:\n",
        "    fetures_to_drop += ['date_item_avg_item_price_lag_'+str(i)]\n",
        "    fetures_to_drop += ['delta_price_lag_'+str(i)]\n",
        "\n",
        "matrix.drop(fetures_to_drop, axis=1, inplace=True)"
      ],
      "execution_count": 0,
      "outputs": []
    },
    {
      "cell_type": "markdown",
      "metadata": {
        "id": "2fghHsJIX43L",
        "colab_type": "text"
      },
      "source": [
        "상점의 수입에 대한 트랜드를 Feature 로 만듦"
      ]
    },
    {
      "cell_type": "code",
      "metadata": {
        "trusted": true,
        "id": "bGtPMGCpX43L",
        "colab_type": "code",
        "colab": {}
      },
      "source": [
        "train['revenue'] = train['item_price'] * train['item_cnt_day']"
      ],
      "execution_count": 0,
      "outputs": []
    },
    {
      "cell_type": "markdown",
      "metadata": {
        "id": "OcQ62Ok7a_00",
        "colab_type": "text"
      },
      "source": [
        "총 수입 트랜드도 만들어줌"
      ]
    },
    {
      "cell_type": "code",
      "metadata": {
        "_uuid": "e633be47f1a22b41487866ce67fb874bd296339e",
        "id": "pzL_JfI4ziC3",
        "colab_type": "code",
        "trusted": true,
        "colab": {}
      },
      "source": [
        "group = train.groupby(['date_block_num','shop_id']).agg({'revenue': ['sum']})\n",
        "group.columns = ['date_shop_revenue']\n",
        "group.reset_index(inplace=True)\n",
        "\n",
        "matrix = pd.merge(matrix, group, on=['date_block_num','shop_id'], how='left')\n",
        "matrix['date_shop_revenue'] = matrix['date_shop_revenue'].astype(np.float32)\n",
        "\n",
        "group = group.groupby(['shop_id']).agg({'date_shop_revenue': ['mean']})\n",
        "group.columns = ['shop_avg_revenue']\n",
        "group.reset_index(inplace=True)\n",
        "\n",
        "matrix = pd.merge(matrix, group, on=['shop_id'], how='left')\n",
        "matrix['shop_avg_revenue'] = matrix['shop_avg_revenue'].astype(np.float32)\n",
        "\n",
        "matrix['delta_revenue'] = (matrix['date_shop_revenue'] - matrix['shop_avg_revenue']) / matrix['shop_avg_revenue']\n",
        "matrix['delta_revenue'] = matrix['delta_revenue'].astype(np.float16)\n",
        "\n",
        "matrix = lag_feature(matrix, [1], 'delta_revenue')\n",
        "\n",
        "matrix.drop(['date_shop_revenue','shop_avg_revenue','delta_revenue'], axis=1, inplace=True)"
      ],
      "execution_count": 0,
      "outputs": []
    },
    {
      "cell_type": "markdown",
      "metadata": {
        "id": "JPXQhZaabJje",
        "colab_type": "text"
      },
      "source": [
        "그 외에 feature 추가"
      ]
    },
    {
      "cell_type": "code",
      "metadata": {
        "_uuid": "bb521e1f33d4124a3b90b47447bdb29150770b6e",
        "id": "ZEJXfDdxziC5",
        "colab_type": "code",
        "trusted": true,
        "colab": {}
      },
      "source": [
        "matrix['month'] = matrix['date_block_num'] % 12"
      ],
      "execution_count": 0,
      "outputs": []
    },
    {
      "cell_type": "code",
      "metadata": {
        "_uuid": "e23f0201056b73368e3b70d4c36c6bb9e4a55291",
        "id": "RgU23ccNziC6",
        "colab_type": "code",
        "trusted": true,
        "colab": {}
      },
      "source": [
        "days = pd.Series([31,28,31,30,31,30,31,31,30,31,30,31])\n",
        "matrix['days'] = matrix['month'].map(days).astype(np.int8)"
      ],
      "execution_count": 0,
      "outputs": []
    },
    {
      "cell_type": "markdown",
      "metadata": {
        "_uuid": "7c096e86eb0043c0f6eeb899de24e28ca4c4e044",
        "id": "I1qZA23cziC9",
        "colab_type": "text"
      },
      "source": [
        "상품이 해당 날짜 기준 몇달전에 팔렸는지 (상점, 상품별)"
      ]
    },
    {
      "cell_type": "code",
      "metadata": {
        "_uuid": "3458a7056c963167760921417d1f863f074f2b39",
        "id": "i8qR8y1QziC-",
        "colab_type": "code",
        "trusted": true,
        "colab": {}
      },
      "source": [
        "cache = {}\n",
        "matrix['item_shop_last_sale'] = -1\n",
        "matrix['item_shop_last_sale'] = matrix['item_shop_last_sale'].astype(np.int8)\n",
        "for idx, row in matrix.iterrows():    \n",
        "    key = str(row.item_id)+' '+str(row.shop_id)\n",
        "    if key not in cache:\n",
        "        if row.item_cnt_month!=0:\n",
        "            cache[key] = row.date_block_num\n",
        "    else:\n",
        "        last_date_block_num = cache[key]\n",
        "        matrix.at[idx, 'item_shop_last_sale'] = row.date_block_num - last_date_block_num\n",
        "        cache[key] = row.date_block_num\n"
      ],
      "execution_count": 0,
      "outputs": []
    },
    {
      "cell_type": "markdown",
      "metadata": {
        "id": "BzZM12HMbl2D",
        "colab_type": "text"
      },
      "source": [
        "상품별"
      ]
    },
    {
      "cell_type": "code",
      "metadata": {
        "_uuid": "28b29fae3906d870b4dc3064a7f359b6d3abf623",
        "id": "GO41cdsxziDB",
        "colab_type": "code",
        "trusted": true,
        "colab": {}
      },
      "source": [
        "cache = {}\n",
        "matrix['item_last_sale'] = -1\n",
        "matrix['item_last_sale'] = matrix['item_last_sale'].astype(np.int8)\n",
        "for idx, row in matrix.iterrows():    \n",
        "    key = row.item_id\n",
        "    if key not in cache:\n",
        "        if row.item_cnt_month!=0:\n",
        "            cache[key] = row.date_block_num\n",
        "    else:\n",
        "        last_date_block_num = cache[key]\n",
        "        if row.date_block_num>last_date_block_num:\n",
        "            matrix.at[idx, 'item_last_sale'] = row.date_block_num - last_date_block_num\n",
        "            cache[key] = row.date_block_num         "
      ],
      "execution_count": 0,
      "outputs": []
    },
    {
      "cell_type": "markdown",
      "metadata": {
        "_uuid": "61987e6adc1bec2ea897eec837c0253f7f73fdb5",
        "id": "oLlKGrAaziDC",
        "colab_type": "text"
      },
      "source": [
        "최초 판매 이후 몇개월이 지났는지"
      ]
    },
    {
      "cell_type": "code",
      "metadata": {
        "trusted": true,
        "id": "ZbAX9q2aX43f",
        "colab_type": "code",
        "colab": {}
      },
      "source": [
        "matrix['item_shop_first_sale'] = matrix['date_block_num'] - matrix.groupby(['item_id','shop_id'])['date_block_num'].transform('min')\n",
        "matrix['item_first_sale'] = matrix['date_block_num'] - matrix.groupby('item_id')['date_block_num'].transform('min')"
      ],
      "execution_count": 0,
      "outputs": []
    },
    {
      "cell_type": "markdown",
      "metadata": {
        "_uuid": "48a14784050901f878b40f093e4bc34e07ecce05",
        "id": "ODpLc-QPziDI",
        "colab_type": "text"
      },
      "source": [
        "lag에 널값이 있으면 채워줌"
      ]
    },
    {
      "cell_type": "code",
      "metadata": {
        "trusted": true,
        "id": "5E4_qQu2X43i",
        "colab_type": "code",
        "colab": {}
      },
      "source": [
        "def fill_na(df):\n",
        "    for col in df.columns:\n",
        "        if ('_lag_' in col) & (df[col].isnull().any()):\n",
        "            if ('item_cnt' in col):\n",
        "                df[col].fillna(0, inplace=True)         \n",
        "    return df\n",
        "\n",
        "matrix = fill_na(matrix)"
      ],
      "execution_count": 0,
      "outputs": []
    },
    {
      "cell_type": "code",
      "metadata": {
        "_uuid": "00bf3fffc1b143d0555d03b9d79b5fd00d9d0dc9",
        "id": "QRZPPQXCziDJ",
        "colab_type": "code",
        "trusted": true,
        "colab": {}
      },
      "source": [
        "matrix.columns"
      ],
      "execution_count": 0,
      "outputs": []
    },
    {
      "cell_type": "code",
      "metadata": {
        "_uuid": "5f4e4c5c552daf8d4da6999ae4b63f13459b2887",
        "id": "39OfEPXyziDK",
        "colab_type": "code",
        "trusted": true,
        "colab": {}
      },
      "source": [
        "matrix.info()"
      ],
      "execution_count": 0,
      "outputs": []
    },
    {
      "cell_type": "code",
      "metadata": {
        "id": "LI0rk49LMKv2",
        "colab_type": "code",
        "trusted": true,
        "colab": {}
      },
      "source": [
        "matrix.to_pickle('data.pkl')\n",
        "del matrix\n",
        "del cache\n",
        "del group\n",
        "del items\n",
        "del shops\n",
        "del cats\n",
        "del train\n",
        "# leave test for submission\n",
        "gc.collect();"
      ],
      "execution_count": 0,
      "outputs": []
    },
    {
      "cell_type": "code",
      "metadata": {
        "trusted": true,
        "id": "Wywm-N_uX43p",
        "colab_type": "code",
        "colab": {}
      },
      "source": [
        "data = pd.read_pickle('data.pkl')"
      ],
      "execution_count": 0,
      "outputs": []
    },
    {
      "cell_type": "code",
      "metadata": {
        "id": "sXfevGV740E6",
        "colab_type": "code",
        "trusted": true,
        "colab": {}
      },
      "source": [
        "data = data[data['date_block_num']>11]"
      ],
      "execution_count": 0,
      "outputs": []
    },
    {
      "cell_type": "code",
      "metadata": {
        "id": "Tnx6EP-v40LO",
        "colab_type": "code",
        "trusted": true,
        "colab": {}
      },
      "source": [
        "data.head()"
      ],
      "execution_count": 0,
      "outputs": []
    },
    {
      "cell_type": "markdown",
      "metadata": {
        "_uuid": "e5742775554b9e48e4d5c19784184069ad3eb9fb",
        "id": "_BkE6HuqziDO",
        "colab_type": "text"
      },
      "source": [
        "Select perfect features"
      ]
    },
    {
      "cell_type": "code",
      "metadata": {
        "id": "YiNCEJBLPyY3",
        "colab_type": "code",
        "trusted": true,
        "colab": {}
      },
      "source": [
        "data.info()"
      ],
      "execution_count": 0,
      "outputs": []
    },
    {
      "cell_type": "code",
      "metadata": {
        "id": "KoDKyNJiQK6L",
        "colab_type": "code",
        "trusted": true,
        "colab": {}
      },
      "source": [
        "data = data[[\n",
        "    'date_block_num',\n",
        "    'item_cnt_month',\n",
        "    'item_id',                     \n",
        "    'shop_id',                        \n",
        "    'city_code',                         \n",
        "    'shop_type_code',             \n",
        "    'item_category_id',                         \n",
        "    'item_f1_code',         \n",
        "    'item_f2_code',                  \n",
        "    'type_code',                      \n",
        "    'subtype_code',                            \n",
        "    'item_cnt_month_lag_1',                   \n",
        "    'item_cnt_month_lag_2',            \n",
        "    'item_cnt_month_lag_3',                  \n",
        "    'item_cnt_month_lag_6',                  \n",
        "    'item_cnt_month_lag_12',                \n",
        "    'date_avg_item_cnt_lag_1',               \n",
        "    'date_item_avg_item_cnt_lag_1',         \n",
        "    'date_item_avg_item_cnt_lag_2',         \n",
        "    'date_item_avg_item_cnt_lag_3',         \n",
        "    'date_item_avg_item_cnt_lag_6',         \n",
        "    'date_item_avg_item_cnt_lag_12',       \n",
        "    'date_shop_avg_item_cnt_lag_1',        \n",
        "    'date_shop_avg_item_cnt_lag_2',        \n",
        "    'date_shop_avg_item_cnt_lag_3',        \n",
        "    'date_shop_avg_item_cnt_lag_6',        \n",
        "    'date_shop_avg_item_cnt_lag_12',      \n",
        "    'date_cat_avg_item_cnt_lag_1',          \n",
        "    'date_cat_item_f1_avg_item_cnt_lag_1', \n",
        "    'date_cat_item_f2_avg_item_cnt_lag_1', \n",
        "    'date_shop_cat_avg_item_cnt_lag_1',    \n",
        "    #'date_shop_type_avg_item_cnt_lag_1_x',        \n",
        "    'date_shop_subtype_avg_item_cnt_lag_1',       \n",
        "    'date_city_avg_item_cnt_lag_1',               \n",
        "    #'date_shop_type_avg_item_cnt_lag_1_y',      \n",
        "    'date_item_city_avg_item_cnt_lag_1',       \n",
        "    'date_item_shop_type_avg_item_cnt_lag_1',    \n",
        "    #'date_type_avg_item_cnt_lag_1',         \n",
        "    #'date_subtype_avg_item_cnt_lag_1',     \n",
        "    'date_subtype_item_f1_avg_item_cnt_lag_1',\n",
        "    'date_subtype_item_f2_avg_item_cnt_lag_1',    \n",
        "    'delta_price_lag',                      \n",
        "    'delta_revenue_lag_1',                    \n",
        "    'month',                                    \n",
        "    'days',                                       \n",
        "    'item_shop_last_sale',                     \n",
        "    'item_last_sale',                            \n",
        "    'item_shop_first_sale',                    \n",
        "    'item_first_sale',\n",
        "]]     "
      ],
      "execution_count": 0,
      "outputs": []
    },
    {
      "cell_type": "markdown",
      "metadata": {
        "_uuid": "11eb4f2f5ada18aa8993ec55e8c63e80758fc19e",
        "id": "dE783Iz0ziDO",
        "colab_type": "text"
      },
      "source": [
        "Validation strategy is 34 month for the test set, 33 month for the validation set and 13-33 months for the train."
      ]
    },
    {
      "cell_type": "code",
      "metadata": {
        "_uuid": "9af76d7b80064573a453e5e10c35b76fc31c47a4",
        "id": "_sX9FeQIziDP",
        "colab_type": "code",
        "trusted": true,
        "colab": {}
      },
      "source": [
        "X_train = data[data.date_block_num < 33].drop(['item_cnt_month'], axis=1)\n",
        "Y_train = data[data.date_block_num < 33]['item_cnt_month']\n",
        "X_valid = data[data.date_block_num == 33].drop(['item_cnt_month'], axis=1)\n",
        "Y_valid = data[data.date_block_num == 33]['item_cnt_month']\n",
        "X_test = data[data.date_block_num == 34].drop(['item_cnt_month'], axis=1)"
      ],
      "execution_count": 0,
      "outputs": []
    },
    {
      "cell_type": "code",
      "metadata": {
        "_uuid": "6ea5437e8949db6d3e54e68b7b0c18cd0befe38c",
        "id": "m7O8mSKRziDQ",
        "colab_type": "code",
        "trusted": true,
        "colab": {}
      },
      "source": [
        "del data\n",
        "gc.collect();"
      ],
      "execution_count": 0,
      "outputs": []
    },
    {
      "cell_type": "code",
      "metadata": {
        "_uuid": "acef75c36501f808d45f81fc69f9708fc3283bc3",
        "id": "LIqSeCT8ziDR",
        "colab_type": "code",
        "trusted": true,
        "colab": {}
      },
      "source": [
        "model = XGBRegressor(\n",
        "    max_depth=10,\n",
        "    n_estimators=1000,\n",
        "    min_child_weight=300,\n",
        "    colsample_bytree=0.8,\n",
        "    scale_pos_weight=1,\n",
        "    sub_sample=0.8,\n",
        "    eta=0.3,\n",
        "    seed=42)\n",
        "\n",
        "model.fit(\n",
        "    X_train,\n",
        "    Y_train,\n",
        "    eval_metric=\"rmse\",\n",
        "    eval_set=[(X_train, Y_train), (X_valid, Y_valid)],\n",
        "    verbose=True,\n",
        "    early_stopping_rounds=15)"
      ],
      "execution_count": 0,
      "outputs": []
    },
    {
      "cell_type": "code",
      "metadata": {
        "trusted": true,
        "id": "l-XNpXONX437",
        "colab_type": "code",
        "colab": {}
      },
      "source": [
        "Y_pred = model.predict(X_valid).clip(0, 20)\n",
        "Y_test = model.predict(X_test).clip(0, 20)\n",
        "\n",
        "submission = pd.DataFrame({\n",
        "    \"ID\": test.index, \n",
        "    \"item_cnt_month\": Y_test\n",
        "})\n",
        "submission.to_csv('submission.csv', index=False)\n",
        "\n",
        "# save predictions for an ensemble\n",
        "pickle.dump(Y_pred, open('xgb_train.pickle', 'wb'))\n",
        "pickle.dump(Y_test, open('xgb_test.pickle', 'wb'))"
      ],
      "execution_count": 0,
      "outputs": []
    },
    {
      "cell_type": "code",
      "metadata": {
        "trusted": true,
        "id": "JtWcG1uxX43-",
        "colab_type": "code",
        "colab": {}
      },
      "source": [
        "plot_features(model, (10,14))"
      ],
      "execution_count": 0,
      "outputs": []
    },
    {
      "cell_type": "code",
      "metadata": {
        "trusted": true,
        "id": "9WY9esx6X43_",
        "colab_type": "code",
        "colab": {}
      },
      "source": [
        "'''depth_list = [9,10]\n",
        "colsample_list = [0.7, 0.8, 0.9]\n",
        "\n",
        "val_result_list = []\n",
        "val_result_list.append([\"max_depth\", \"colsample_bytree\", \"validation_rmse[0]\", \"validation_rmse[1]\"])\n",
        "\n",
        "for _max_depth in depth_list:\n",
        "    for _colsample in colsample_list:\n",
        "        print(\"[{0}/{1}] model fitting...\".format(_max_depth, _colsample)) \n",
        "        \n",
        "        model = XGBRegressor(\n",
        "            max_depth=_max_depth,\n",
        "            n_estimators=1000,\n",
        "            min_child_weight=300,\n",
        "            colsample_bytree=_colsample,\n",
        "            scale_pos_weight=1,\n",
        "            sub_sample=0.8,\n",
        "            eta=0.3,\n",
        "            seed=42)\n",
        "\n",
        "        model.fit(\n",
        "            X_train,\n",
        "            Y_train,\n",
        "            eval_metric=\"rmse\",\n",
        "            eval_set=[(X_train, Y_train), (X_valid, Y_valid)],\n",
        "            verbose=True,\n",
        "            early_stopping_rounds=10)\n",
        "\n",
        "        evals_result = model.evals_result()\n",
        "\n",
        "        val_result_list.append([_max_depth, _colsample, evals_result['validation_1']['rmse'][0], evals_result['validation_1']['rmse'][1]])\n",
        "\n",
        "        print(\"[{0}/{1}] : val_rsme_0 = {2}, val_rsme_1 = {3}]\".format(_max_depth, _colsample, evals_result['validation_1']['rmse'][0], evals_result['validation_1']['rmse'][1]))\n",
        "\n",
        "pd.DataFrame(val_result_list).to_csv(\"validation_result.csv\", sep=',', header=None, index=None, encoding='cp949')'''"
      ],
      "execution_count": 0,
      "outputs": []
    },
    {
      "cell_type": "code",
      "metadata": {
        "trusted": true,
        "id": "zD9RJueXX44A",
        "colab_type": "code",
        "colab": {}
      },
      "source": [
        ""
      ],
      "execution_count": 0,
      "outputs": []
    }
  ]
}