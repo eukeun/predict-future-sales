{
  "nbformat": 4,
  "nbformat_minor": 0,
  "metadata": {
    "kernelspec": {
      "display_name": "Python 3",
      "language": "python",
      "name": "python3"
    },
    "language_info": {
      "codemirror_mode": {
        "name": "ipython",
        "version": 3
      },
      "file_extension": ".py",
      "mimetype": "text/x-python",
      "name": "python",
      "nbconvert_exporter": "python",
      "pygments_lexer": "ipython3",
      "version": "3.6.4"
    },
    "colab": {
      "name": "feature-engineering-xgboost.ipynb",
      "provenance": [],
      "machine_shape": "hm",
      "include_colab_link": true
    }
  },
  "cells": [
    {
      "cell_type": "markdown",
      "metadata": {
        "id": "view-in-github",
        "colab_type": "text"
      },
      "source": [
        "<a href=\"https://colab.research.google.com/github/eukeun/predict-future-sales/blob/master/feature_engineering_xgboost.ipynb\" target=\"_parent\"><img src=\"https://colab.research.google.com/assets/colab-badge.svg\" alt=\"Open In Colab\"/></a>"
      ]
    },
    {
      "cell_type": "markdown",
      "metadata": {
        "_uuid": "f03379ee467570732ebb2b3d20062fea0584d57d",
        "id": "dpYQRb3dziBT",
        "colab_type": "text"
      },
      "source": [
        "# Part 1, perfect features"
      ]
    },
    {
      "cell_type": "code",
      "metadata": {
        "_cell_guid": "b1076dfc-b9ad-4769-8c92-a6c4dae69d19",
        "_uuid": "8f2839f25d086af736a60e9eeb907d3b93b6e0e5",
        "id": "CYkbOvSzziBV",
        "colab_type": "code",
        "outputId": "083558ba-68eb-46be-ff74-3d6d9e2fb5a4",
        "colab": {
          "base_uri": "https://localhost:8080/",
          "height": 35
        }
      },
      "source": [
        "import numpy as np\n",
        "import pandas as pd\n",
        "import re\n",
        "\n",
        "from itertools import product\n",
        "from sklearn.preprocessing import LabelEncoder\n",
        "\n",
        "import seaborn as sns\n",
        "sns.set_style('darkgrid')\n",
        "import matplotlib.pyplot as plt\n",
        "%matplotlib inline\n",
        "\n",
        "from xgboost import XGBRegressor\n",
        "from xgboost import plot_importance\n",
        "\n",
        "def plot_features(booster, figsize):    \n",
        "    fig, ax = plt.subplots(1,1,figsize=figsize)\n",
        "    return plot_importance(booster=booster, ax=ax)\n",
        "\n",
        "import time\n",
        "import sys\n",
        "import gc\n",
        "import pickle\n",
        "sys.version_info"
      ],
      "execution_count": 0,
      "outputs": [
        {
          "output_type": "execute_result",
          "data": {
            "text/plain": [
              "sys.version_info(major=3, minor=6, micro=8, releaselevel='final', serial=0)"
            ]
          },
          "metadata": {
            "tags": []
          },
          "execution_count": 1
        }
      ]
    },
    {
      "cell_type": "code",
      "metadata": {
        "id": "cHKdjeLwzqrA",
        "colab_type": "code",
        "outputId": "af5fd7b4-0023-4047-be7c-03628810a7fb",
        "colab": {
          "base_uri": "https://localhost:8080/",
          "height": 127
        }
      },
      "source": [
        "from google.colab import drive\n",
        "drive.mount('/content/drive')"
      ],
      "execution_count": 0,
      "outputs": [
        {
          "output_type": "stream",
          "text": [
            "Go to this URL in a browser: https://accounts.google.com/o/oauth2/auth?client_id=947318989803-6bn6qk8qdgf4n4g3pfee6491hc0brc4i.apps.googleusercontent.com&redirect_uri=urn%3aietf%3awg%3aoauth%3a2.0%3aoob&response_type=code&scope=email%20https%3a%2f%2fwww.googleapis.com%2fauth%2fdocs.test%20https%3a%2f%2fwww.googleapis.com%2fauth%2fdrive%20https%3a%2f%2fwww.googleapis.com%2fauth%2fdrive.photos.readonly%20https%3a%2f%2fwww.googleapis.com%2fauth%2fpeopleapi.readonly\n",
            "\n",
            "Enter your authorization code:\n",
            "··········\n",
            "Mounted at /content/drive\n"
          ],
          "name": "stdout"
        }
      ]
    },
    {
      "cell_type": "code",
      "metadata": {
        "id": "nbSG7l5Zzrix",
        "colab_type": "code",
        "colab": {}
      },
      "source": [
        "items = pd.read_csv('/content/drive/My Drive/data/items_t.csv')\n",
        "shops = pd.read_csv('/content/drive/My Drive/data/shops_t.csv')\n",
        "cats = pd.read_csv('/content/drive/My Drive/data/item_categories_t.csv')\n",
        "train = pd.read_csv('/content/drive/My Drive/data/sales_train.csv')\n",
        "test = pd.read_csv('/content/drive/My Drive/data/test.csv').set_index('ID')"
      ],
      "execution_count": 0,
      "outputs": []
    },
    {
      "cell_type": "code",
      "metadata": {
        "id": "Y8JfsrJRziBZ",
        "colab_type": "code",
        "outputId": "5575fd3f-6f13-4bd5-c187-e58657055a6b",
        "colab": {
          "base_uri": "https://localhost:8080/",
          "height": 35
        }
      },
      "source": [
        "sum(train.duplicated()), sum(test.duplicated())"
      ],
      "execution_count": 0,
      "outputs": [
        {
          "output_type": "execute_result",
          "data": {
            "text/plain": [
              "(6, 0)"
            ]
          },
          "metadata": {
            "tags": []
          },
          "execution_count": 4
        }
      ]
    },
    {
      "cell_type": "code",
      "metadata": {
        "id": "IJKGmA97ziBc",
        "colab_type": "code",
        "outputId": "c976f4e0-d7bc-4158-8aa4-227531e1447a",
        "colab": {
          "base_uri": "https://localhost:8080/",
          "height": 35
        }
      },
      "source": [
        "sum(items.duplicated()), sum(cats.duplicated()), sum(shops.duplicated())"
      ],
      "execution_count": 0,
      "outputs": [
        {
          "output_type": "execute_result",
          "data": {
            "text/plain": [
              "(0, 0, 0)"
            ]
          },
          "metadata": {
            "tags": []
          },
          "execution_count": 5
        }
      ]
    },
    {
      "cell_type": "code",
      "metadata": {
        "id": "W95uZCsGziBe",
        "colab_type": "code",
        "outputId": "38e9487f-0847-47fe-c902-92ac3469d347",
        "colab": {
          "base_uri": "https://localhost:8080/",
          "height": 235
        }
      },
      "source": [
        "train[train.duplicated() == True]"
      ],
      "execution_count": 0,
      "outputs": [
        {
          "output_type": "execute_result",
          "data": {
            "text/html": [
              "<div>\n",
              "<style scoped>\n",
              "    .dataframe tbody tr th:only-of-type {\n",
              "        vertical-align: middle;\n",
              "    }\n",
              "\n",
              "    .dataframe tbody tr th {\n",
              "        vertical-align: top;\n",
              "    }\n",
              "\n",
              "    .dataframe thead th {\n",
              "        text-align: right;\n",
              "    }\n",
              "</style>\n",
              "<table border=\"1\" class=\"dataframe\">\n",
              "  <thead>\n",
              "    <tr style=\"text-align: right;\">\n",
              "      <th></th>\n",
              "      <th>date</th>\n",
              "      <th>date_block_num</th>\n",
              "      <th>shop_id</th>\n",
              "      <th>item_id</th>\n",
              "      <th>item_price</th>\n",
              "      <th>item_cnt_day</th>\n",
              "    </tr>\n",
              "  </thead>\n",
              "  <tbody>\n",
              "    <tr>\n",
              "      <th>76962</th>\n",
              "      <td>05.01.2013</td>\n",
              "      <td>0</td>\n",
              "      <td>54</td>\n",
              "      <td>20130</td>\n",
              "      <td>149.0</td>\n",
              "      <td>1.0</td>\n",
              "    </tr>\n",
              "    <tr>\n",
              "      <th>1435367</th>\n",
              "      <td>23.02.2014</td>\n",
              "      <td>13</td>\n",
              "      <td>50</td>\n",
              "      <td>3423</td>\n",
              "      <td>999.0</td>\n",
              "      <td>1.0</td>\n",
              "    </tr>\n",
              "    <tr>\n",
              "      <th>1496766</th>\n",
              "      <td>23.03.2014</td>\n",
              "      <td>14</td>\n",
              "      <td>21</td>\n",
              "      <td>3423</td>\n",
              "      <td>999.0</td>\n",
              "      <td>1.0</td>\n",
              "    </tr>\n",
              "    <tr>\n",
              "      <th>1671873</th>\n",
              "      <td>01.05.2014</td>\n",
              "      <td>16</td>\n",
              "      <td>50</td>\n",
              "      <td>3423</td>\n",
              "      <td>999.0</td>\n",
              "      <td>1.0</td>\n",
              "    </tr>\n",
              "    <tr>\n",
              "      <th>1866340</th>\n",
              "      <td>12.07.2014</td>\n",
              "      <td>18</td>\n",
              "      <td>25</td>\n",
              "      <td>3423</td>\n",
              "      <td>999.0</td>\n",
              "      <td>1.0</td>\n",
              "    </tr>\n",
              "    <tr>\n",
              "      <th>2198566</th>\n",
              "      <td>31.12.2014</td>\n",
              "      <td>23</td>\n",
              "      <td>42</td>\n",
              "      <td>21619</td>\n",
              "      <td>499.0</td>\n",
              "      <td>1.0</td>\n",
              "    </tr>\n",
              "  </tbody>\n",
              "</table>\n",
              "</div>"
            ],
            "text/plain": [
              "               date  date_block_num  shop_id  item_id  item_price  item_cnt_day\n",
              "76962    05.01.2013               0       54    20130       149.0           1.0\n",
              "1435367  23.02.2014              13       50     3423       999.0           1.0\n",
              "1496766  23.03.2014              14       21     3423       999.0           1.0\n",
              "1671873  01.05.2014              16       50     3423       999.0           1.0\n",
              "1866340  12.07.2014              18       25     3423       999.0           1.0\n",
              "2198566  31.12.2014              23       42    21619       499.0           1.0"
            ]
          },
          "metadata": {
            "tags": []
          },
          "execution_count": 6
        }
      ]
    },
    {
      "cell_type": "code",
      "metadata": {
        "id": "1HmWTHx5ziBf",
        "colab_type": "code",
        "colab": {}
      },
      "source": [
        "# 중복 제거\n",
        "train.drop_duplicates(inplace=True)"
      ],
      "execution_count": 0,
      "outputs": []
    },
    {
      "cell_type": "code",
      "metadata": {
        "id": "ENYd5Z9PziBh",
        "colab_type": "code",
        "outputId": "20e18ff3-d3a3-4ab0-d971-2c2fe5f21610",
        "colab": {
          "base_uri": "https://localhost:8080/",
          "height": 35
        }
      },
      "source": [
        "sum(train.duplicated())"
      ],
      "execution_count": 0,
      "outputs": [
        {
          "output_type": "execute_result",
          "data": {
            "text/plain": [
              "0"
            ]
          },
          "metadata": {
            "tags": []
          },
          "execution_count": 8
        }
      ]
    },
    {
      "cell_type": "markdown",
      "metadata": {
        "_uuid": "425d8f2dc08378977b393bf80c5fdcf0fba2c992",
        "id": "NHyrlT2xziBj",
        "colab_type": "text"
      },
      "source": [
        "There are items with strange prices and sales. After detailed exploration I decided to remove items with price > 100000 and sales > 1001 (1000 is ok)."
      ]
    },
    {
      "cell_type": "code",
      "metadata": {
        "_uuid": "5a864412fafc3129a3e9bd5bb1f18a7cf0c62935",
        "id": "wrR7AffGziBj",
        "colab_type": "code",
        "outputId": "8eecc3ad-427d-42f7-9174-9d3664633cf4",
        "colab": {
          "base_uri": "https://localhost:8080/",
          "height": 561
        }
      },
      "source": [
        "plt.figure(figsize=(10,4))\n",
        "plt.xlim(-100, 3000)\n",
        "sns.boxplot(x=train.item_cnt_day)\n",
        "\n",
        "plt.figure(figsize=(10,4))\n",
        "plt.xlim(train.item_price.min(), train.item_price.max()*1.1)\n",
        "sns.boxplot(x=train.item_price)"
      ],
      "execution_count": 0,
      "outputs": [
        {
          "output_type": "execute_result",
          "data": {
            "text/plain": [
              "<matplotlib.axes._subplots.AxesSubplot at 0x7f7be55a9358>"
            ]
          },
          "metadata": {
            "tags": []
          },
          "execution_count": 9
        },
        {
          "output_type": "display_data",
          "data": {
            "image/png": "[encoded data removed]",
            "text/plain": [
              "<Figure size 720x288 with 1 Axes>"
            ]
          },
          "metadata": {
            "tags": []
          }
        },
        {
          "output_type": "display_data",
          "data": {
            "image/png": "[encoded data removed]",
            "text/plain": [
              "<Figure size 720x288 with 1 Axes>"
            ]
          },
          "metadata": {
            "tags": []
          }
        }
      ]
    },
    {
      "cell_type": "code",
      "metadata": {
        "_uuid": "7e621535d112603c60aeb2c2f83dbbf96d36b732",
        "id": "tueI5FWHziBl",
        "colab_type": "code",
        "colab": {}
      },
      "source": [
        "train = train[train.item_price<100000]\n",
        "train = train[train.item_cnt_day<1001]"
      ],
      "execution_count": 0,
      "outputs": []
    },
    {
      "cell_type": "code",
      "metadata": {
        "id": "3Gz00f0sziBm",
        "colab_type": "code",
        "outputId": "f3911749-3b67-4274-9b50-4a7c7786869f",
        "colab": {
          "base_uri": "https://localhost:8080/",
          "height": 80
        }
      },
      "source": [
        "train[train['item_price']<0]"
      ],
      "execution_count": 0,
      "outputs": [
        {
          "output_type": "execute_result",
          "data": {
            "text/html": [
              "<div>\n",
              "<style scoped>\n",
              "    .dataframe tbody tr th:only-of-type {\n",
              "        vertical-align: middle;\n",
              "    }\n",
              "\n",
              "    .dataframe tbody tr th {\n",
              "        vertical-align: top;\n",
              "    }\n",
              "\n",
              "    .dataframe thead th {\n",
              "        text-align: right;\n",
              "    }\n",
              "</style>\n",
              "<table border=\"1\" class=\"dataframe\">\n",
              "  <thead>\n",
              "    <tr style=\"text-align: right;\">\n",
              "      <th></th>\n",
              "      <th>date</th>\n",
              "      <th>date_block_num</th>\n",
              "      <th>shop_id</th>\n",
              "      <th>item_id</th>\n",
              "      <th>item_price</th>\n",
              "      <th>item_cnt_day</th>\n",
              "    </tr>\n",
              "  </thead>\n",
              "  <tbody>\n",
              "    <tr>\n",
              "      <th>484683</th>\n",
              "      <td>15.05.2013</td>\n",
              "      <td>4</td>\n",
              "      <td>32</td>\n",
              "      <td>2973</td>\n",
              "      <td>-1.0</td>\n",
              "      <td>1.0</td>\n",
              "    </tr>\n",
              "  </tbody>\n",
              "</table>\n",
              "</div>"
            ],
            "text/plain": [
              "              date  date_block_num  shop_id  item_id  item_price  item_cnt_day\n",
              "484683  15.05.2013               4       32     2973        -1.0           1.0"
            ]
          },
          "metadata": {
            "tags": []
          },
          "execution_count": 11
        }
      ]
    },
    {
      "cell_type": "markdown",
      "metadata": {
        "_uuid": "d2f99368478e3063b1c379537944e954d7186928",
        "id": "ga7wNOleziBo",
        "colab_type": "text"
      },
      "source": [
        "There is one item with price below zero. Fill it with median."
      ]
    },
    {
      "cell_type": "code",
      "metadata": {
        "_uuid": "0fc6b90b22fe232f4240ac8f965cc52b3db5526a",
        "id": "2TisyvuIziBp",
        "colab_type": "code",
        "colab": {}
      },
      "source": [
        "median = train[(train.shop_id==32)&(train.item_id==2973)&(train.date_block_num==4)&(train.item_price>0)].item_price.median()\n",
        "train.loc[train.item_price<0, 'item_price'] = median"
      ],
      "execution_count": 0,
      "outputs": []
    },
    {
      "cell_type": "code",
      "metadata": {
        "id": "4S955OHNziBq",
        "colab_type": "code",
        "outputId": "3714cef3-9c67-460d-8427-981cf32aa86c",
        "colab": {
          "base_uri": "https://localhost:8080/",
          "height": 35
        }
      },
      "source": [
        "train.shape"
      ],
      "execution_count": 0,
      "outputs": [
        {
          "output_type": "execute_result",
          "data": {
            "text/plain": [
              "(2935841, 6)"
            ]
          },
          "metadata": {
            "tags": []
          },
          "execution_count": 13
        }
      ]
    },
    {
      "cell_type": "code",
      "metadata": {
        "id": "3p14SIlHziBs",
        "colab_type": "code",
        "outputId": "3fdd825c-5cf0-4905-e06b-ebb67ac30389",
        "colab": {
          "base_uri": "https://localhost:8080/",
          "height": 35
        }
      },
      "source": [
        "train.drop_duplicates(subset=['date','date_block_num','shop_id','item_id','item_cnt_day'], inplace=True)\n",
        "train.shape"
      ],
      "execution_count": 0,
      "outputs": [
        {
          "output_type": "execute_result",
          "data": {
            "text/plain": [
              "(2935823, 6)"
            ]
          },
          "metadata": {
            "tags": []
          },
          "execution_count": 14
        }
      ]
    },
    {
      "cell_type": "markdown",
      "metadata": {
        "_uuid": "7da194c285d696b5c6978148bf0143b9b2a7b0c5",
        "id": "Y95o2kNoziBv",
        "colab_type": "text"
      },
      "source": [
        "Several shops are duplicates of each other (according to its name). Fix train and test set."
      ]
    },
    {
      "cell_type": "code",
      "metadata": {
        "_uuid": "00fe91e9c482ea413abd774ff903fe3d152785dd",
        "id": "UQV0HuLHziBw",
        "colab_type": "code",
        "colab": {}
      },
      "source": [
        "# Якутск Орджоникидзе, 56\n",
        "train.loc[train.shop_id == 0, 'shop_id'] = 57\n",
        "test.loc[test.shop_id == 0, 'shop_id'] = 57\n",
        "# Якутск ТЦ \"Центральный\"\n",
        "train.loc[train.shop_id == 1, 'shop_id'] = 58\n",
        "test.loc[test.shop_id == 1, 'shop_id'] = 58\n",
        "# Жуковский ул. Чкалова 39м²\n",
        "train.loc[train.shop_id == 10, 'shop_id'] = 11\n",
        "test.loc[test.shop_id == 10, 'shop_id'] = 11"
      ],
      "execution_count": 0,
      "outputs": []
    },
    {
      "cell_type": "markdown",
      "metadata": {
        "_uuid": "a30f0521464e1fa20444e66d24bbdcb76b93f6de",
        "id": "AIW-1xc9ziBx",
        "colab_type": "text"
      },
      "source": [
        "## Shops/Cats/Items preprocessing\n",
        "Observations:\n",
        "* Each shop_name starts with the city name.\n",
        "* Each category contains type and subtype in its name."
      ]
    },
    {
      "cell_type": "code",
      "metadata": {
        "id": "znjMJiTwziBy",
        "colab_type": "code",
        "outputId": "99ae20a1-05fe-4935-cab1-fc30048e3919",
        "colab": {
          "base_uri": "https://localhost:8080/",
          "height": 204
        }
      },
      "source": [
        "items.head()"
      ],
      "execution_count": 0,
      "outputs": [
        {
          "output_type": "execute_result",
          "data": {
            "text/html": [
              "<div>\n",
              "<style scoped>\n",
              "    .dataframe tbody tr th:only-of-type {\n",
              "        vertical-align: middle;\n",
              "    }\n",
              "\n",
              "    .dataframe tbody tr th {\n",
              "        vertical-align: top;\n",
              "    }\n",
              "\n",
              "    .dataframe thead th {\n",
              "        text-align: right;\n",
              "    }\n",
              "</style>\n",
              "<table border=\"1\" class=\"dataframe\">\n",
              "  <thead>\n",
              "    <tr style=\"text-align: right;\">\n",
              "      <th></th>\n",
              "      <th>item_name</th>\n",
              "      <th>item_id</th>\n",
              "      <th>item_category_id</th>\n",
              "    </tr>\n",
              "  </thead>\n",
              "  <tbody>\n",
              "    <tr>\n",
              "      <th>0</th>\n",
              "      <td>!! IN THE POWER OF HAPPINESS (PLAST) D</td>\n",
              "      <td>0</td>\n",
              "      <td>40</td>\n",
              "    </tr>\n",
              "    <tr>\n",
              "      <th>1</th>\n",
              "      <td>! ABBYY FineReader 12 Professional Edition Ful...</td>\n",
              "      <td>1</td>\n",
              "      <td>76</td>\n",
              "    </tr>\n",
              "    <tr>\n",
              "      <th>2</th>\n",
              "      <td>*** IN THE GLORY OF THE GLORY (UNV) D</td>\n",
              "      <td>2</td>\n",
              "      <td>40</td>\n",
              "    </tr>\n",
              "    <tr>\n",
              "      <th>3</th>\n",
              "      <td>*** BLUE WAVE (Univ) D</td>\n",
              "      <td>3</td>\n",
              "      <td>40</td>\n",
              "    </tr>\n",
              "    <tr>\n",
              "      <th>4</th>\n",
              "      <td>*** BOX (GLASS) D</td>\n",
              "      <td>4</td>\n",
              "      <td>40</td>\n",
              "    </tr>\n",
              "  </tbody>\n",
              "</table>\n",
              "</div>"
            ],
            "text/plain": [
              "                                           item_name  item_id  item_category_id\n",
              "0             !! IN THE POWER OF HAPPINESS (PLAST) D        0                40\n",
              "1  ! ABBYY FineReader 12 Professional Edition Ful...        1                76\n",
              "2              *** IN THE GLORY OF THE GLORY (UNV) D        2                40\n",
              "3                             *** BLUE WAVE (Univ) D        3                40\n",
              "4                                  *** BOX (GLASS) D        4                40"
            ]
          },
          "metadata": {
            "tags": []
          },
          "execution_count": 16
        }
      ]
    },
    {
      "cell_type": "code",
      "metadata": {
        "id": "6PuvXs_ZziB0",
        "colab_type": "code",
        "outputId": "88c3b9fe-0ac5-4bc4-bea5-e74a5a2f45f0",
        "colab": {
          "base_uri": "https://localhost:8080/",
          "height": 204
        }
      },
      "source": [
        "items.head()"
      ],
      "execution_count": 0,
      "outputs": [
        {
          "output_type": "execute_result",
          "data": {
            "text/html": [
              "<div>\n",
              "<style scoped>\n",
              "    .dataframe tbody tr th:only-of-type {\n",
              "        vertical-align: middle;\n",
              "    }\n",
              "\n",
              "    .dataframe tbody tr th {\n",
              "        vertical-align: top;\n",
              "    }\n",
              "\n",
              "    .dataframe thead th {\n",
              "        text-align: right;\n",
              "    }\n",
              "</style>\n",
              "<table border=\"1\" class=\"dataframe\">\n",
              "  <thead>\n",
              "    <tr style=\"text-align: right;\">\n",
              "      <th></th>\n",
              "      <th>item_name</th>\n",
              "      <th>item_id</th>\n",
              "      <th>item_category_id</th>\n",
              "    </tr>\n",
              "  </thead>\n",
              "  <tbody>\n",
              "    <tr>\n",
              "      <th>0</th>\n",
              "      <td>!! IN THE POWER OF HAPPINESS (PLAST) D</td>\n",
              "      <td>0</td>\n",
              "      <td>40</td>\n",
              "    </tr>\n",
              "    <tr>\n",
              "      <th>1</th>\n",
              "      <td>! ABBYY FineReader 12 Professional Edition Ful...</td>\n",
              "      <td>1</td>\n",
              "      <td>76</td>\n",
              "    </tr>\n",
              "    <tr>\n",
              "      <th>2</th>\n",
              "      <td>*** IN THE GLORY OF THE GLORY (UNV) D</td>\n",
              "      <td>2</td>\n",
              "      <td>40</td>\n",
              "    </tr>\n",
              "    <tr>\n",
              "      <th>3</th>\n",
              "      <td>*** BLUE WAVE (Univ) D</td>\n",
              "      <td>3</td>\n",
              "      <td>40</td>\n",
              "    </tr>\n",
              "    <tr>\n",
              "      <th>4</th>\n",
              "      <td>*** BOX (GLASS) D</td>\n",
              "      <td>4</td>\n",
              "      <td>40</td>\n",
              "    </tr>\n",
              "  </tbody>\n",
              "</table>\n",
              "</div>"
            ],
            "text/plain": [
              "                                           item_name  item_id  item_category_id\n",
              "0             !! IN THE POWER OF HAPPINESS (PLAST) D        0                40\n",
              "1  ! ABBYY FineReader 12 Professional Edition Ful...        1                76\n",
              "2              *** IN THE GLORY OF THE GLORY (UNV) D        2                40\n",
              "3                             *** BLUE WAVE (Univ) D        3                40\n",
              "4                                  *** BOX (GLASS) D        4                40"
            ]
          },
          "metadata": {
            "tags": []
          },
          "execution_count": 17
        }
      ]
    },
    {
      "cell_type": "code",
      "metadata": {
        "id": "s3msCE2XziB2",
        "colab_type": "code",
        "outputId": "366ab910-3055-42a7-8b2a-f77998367865",
        "colab": {
          "base_uri": "https://localhost:8080/",
          "height": 35
        }
      },
      "source": [
        "item_names = items.item_name.values\n",
        "p = re.compile(r'\\((.*?)\\)', re.S)\n",
        "features = []\n",
        "for o in item_names:\n",
        "    features.append(re.findall(p, o)[-2:])\n",
        "features[:5]"
      ],
      "execution_count": 0,
      "outputs": [
        {
          "output_type": "execute_result",
          "data": {
            "text/plain": [
              "[['PLAST'], [], ['UNV'], ['Univ'], ['GLASS']]"
            ]
          },
          "metadata": {
            "tags": []
          },
          "execution_count": 18
        }
      ]
    },
    {
      "cell_type": "code",
      "metadata": {
        "id": "uGFWls-WziB3",
        "colab_type": "code",
        "colab": {}
      },
      "source": [
        "item_f1 = []\n",
        "item_f2 = []\n",
        "\n",
        "for o in features:\n",
        "    if len(o) == 0:\n",
        "        item_f1.append(np.nan)\n",
        "        item_f2.append(np.nan)\n",
        "    elif len(o) == 1:\n",
        "        item_f1.append(o[0])\n",
        "        item_f2.append(np.nan)\n",
        "    else:\n",
        "        item_f1.append(o[1])\n",
        "        item_f2.append(o[0])"
      ],
      "execution_count": 0,
      "outputs": []
    },
    {
      "cell_type": "code",
      "metadata": {
        "id": "FSWQTi6dziB7",
        "colab_type": "code",
        "outputId": "1ef74177-6229-4201-c8c6-a0ee4fdd4b3d",
        "colab": {
          "base_uri": "https://localhost:8080/",
          "height": 204
        }
      },
      "source": [
        "items['item_f1'] = pd.Series(item_f1)\n",
        "items['item_f2'] = pd.Series(item_f2)\n",
        "items['item_f1_code'] = LabelEncoder().fit_transform(items['item_f1'].fillna('xxx')).astype(np.int16)\n",
        "items['item_f2_code'] = LabelEncoder().fit_transform(items['item_f2'].fillna('xxx')).astype(np.int16)\n",
        "\n",
        "items.drop(['item_f1', 'item_f2'], 1, inplace=True)\n",
        "items.drop(['item_name'], axis=1, inplace=True)\n",
        "items.head()"
      ],
      "execution_count": 0,
      "outputs": [
        {
          "output_type": "execute_result",
          "data": {
            "text/html": [
              "<div>\n",
              "<style scoped>\n",
              "    .dataframe tbody tr th:only-of-type {\n",
              "        vertical-align: middle;\n",
              "    }\n",
              "\n",
              "    .dataframe tbody tr th {\n",
              "        vertical-align: top;\n",
              "    }\n",
              "\n",
              "    .dataframe thead th {\n",
              "        text-align: right;\n",
              "    }\n",
              "</style>\n",
              "<table border=\"1\" class=\"dataframe\">\n",
              "  <thead>\n",
              "    <tr style=\"text-align: right;\">\n",
              "      <th></th>\n",
              "      <th>item_id</th>\n",
              "      <th>item_category_id</th>\n",
              "      <th>item_f1_code</th>\n",
              "      <th>item_f2_code</th>\n",
              "    </tr>\n",
              "  </thead>\n",
              "  <tbody>\n",
              "    <tr>\n",
              "      <th>0</th>\n",
              "      <td>0</td>\n",
              "      <td>40</td>\n",
              "      <td>737</td>\n",
              "      <td>255</td>\n",
              "    </tr>\n",
              "    <tr>\n",
              "      <th>1</th>\n",
              "      <td>1</td>\n",
              "      <td>76</td>\n",
              "      <td>1136</td>\n",
              "      <td>255</td>\n",
              "    </tr>\n",
              "    <tr>\n",
              "      <th>2</th>\n",
              "      <td>2</td>\n",
              "      <td>40</td>\n",
              "      <td>881</td>\n",
              "      <td>255</td>\n",
              "    </tr>\n",
              "    <tr>\n",
              "      <th>3</th>\n",
              "      <td>3</td>\n",
              "      <td>40</td>\n",
              "      <td>886</td>\n",
              "      <td>255</td>\n",
              "    </tr>\n",
              "    <tr>\n",
              "      <th>4</th>\n",
              "      <td>4</td>\n",
              "      <td>40</td>\n",
              "      <td>580</td>\n",
              "      <td>255</td>\n",
              "    </tr>\n",
              "  </tbody>\n",
              "</table>\n",
              "</div>"
            ],
            "text/plain": [
              "   item_id  item_category_id  item_f1_code  item_f2_code\n",
              "0        0                40           737           255\n",
              "1        1                76          1136           255\n",
              "2        2                40           881           255\n",
              "3        3                40           886           255\n",
              "4        4                40           580           255"
            ]
          },
          "metadata": {
            "tags": []
          },
          "execution_count": 20
        }
      ]
    },
    {
      "cell_type": "code",
      "metadata": {
        "_uuid": "12fae4c8d0c8f3e817307d1e0ffc6831e9a8d696",
        "id": "7vM-PE4eziB_",
        "colab_type": "code",
        "outputId": "b4287c71-e396-4e90-f91b-5edd783ae947",
        "colab": {
          "base_uri": "https://localhost:8080/",
          "height": 204
        }
      },
      "source": [
        "shops['city_code'] = LabelEncoder().fit_transform(shops['City'])\n",
        "shops['shop_type_code'] = LabelEncoder().fit_transform(shops['Type'])\n",
        "shops = shops[['shop_id','city_code','shop_type_code']]\n",
        "shops.head()"
      ],
      "execution_count": 0,
      "outputs": [
        {
          "output_type": "execute_result",
          "data": {
            "text/html": [
              "<div>\n",
              "<style scoped>\n",
              "    .dataframe tbody tr th:only-of-type {\n",
              "        vertical-align: middle;\n",
              "    }\n",
              "\n",
              "    .dataframe tbody tr th {\n",
              "        vertical-align: top;\n",
              "    }\n",
              "\n",
              "    .dataframe thead th {\n",
              "        text-align: right;\n",
              "    }\n",
              "</style>\n",
              "<table border=\"1\" class=\"dataframe\">\n",
              "  <thead>\n",
              "    <tr style=\"text-align: right;\">\n",
              "      <th></th>\n",
              "      <th>shop_id</th>\n",
              "      <th>city_code</th>\n",
              "      <th>shop_type_code</th>\n",
              "    </tr>\n",
              "  </thead>\n",
              "  <tbody>\n",
              "    <tr>\n",
              "      <th>0</th>\n",
              "      <td>0</td>\n",
              "      <td>26</td>\n",
              "      <td>3</td>\n",
              "    </tr>\n",
              "    <tr>\n",
              "      <th>1</th>\n",
              "      <td>1</td>\n",
              "      <td>26</td>\n",
              "      <td>4</td>\n",
              "    </tr>\n",
              "    <tr>\n",
              "      <th>2</th>\n",
              "      <td>2</td>\n",
              "      <td>0</td>\n",
              "      <td>4</td>\n",
              "    </tr>\n",
              "    <tr>\n",
              "      <th>3</th>\n",
              "      <td>3</td>\n",
              "      <td>1</td>\n",
              "      <td>5</td>\n",
              "    </tr>\n",
              "    <tr>\n",
              "      <th>4</th>\n",
              "      <td>4</td>\n",
              "      <td>23</td>\n",
              "      <td>4</td>\n",
              "    </tr>\n",
              "  </tbody>\n",
              "</table>\n",
              "</div>"
            ],
            "text/plain": [
              "   shop_id  city_code  shop_type_code\n",
              "0        0         26               3\n",
              "1        1         26               4\n",
              "2        2          0               4\n",
              "3        3          1               5\n",
              "4        4         23               4"
            ]
          },
          "metadata": {
            "tags": []
          },
          "execution_count": 21
        }
      ]
    },
    {
      "cell_type": "code",
      "metadata": {
        "id": "7d4SxudsziCA",
        "colab_type": "code",
        "outputId": "0d262622-df27-4d12-bdd0-a5fe53302cda",
        "colab": {
          "base_uri": "https://localhost:8080/",
          "height": 179
        }
      },
      "source": [
        "items.info()"
      ],
      "execution_count": 0,
      "outputs": [
        {
          "output_type": "stream",
          "text": [
            "<class 'pandas.core.frame.DataFrame'>\n",
            "RangeIndex: 22170 entries, 0 to 22169\n",
            "Data columns (total 4 columns):\n",
            "item_id             22170 non-null int64\n",
            "item_category_id    22170 non-null int64\n",
            "item_f1_code        22170 non-null int16\n",
            "item_f2_code        22170 non-null int16\n",
            "dtypes: int16(2), int64(2)\n",
            "memory usage: 433.1 KB\n"
          ],
          "name": "stdout"
        }
      ]
    },
    {
      "cell_type": "code",
      "metadata": {
        "id": "2lk_QXBGziCC",
        "colab_type": "code",
        "outputId": "905dc4e3-2014-447b-a550-e701ccfad826",
        "colab": {
          "base_uri": "https://localhost:8080/",
          "height": 204
        }
      },
      "source": [
        "cats['split'] = cats['item_category_name'].str.split('-')\n",
        "cats['type'] = cats['split'].map(lambda x: x[0].strip())\n",
        "cats['type_code'] = LabelEncoder().fit_transform(cats['type'])\n",
        "\n",
        "cats['subtype'] = cats['split'].map(lambda x: x[1].strip() if len(x) > 1 else x[0].strip())\n",
        "cats['subtype_code'] = LabelEncoder().fit_transform(cats['subtype'])\n",
        "cats = cats[['item_category_id','type_code', 'subtype_code']]\n",
        "\n",
        "cats.head()"
      ],
      "execution_count": 0,
      "outputs": [
        {
          "output_type": "execute_result",
          "data": {
            "text/html": [
              "<div>\n",
              "<style scoped>\n",
              "    .dataframe tbody tr th:only-of-type {\n",
              "        vertical-align: middle;\n",
              "    }\n",
              "\n",
              "    .dataframe tbody tr th {\n",
              "        vertical-align: top;\n",
              "    }\n",
              "\n",
              "    .dataframe thead th {\n",
              "        text-align: right;\n",
              "    }\n",
              "</style>\n",
              "<table border=\"1\" class=\"dataframe\">\n",
              "  <thead>\n",
              "    <tr style=\"text-align: right;\">\n",
              "      <th></th>\n",
              "      <th>item_category_id</th>\n",
              "      <th>type_code</th>\n",
              "      <th>subtype_code</th>\n",
              "    </tr>\n",
              "  </thead>\n",
              "  <tbody>\n",
              "    <tr>\n",
              "      <th>0</th>\n",
              "      <td>0</td>\n",
              "      <td>15</td>\n",
              "      <td>32</td>\n",
              "    </tr>\n",
              "    <tr>\n",
              "      <th>1</th>\n",
              "      <td>1</td>\n",
              "      <td>0</td>\n",
              "      <td>44</td>\n",
              "    </tr>\n",
              "    <tr>\n",
              "      <th>2</th>\n",
              "      <td>2</td>\n",
              "      <td>0</td>\n",
              "      <td>45</td>\n",
              "    </tr>\n",
              "    <tr>\n",
              "      <th>3</th>\n",
              "      <td>3</td>\n",
              "      <td>0</td>\n",
              "      <td>46</td>\n",
              "    </tr>\n",
              "    <tr>\n",
              "      <th>4</th>\n",
              "      <td>4</td>\n",
              "      <td>0</td>\n",
              "      <td>48</td>\n",
              "    </tr>\n",
              "  </tbody>\n",
              "</table>\n",
              "</div>"
            ],
            "text/plain": [
              "   item_category_id  type_code  subtype_code\n",
              "0                 0         15            32\n",
              "1                 1          0            44\n",
              "2                 2          0            45\n",
              "3                 3          0            46\n",
              "4                 4          0            48"
            ]
          },
          "metadata": {
            "tags": []
          },
          "execution_count": 23
        }
      ]
    },
    {
      "cell_type": "markdown",
      "metadata": {
        "_uuid": "62c5f83fa222595da99294f465ab28e80ce415e9",
        "id": "erTd5y7kziCE",
        "colab_type": "text"
      },
      "source": [
        "## Monthly sales\n",
        "Test set is a product of some shops and some items within 34 month. There are 5100 items * 42 shops = 214200 pairs. 363 items are new compared to the train. Hence, for the most of the items in the test set target value should be zero. \n",
        "In the other hand train set contains only pairs which were sold or returned in the past. Tha main idea is to calculate monthly sales and <b>extend it with zero sales</b> for each unique pair within the month. This way train data will be similar to test data."
      ]
    },
    {
      "cell_type": "code",
      "metadata": {
        "_uuid": "fb69350aef2c28cdb619e2532de1e24ab3c43899",
        "id": "v4AmAc2EziCE",
        "colab_type": "code",
        "outputId": "5a378028-7106-4066-f48b-9c54597ecdd8",
        "colab": {
          "base_uri": "https://localhost:8080/",
          "height": 35
        }
      },
      "source": [
        "len(list(set(test.item_id) - set(test.item_id).intersection(set(train.item_id)))), len(list(set(test.item_id))), len(test)"
      ],
      "execution_count": 0,
      "outputs": [
        {
          "output_type": "execute_result",
          "data": {
            "text/plain": [
              "(363, 5100, 214200)"
            ]
          },
          "metadata": {
            "tags": []
          },
          "execution_count": 24
        }
      ]
    },
    {
      "cell_type": "code",
      "metadata": {
        "_uuid": "7626c7455ea71b65894c6c866519df15080fa2ac",
        "id": "Vto1xtNTziCF",
        "colab_type": "code",
        "colab": {}
      },
      "source": [
        "matrix = []\n",
        "cols = ['date_block_num','shop_id','item_id']\n",
        "for i in range(34):\n",
        "    sales = train[train.date_block_num==i]\n",
        "    matrix.append(np.array(list(product([i], sales.shop_id.unique(), sales.item_id.unique())), dtype='int16'))\n",
        "    \n",
        "matrix = pd.DataFrame(np.vstack(matrix), columns=cols)\n",
        "matrix['date_block_num'] = matrix['date_block_num'].astype(np.int8)\n",
        "matrix['shop_id'] = matrix['shop_id'].astype(np.int8)\n",
        "matrix['item_id'] = matrix['item_id'].astype(np.int16)\n",
        "matrix.sort_values(cols,inplace=True)"
      ],
      "execution_count": 0,
      "outputs": []
    },
    {
      "cell_type": "markdown",
      "metadata": {
        "_uuid": "867e91a7570dd78b4834f4f1a166e58f80b63f93",
        "id": "SntVbitQziCH",
        "colab_type": "text"
      },
      "source": [
        "Aggregate train set by shop/item pairs to calculate target aggreagates, then <b>clip(0,20)</b> target value. This way train target will be similar to the test predictions.\n",
        "\n",
        "<i>I use floats instead of ints for item_cnt_month to avoid downcasting it after concatination with the test set later. If it would be int16, after concatination with NaN values it becomes int64, but foat16 becomes float16 even with NaNs.</i>"
      ]
    },
    {
      "cell_type": "code",
      "metadata": {
        "_uuid": "9fef5477060be7d2e6c85dcb79d8e18e6253f7dd",
        "id": "Z-ij1F02ziCH",
        "colab_type": "code",
        "colab": {}
      },
      "source": [
        "train['revenue'] = train['item_price'] *  train['item_cnt_day']"
      ],
      "execution_count": 0,
      "outputs": []
    },
    {
      "cell_type": "code",
      "metadata": {
        "_uuid": "7dd27181918fc7df89676e24d72130d183929d2d",
        "id": "Dth3Uy9GziCJ",
        "colab_type": "code",
        "outputId": "e481553d-ae69-4b7b-8c56-39adef2135ed",
        "colab": {
          "base_uri": "https://localhost:8080/",
          "height": 502
        }
      },
      "source": [
        "group = train.groupby(['date_block_num','shop_id','item_id']).agg({'item_cnt_day': ['sum']})\n",
        "group.columns = ['item_cnt_month']\n",
        "group.reset_index(inplace=True)\n",
        "\n",
        "matrix = pd.merge(matrix, group, on=cols, how='left')\n",
        "matrix['item_cnt_month'] = (matrix['item_cnt_month']\n",
        "                                .fillna(0)\n",
        "                                .clip(0,20) # NB clip target here\n",
        "                                .astype(np.float16))"
      ],
      "execution_count": 0,
      "outputs": [
        {
          "output_type": "error",
          "ename": "KeyboardInterrupt",
          "evalue": "ignored",
          "traceback": [
            "\u001b[0;31m---------------------------------------------------------------------------\u001b[0m",
            "\u001b[0;31mKeyboardInterrupt\u001b[0m                         Traceback (most recent call last)",
            "\u001b[0;32m<ipython-input-27-d72348443d28>\u001b[0m in \u001b[0;36m<module>\u001b[0;34m()\u001b[0m\n\u001b[1;32m      3\u001b[0m \u001b[0mgroup\u001b[0m\u001b[0;34m.\u001b[0m\u001b[0mreset_index\u001b[0m\u001b[0;34m(\u001b[0m\u001b[0minplace\u001b[0m\u001b[0;34m=\u001b[0m\u001b[0;32mTrue\u001b[0m\u001b[0;34m)\u001b[0m\u001b[0;34m\u001b[0m\u001b[0;34m\u001b[0m\u001b[0m\n\u001b[1;32m      4\u001b[0m \u001b[0;34m\u001b[0m\u001b[0m\n\u001b[0;32m----> 5\u001b[0;31m \u001b[0mmatrix\u001b[0m \u001b[0;34m=\u001b[0m \u001b[0mpd\u001b[0m\u001b[0;34m.\u001b[0m\u001b[0mmerge\u001b[0m\u001b[0;34m(\u001b[0m\u001b[0mmatrix\u001b[0m\u001b[0;34m,\u001b[0m \u001b[0mgroup\u001b[0m\u001b[0;34m,\u001b[0m \u001b[0mon\u001b[0m\u001b[0;34m=\u001b[0m\u001b[0mcols\u001b[0m\u001b[0;34m,\u001b[0m \u001b[0mhow\u001b[0m\u001b[0;34m=\u001b[0m\u001b[0;34m'left'\u001b[0m\u001b[0;34m)\u001b[0m\u001b[0;34m\u001b[0m\u001b[0;34m\u001b[0m\u001b[0m\n\u001b[0m\u001b[1;32m      6\u001b[0m matrix['item_cnt_month'] = (matrix['item_cnt_month']\n\u001b[1;32m      7\u001b[0m                                 \u001b[0;34m.\u001b[0m\u001b[0mfillna\u001b[0m\u001b[0;34m(\u001b[0m\u001b[0;36m0\u001b[0m\u001b[0;34m)\u001b[0m\u001b[0;34m\u001b[0m\u001b[0;34m\u001b[0m\u001b[0m\n",
            "\u001b[0;32m/usr/local/lib/python3.6/dist-packages/pandas/core/reshape/merge.py\u001b[0m in \u001b[0;36mmerge\u001b[0;34m(left, right, how, on, left_on, right_on, left_index, right_index, sort, suffixes, copy, indicator, validate)\u001b[0m\n\u001b[1;32m     81\u001b[0m         \u001b[0mvalidate\u001b[0m\u001b[0;34m=\u001b[0m\u001b[0mvalidate\u001b[0m\u001b[0;34m,\u001b[0m\u001b[0;34m\u001b[0m\u001b[0;34m\u001b[0m\u001b[0m\n\u001b[1;32m     82\u001b[0m     )\n\u001b[0;32m---> 83\u001b[0;31m     \u001b[0;32mreturn\u001b[0m \u001b[0mop\u001b[0m\u001b[0;34m.\u001b[0m\u001b[0mget_result\u001b[0m\u001b[0;34m(\u001b[0m\u001b[0;34m)\u001b[0m\u001b[0;34m\u001b[0m\u001b[0;34m\u001b[0m\u001b[0m\n\u001b[0m\u001b[1;32m     84\u001b[0m \u001b[0;34m\u001b[0m\u001b[0m\n\u001b[1;32m     85\u001b[0m \u001b[0;34m\u001b[0m\u001b[0m\n",
            "\u001b[0;32m/usr/local/lib/python3.6/dist-packages/pandas/core/reshape/merge.py\u001b[0m in \u001b[0;36mget_result\u001b[0;34m(self)\u001b[0m\n\u001b[1;32m    640\u001b[0m             \u001b[0mself\u001b[0m\u001b[0;34m.\u001b[0m\u001b[0mleft\u001b[0m\u001b[0;34m,\u001b[0m \u001b[0mself\u001b[0m\u001b[0;34m.\u001b[0m\u001b[0mright\u001b[0m \u001b[0;34m=\u001b[0m \u001b[0mself\u001b[0m\u001b[0;34m.\u001b[0m\u001b[0m_indicator_pre_merge\u001b[0m\u001b[0;34m(\u001b[0m\u001b[0mself\u001b[0m\u001b[0;34m.\u001b[0m\u001b[0mleft\u001b[0m\u001b[0;34m,\u001b[0m \u001b[0mself\u001b[0m\u001b[0;34m.\u001b[0m\u001b[0mright\u001b[0m\u001b[0;34m)\u001b[0m\u001b[0;34m\u001b[0m\u001b[0;34m\u001b[0m\u001b[0m\n\u001b[1;32m    641\u001b[0m \u001b[0;34m\u001b[0m\u001b[0m\n\u001b[0;32m--> 642\u001b[0;31m         \u001b[0mjoin_index\u001b[0m\u001b[0;34m,\u001b[0m \u001b[0mleft_indexer\u001b[0m\u001b[0;34m,\u001b[0m \u001b[0mright_indexer\u001b[0m \u001b[0;34m=\u001b[0m \u001b[0mself\u001b[0m\u001b[0;34m.\u001b[0m\u001b[0m_get_join_info\u001b[0m\u001b[0;34m(\u001b[0m\u001b[0;34m)\u001b[0m\u001b[0;34m\u001b[0m\u001b[0;34m\u001b[0m\u001b[0m\n\u001b[0m\u001b[1;32m    643\u001b[0m \u001b[0;34m\u001b[0m\u001b[0m\n\u001b[1;32m    644\u001b[0m         \u001b[0mldata\u001b[0m\u001b[0;34m,\u001b[0m \u001b[0mrdata\u001b[0m \u001b[0;34m=\u001b[0m \u001b[0mself\u001b[0m\u001b[0;34m.\u001b[0m\u001b[0mleft\u001b[0m\u001b[0;34m.\u001b[0m\u001b[0m_data\u001b[0m\u001b[0;34m,\u001b[0m \u001b[0mself\u001b[0m\u001b[0;34m.\u001b[0m\u001b[0mright\u001b[0m\u001b[0;34m.\u001b[0m\u001b[0m_data\u001b[0m\u001b[0;34m\u001b[0m\u001b[0;34m\u001b[0m\u001b[0m\n",
            "\u001b[0;32m/usr/local/lib/python3.6/dist-packages/pandas/core/reshape/merge.py\u001b[0m in \u001b[0;36m_get_join_info\u001b[0;34m(self)\u001b[0m\n\u001b[1;32m    857\u001b[0m             )\n\u001b[1;32m    858\u001b[0m         \u001b[0;32melse\u001b[0m\u001b[0;34m:\u001b[0m\u001b[0;34m\u001b[0m\u001b[0;34m\u001b[0m\u001b[0m\n\u001b[0;32m--> 859\u001b[0;31m             \u001b[0;34m(\u001b[0m\u001b[0mleft_indexer\u001b[0m\u001b[0;34m,\u001b[0m \u001b[0mright_indexer\u001b[0m\u001b[0;34m)\u001b[0m \u001b[0;34m=\u001b[0m \u001b[0mself\u001b[0m\u001b[0;34m.\u001b[0m\u001b[0m_get_join_indexers\u001b[0m\u001b[0;34m(\u001b[0m\u001b[0;34m)\u001b[0m\u001b[0;34m\u001b[0m\u001b[0;34m\u001b[0m\u001b[0m\n\u001b[0m\u001b[1;32m    860\u001b[0m \u001b[0;34m\u001b[0m\u001b[0m\n\u001b[1;32m    861\u001b[0m             \u001b[0;32mif\u001b[0m \u001b[0mself\u001b[0m\u001b[0;34m.\u001b[0m\u001b[0mright_index\u001b[0m\u001b[0;34m:\u001b[0m\u001b[0;34m\u001b[0m\u001b[0;34m\u001b[0m\u001b[0m\n",
            "\u001b[0;32m/usr/local/lib/python3.6/dist-packages/pandas/core/reshape/merge.py\u001b[0m in \u001b[0;36m_get_join_indexers\u001b[0;34m(self)\u001b[0m\n\u001b[1;32m    836\u001b[0m         \u001b[0;34m\"\"\" return the join indexers \"\"\"\u001b[0m\u001b[0;34m\u001b[0m\u001b[0;34m\u001b[0m\u001b[0m\n\u001b[1;32m    837\u001b[0m         return _get_join_indexers(\n\u001b[0;32m--> 838\u001b[0;31m             \u001b[0mself\u001b[0m\u001b[0;34m.\u001b[0m\u001b[0mleft_join_keys\u001b[0m\u001b[0;34m,\u001b[0m \u001b[0mself\u001b[0m\u001b[0;34m.\u001b[0m\u001b[0mright_join_keys\u001b[0m\u001b[0;34m,\u001b[0m \u001b[0msort\u001b[0m\u001b[0;34m=\u001b[0m\u001b[0mself\u001b[0m\u001b[0;34m.\u001b[0m\u001b[0msort\u001b[0m\u001b[0;34m,\u001b[0m \u001b[0mhow\u001b[0m\u001b[0;34m=\u001b[0m\u001b[0mself\u001b[0m\u001b[0;34m.\u001b[0m\u001b[0mhow\u001b[0m\u001b[0;34m\u001b[0m\u001b[0;34m\u001b[0m\u001b[0m\n\u001b[0m\u001b[1;32m    839\u001b[0m         )\n\u001b[1;32m    840\u001b[0m \u001b[0;34m\u001b[0m\u001b[0m\n",
            "\u001b[0;32m/usr/local/lib/python3.6/dist-packages/pandas/core/reshape/merge.py\u001b[0m in \u001b[0;36m_get_join_indexers\u001b[0;34m(left_keys, right_keys, sort, how, **kwargs)\u001b[0m\n\u001b[1;32m   1310\u001b[0m     \u001b[0;31m# `count` is the num. of unique keys\u001b[0m\u001b[0;34m\u001b[0m\u001b[0;34m\u001b[0m\u001b[0;34m\u001b[0m\u001b[0m\n\u001b[1;32m   1311\u001b[0m     \u001b[0;31m# set(lkey) | set(rkey) == range(count)\u001b[0m\u001b[0;34m\u001b[0m\u001b[0;34m\u001b[0m\u001b[0;34m\u001b[0m\u001b[0m\n\u001b[0;32m-> 1312\u001b[0;31m     \u001b[0mlkey\u001b[0m\u001b[0;34m,\u001b[0m \u001b[0mrkey\u001b[0m\u001b[0;34m,\u001b[0m \u001b[0mcount\u001b[0m \u001b[0;34m=\u001b[0m \u001b[0mfkeys\u001b[0m\u001b[0;34m(\u001b[0m\u001b[0mlkey\u001b[0m\u001b[0;34m,\u001b[0m \u001b[0mrkey\u001b[0m\u001b[0;34m)\u001b[0m\u001b[0;34m\u001b[0m\u001b[0;34m\u001b[0m\u001b[0m\n\u001b[0m\u001b[1;32m   1313\u001b[0m \u001b[0;34m\u001b[0m\u001b[0m\n\u001b[1;32m   1314\u001b[0m     \u001b[0;31m# preserve left frame order if how == 'left' and sort == False\u001b[0m\u001b[0;34m\u001b[0m\u001b[0;34m\u001b[0m\u001b[0;34m\u001b[0m\u001b[0m\n",
            "\u001b[0;32m/usr/local/lib/python3.6/dist-packages/pandas/core/reshape/merge.py\u001b[0m in \u001b[0;36m_factorize_keys\u001b[0;34m(lk, rk, sort)\u001b[0m\n\u001b[1;32m   1900\u001b[0m     \u001b[0mrizer\u001b[0m \u001b[0;34m=\u001b[0m \u001b[0mklass\u001b[0m\u001b[0;34m(\u001b[0m\u001b[0mmax\u001b[0m\u001b[0;34m(\u001b[0m\u001b[0mlen\u001b[0m\u001b[0;34m(\u001b[0m\u001b[0mlk\u001b[0m\u001b[0;34m)\u001b[0m\u001b[0;34m,\u001b[0m \u001b[0mlen\u001b[0m\u001b[0;34m(\u001b[0m\u001b[0mrk\u001b[0m\u001b[0;34m)\u001b[0m\u001b[0;34m)\u001b[0m\u001b[0;34m)\u001b[0m\u001b[0;34m\u001b[0m\u001b[0;34m\u001b[0m\u001b[0m\n\u001b[1;32m   1901\u001b[0m \u001b[0;34m\u001b[0m\u001b[0m\n\u001b[0;32m-> 1902\u001b[0;31m     \u001b[0mllab\u001b[0m \u001b[0;34m=\u001b[0m \u001b[0mrizer\u001b[0m\u001b[0;34m.\u001b[0m\u001b[0mfactorize\u001b[0m\u001b[0;34m(\u001b[0m\u001b[0mlk\u001b[0m\u001b[0;34m)\u001b[0m\u001b[0;34m\u001b[0m\u001b[0;34m\u001b[0m\u001b[0m\n\u001b[0m\u001b[1;32m   1903\u001b[0m     \u001b[0mrlab\u001b[0m \u001b[0;34m=\u001b[0m \u001b[0mrizer\u001b[0m\u001b[0;34m.\u001b[0m\u001b[0mfactorize\u001b[0m\u001b[0;34m(\u001b[0m\u001b[0mrk\u001b[0m\u001b[0;34m)\u001b[0m\u001b[0;34m\u001b[0m\u001b[0;34m\u001b[0m\u001b[0m\n\u001b[1;32m   1904\u001b[0m \u001b[0;34m\u001b[0m\u001b[0m\n",
            "\u001b[0;32mpandas/_libs/hashtable.pyx\u001b[0m in \u001b[0;36mpandas._libs.hashtable.Int64Factorizer.factorize\u001b[0;34m()\u001b[0m\n",
            "\u001b[0;32mpandas/_libs/hashtable_class_helper.pxi\u001b[0m in \u001b[0;36mpandas._libs.hashtable.Int64HashTable.get_labels\u001b[0;34m()\u001b[0m\n",
            "\u001b[0;32mpandas/_libs/hashtable_class_helper.pxi\u001b[0m in \u001b[0;36mpandas._libs.hashtable.Int64HashTable._unique\u001b[0;34m()\u001b[0m\n",
            "\u001b[0;32m/usr/local/lib/python3.6/dist-packages/numpy/core/_asarray.py\u001b[0m in \u001b[0;36masarray\u001b[0;34m(a, dtype, order)\u001b[0m\n\u001b[1;32m     14\u001b[0m ]\n\u001b[1;32m     15\u001b[0m \u001b[0;34m\u001b[0m\u001b[0m\n\u001b[0;32m---> 16\u001b[0;31m \u001b[0;34m@\u001b[0m\u001b[0mset_module\u001b[0m\u001b[0;34m(\u001b[0m\u001b[0;34m'numpy'\u001b[0m\u001b[0;34m)\u001b[0m\u001b[0;34m\u001b[0m\u001b[0;34m\u001b[0m\u001b[0m\n\u001b[0m\u001b[1;32m     17\u001b[0m \u001b[0;32mdef\u001b[0m \u001b[0masarray\u001b[0m\u001b[0;34m(\u001b[0m\u001b[0ma\u001b[0m\u001b[0;34m,\u001b[0m \u001b[0mdtype\u001b[0m\u001b[0;34m=\u001b[0m\u001b[0;32mNone\u001b[0m\u001b[0;34m,\u001b[0m \u001b[0morder\u001b[0m\u001b[0;34m=\u001b[0m\u001b[0;32mNone\u001b[0m\u001b[0;34m)\u001b[0m\u001b[0;34m:\u001b[0m\u001b[0;34m\u001b[0m\u001b[0;34m\u001b[0m\u001b[0m\n\u001b[1;32m     18\u001b[0m     \"\"\"Convert the input to an array.\n",
            "\u001b[0;31mKeyboardInterrupt\u001b[0m: "
          ]
        }
      ]
    },
    {
      "cell_type": "markdown",
      "metadata": {
        "_uuid": "315bc6107a93f3926a64fd09ea9244e9281ee41f",
        "id": "PL7L9HZmziCN",
        "colab_type": "text"
      },
      "source": [
        "## Test set\n",
        "To use time tricks append test pairs to the matrix."
      ]
    },
    {
      "cell_type": "code",
      "metadata": {
        "_uuid": "29d02bdb4fa768577607bf735b918ca81da85d41",
        "id": "iQqbDImZziCN",
        "colab_type": "code",
        "colab": {}
      },
      "source": [
        "test['date_block_num'] = 34\n",
        "test['date_block_num'] = test['date_block_num'].astype(np.int8)\n",
        "test['shop_id'] = test['shop_id'].astype(np.int8)\n",
        "test['item_id'] = test['item_id'].astype(np.int16)"
      ],
      "execution_count": 0,
      "outputs": []
    },
    {
      "cell_type": "code",
      "metadata": {
        "_uuid": "177fbbab94c8057d67d61357d29581248468a74d",
        "id": "OUhNLyY2ziCO",
        "colab_type": "code",
        "colab": {}
      },
      "source": [
        "matrix = pd.concat([matrix, test], ignore_index=True, keys=cols)\n",
        "matrix.fillna(0, inplace=True) # 34 month"
      ],
      "execution_count": 0,
      "outputs": []
    },
    {
      "cell_type": "markdown",
      "metadata": {
        "_uuid": "233e394a6cebf36ef002dc76fef8d430026a52b3",
        "id": "xH32-G6bziCR",
        "colab_type": "text"
      },
      "source": [
        "## Shops/Items/Cats features"
      ]
    },
    {
      "cell_type": "code",
      "metadata": {
        "_uuid": "7dfd5df3e2bcaee4c312f3979736f52c40f2560f",
        "id": "T8iPHHJpziCR",
        "colab_type": "code",
        "colab": {}
      },
      "source": [
        "matrix = pd.merge(matrix, shops, on=['shop_id'], how='left')\n",
        "matrix = pd.merge(matrix, items, on=['item_id'], how='left')\n",
        "matrix = pd.merge(matrix, cats, on=['item_category_id'], how='left')\n",
        "matrix['city_code'] = matrix['city_code'].astype(np.int8)\n",
        "matrix['item_category_id'] = matrix['item_category_id'].astype(np.int8)\n",
        "matrix['type_code'] = matrix['type_code'].astype(np.int8)\n",
        "matrix['shop_type_code'] = matrix['shop_type_code'].astype(np.int8)\n",
        "matrix['subtype_code'] = matrix['subtype_code'].astype(np.int8)"
      ],
      "execution_count": 0,
      "outputs": []
    },
    {
      "cell_type": "markdown",
      "metadata": {
        "_uuid": "8358b291fdc8e0e7d1b5700974803b3f104715f7",
        "id": "AjcuU5sdziCS",
        "colab_type": "text"
      },
      "source": [
        "## Traget lags"
      ]
    },
    {
      "cell_type": "code",
      "metadata": {
        "_uuid": "9cd7bcc7643ce4545475e8e6f80d09a979aac42d",
        "id": "-d9fjAZLziCT",
        "colab_type": "code",
        "colab": {}
      },
      "source": [
        "def lag_feature(df, lags, col):\n",
        "    tmp = df[['date_block_num','shop_id','item_id',col]]\n",
        "    for i in lags:\n",
        "        shifted = tmp.copy()\n",
        "        shifted.columns = ['date_block_num','shop_id','item_id', col+'_lag_'+str(i)]\n",
        "        shifted['date_block_num'] += i\n",
        "        df = pd.merge(df, shifted, on=['date_block_num','shop_id','item_id'], how='left')\n",
        "    return df"
      ],
      "execution_count": 0,
      "outputs": []
    },
    {
      "cell_type": "code",
      "metadata": {
        "_uuid": "78bf7ece93ebc4629ad0e48cd6a9927788d8706d",
        "id": "tGfUKhXoziCV",
        "colab_type": "code",
        "colab": {}
      },
      "source": [
        "matrix = lag_feature(matrix, [1,2,3,6,12], 'item_cnt_month')"
      ],
      "execution_count": 0,
      "outputs": []
    },
    {
      "cell_type": "markdown",
      "metadata": {
        "_uuid": "c67bf4dbcef884ffe9d19c65d37bc4de1f287ef6",
        "id": "RR2SgRZ6ziCX",
        "colab_type": "text"
      },
      "source": [
        "## Mean encoded features"
      ]
    },
    {
      "cell_type": "code",
      "metadata": {
        "_uuid": "763aca242154ea10fa0a62fffadb4ef90e9532d6",
        "id": "HdWG7gc6ziCX",
        "colab_type": "code",
        "colab": {}
      },
      "source": [
        "group = matrix.groupby(['date_block_num']).agg({'item_cnt_month': ['mean']})\n",
        "group.columns = [ 'date_avg_item_cnt' ]\n",
        "group.reset_index(inplace=True)\n",
        "\n",
        "matrix = pd.merge(matrix, group, on=['date_block_num'], how='left')\n",
        "matrix['date_avg_item_cnt'] = matrix['date_avg_item_cnt'].astype(np.float16)\n",
        "matrix = lag_feature(matrix, [1], 'date_avg_item_cnt')\n",
        "matrix.drop(['date_avg_item_cnt'], axis=1, inplace=True)"
      ],
      "execution_count": 0,
      "outputs": []
    },
    {
      "cell_type": "code",
      "metadata": {
        "_uuid": "fc9166c4e678ebb99d03566f1751b7d4b5c690d2",
        "id": "ZfSnqe6gziCZ",
        "colab_type": "code",
        "colab": {}
      },
      "source": [
        "group = matrix.groupby(['date_block_num', 'item_id']).agg({'item_cnt_month': ['mean']})\n",
        "group.columns = [ 'date_item_avg_item_cnt' ]\n",
        "group.reset_index(inplace=True)\n",
        "\n",
        "matrix = pd.merge(matrix, group, on=['date_block_num','item_id'], how='left')\n",
        "matrix['date_item_avg_item_cnt'] = matrix['date_item_avg_item_cnt'].astype(np.float16)\n",
        "matrix = lag_feature(matrix, [1,2,3,6,12], 'date_item_avg_item_cnt')\n",
        "matrix.drop(['date_item_avg_item_cnt'], axis=1, inplace=True)"
      ],
      "execution_count": 0,
      "outputs": []
    },
    {
      "cell_type": "code",
      "metadata": {
        "_uuid": "73f2552c403c5f67bbf07f28d69efcc015d00f32",
        "id": "djEeEWosziCb",
        "colab_type": "code",
        "colab": {}
      },
      "source": [
        "group = matrix.groupby(['date_block_num', 'shop_id']).agg({'item_cnt_month': ['mean']})\n",
        "group.columns = [ 'date_shop_avg_item_cnt' ]\n",
        "group.reset_index(inplace=True)\n",
        "\n",
        "matrix = pd.merge(matrix, group, on=['date_block_num','shop_id'], how='left')\n",
        "matrix['date_shop_avg_item_cnt'] = matrix['date_shop_avg_item_cnt'].astype(np.float16)\n",
        "matrix = lag_feature(matrix, [1,2,3,6,12], 'date_shop_avg_item_cnt')\n",
        "matrix.drop(['date_shop_avg_item_cnt'], axis=1, inplace=True)"
      ],
      "execution_count": 0,
      "outputs": []
    },
    {
      "cell_type": "code",
      "metadata": {
        "_uuid": "c3948a9b206bc480b31385c29a713aa49747de19",
        "id": "Ts9bTKM3ziCd",
        "colab_type": "code",
        "colab": {}
      },
      "source": [
        "group = matrix.groupby(['date_block_num', 'item_category_id']).agg({'item_cnt_month': ['mean']})\n",
        "group.columns = [ 'date_cat_avg_item_cnt' ]\n",
        "group.reset_index(inplace=True)\n",
        "\n",
        "matrix = pd.merge(matrix, group, on=['date_block_num','item_category_id'], how='left')\n",
        "matrix['date_cat_avg_item_cnt'] = matrix['date_cat_avg_item_cnt'].astype(np.float16)\n",
        "matrix = lag_feature(matrix, [1], 'date_cat_avg_item_cnt')\n",
        "matrix.drop(['date_cat_avg_item_cnt'], axis=1, inplace=True)"
      ],
      "execution_count": 0,
      "outputs": []
    },
    {
      "cell_type": "code",
      "metadata": {
        "id": "xceTgc_1ziCe",
        "colab_type": "code",
        "colab": {}
      },
      "source": [
        "group = matrix.groupby(['date_block_num', 'item_category_id', 'item_f1_code']).agg({'item_cnt_month': ['mean']})\n",
        "group.columns = [ 'date_cat_item_f1_avg_item_cnt' ]\n",
        "group.reset_index(inplace=True)\n",
        "\n",
        "matrix = pd.merge(matrix, group, on=['date_block_num','item_category_id', 'item_f1_code'], how='left')\n",
        "matrix['date_cat_item_f1_avg_item_cnt'] = matrix['date_cat_item_f1_avg_item_cnt'].astype(np.float16)\n",
        "matrix = lag_feature(matrix, [1], 'date_cat_item_f1_avg_item_cnt')\n",
        "matrix.drop(['date_cat_item_f1_avg_item_cnt'], axis=1, inplace=True)"
      ],
      "execution_count": 0,
      "outputs": []
    },
    {
      "cell_type": "code",
      "metadata": {
        "id": "Md2I7iVkziCf",
        "colab_type": "code",
        "colab": {}
      },
      "source": [
        "group = matrix.groupby(['date_block_num', 'item_category_id', 'item_f2_code']).agg({'item_cnt_month': ['mean']})\n",
        "group.columns = [ 'date_cat_item_f2_avg_item_cnt' ]\n",
        "group.reset_index(inplace=True)\n",
        "\n",
        "matrix = pd.merge(matrix, group, on=['date_block_num','item_category_id', 'item_f2_code'], how='left')\n",
        "matrix['date_cat_item_f2_avg_item_cnt'] = matrix['date_cat_item_f2_avg_item_cnt'].astype(np.float16)\n",
        "matrix = lag_feature(matrix, [1], 'date_cat_item_f2_avg_item_cnt')\n",
        "matrix.drop(['date_cat_item_f2_avg_item_cnt'], axis=1, inplace=True)"
      ],
      "execution_count": 0,
      "outputs": []
    },
    {
      "cell_type": "code",
      "metadata": {
        "_uuid": "bf98335755692f0d7666eeac2db1961692f09a16",
        "id": "Cr4TQy49ziCh",
        "colab_type": "code",
        "colab": {}
      },
      "source": [
        "group = matrix.groupby(['date_block_num', 'shop_id', 'item_category_id']).agg({'item_cnt_month': ['mean']})\n",
        "group.columns = ['date_shop_cat_avg_item_cnt']\n",
        "group.reset_index(inplace=True)\n",
        "\n",
        "matrix = pd.merge(matrix, group, on=['date_block_num', 'shop_id', 'item_category_id'], how='left')\n",
        "matrix['date_shop_cat_avg_item_cnt'] = matrix['date_shop_cat_avg_item_cnt'].astype(np.float16)\n",
        "matrix = lag_feature(matrix, [1], 'date_shop_cat_avg_item_cnt')\n",
        "matrix.drop(['date_shop_cat_avg_item_cnt'], axis=1, inplace=True)"
      ],
      "execution_count": 0,
      "outputs": []
    },
    {
      "cell_type": "code",
      "metadata": {
        "_uuid": "3959603ea684eb3cbfd17d557399caa6e9da88e4",
        "id": "UsC2-LYeziCj",
        "colab_type": "code",
        "colab": {}
      },
      "source": [
        "group = matrix.groupby(['date_block_num', 'shop_id', 'type_code']).agg({'item_cnt_month': ['mean']})\n",
        "group.columns = ['date_shop_type_avg_item_cnt']\n",
        "group.reset_index(inplace=True)\n",
        "\n",
        "matrix = pd.merge(matrix, group, on=['date_block_num', 'shop_id', 'type_code'], how='left')\n",
        "matrix['date_shop_type_avg_item_cnt'] = matrix['date_shop_type_avg_item_cnt'].astype(np.float16)\n",
        "matrix = lag_feature(matrix, [1], 'date_shop_type_avg_item_cnt')\n",
        "matrix.drop(['date_shop_type_avg_item_cnt'], axis=1, inplace=True)"
      ],
      "execution_count": 0,
      "outputs": []
    },
    {
      "cell_type": "code",
      "metadata": {
        "_uuid": "39f66d2e30f691237aa5d41ff9fc3a0eb7e9a788",
        "id": "9EK9--HTziCl",
        "colab_type": "code",
        "colab": {}
      },
      "source": [
        "group = matrix.groupby(['date_block_num', 'shop_id', 'subtype_code']).agg({'item_cnt_month': ['mean']})\n",
        "group.columns = ['date_shop_subtype_avg_item_cnt']\n",
        "group.reset_index(inplace=True)\n",
        "\n",
        "matrix = pd.merge(matrix, group, on=['date_block_num', 'shop_id', 'subtype_code'], how='left')\n",
        "matrix['date_shop_subtype_avg_item_cnt'] = matrix['date_shop_subtype_avg_item_cnt'].astype(np.float16)\n",
        "matrix = lag_feature(matrix, [1], 'date_shop_subtype_avg_item_cnt')\n",
        "matrix.drop(['date_shop_subtype_avg_item_cnt'], axis=1, inplace=True)"
      ],
      "execution_count": 0,
      "outputs": []
    },
    {
      "cell_type": "code",
      "metadata": {
        "_uuid": "87d57d01beb0830138dabae79b4022d4c6a9cc12",
        "id": "vNaRiNaiziCn",
        "colab_type": "code",
        "colab": {}
      },
      "source": [
        "group = matrix.groupby(['date_block_num', 'city_code']).agg({'item_cnt_month': ['mean']})\n",
        "group.columns = [ 'date_city_avg_item_cnt' ]\n",
        "group.reset_index(inplace=True)\n",
        "\n",
        "matrix = pd.merge(matrix, group, on=['date_block_num', 'city_code'], how='left')\n",
        "matrix['date_city_avg_item_cnt'] = matrix['date_city_avg_item_cnt'].astype(np.float16)\n",
        "matrix = lag_feature(matrix, [1], 'date_city_avg_item_cnt')\n",
        "matrix.drop(['date_city_avg_item_cnt'], axis=1, inplace=True)"
      ],
      "execution_count": 0,
      "outputs": []
    },
    {
      "cell_type": "code",
      "metadata": {
        "id": "eJSWxxMgziCp",
        "colab_type": "code",
        "colab": {}
      },
      "source": [
        "group = matrix.groupby(['date_block_num', 'shop_type_code']).agg({'item_cnt_month': ['mean']})\n",
        "group.columns = [ 'date_shop_type_avg_item_cnt' ]\n",
        "group.reset_index(inplace=True)\n",
        "\n",
        "matrix = pd.merge(matrix, group, on=['date_block_num', 'shop_type_code'], how='left')\n",
        "matrix['date_shop_type_avg_item_cnt'] = matrix['date_shop_type_avg_item_cnt'].astype(np.float16)\n",
        "matrix = lag_feature(matrix, [1], 'date_shop_type_avg_item_cnt')\n",
        "matrix.drop(['date_shop_type_avg_item_cnt'], axis=1, inplace=True)"
      ],
      "execution_count": 0,
      "outputs": []
    },
    {
      "cell_type": "code",
      "metadata": {
        "_uuid": "db1f0170ec4a6fd9894bc53b36f3166d4b26abcf",
        "id": "RlLr-xlvziCq",
        "colab_type": "code",
        "colab": {}
      },
      "source": [
        "group = matrix.groupby(['date_block_num', 'item_id', 'city_code']).agg({'item_cnt_month': ['mean']})\n",
        "group.columns = [ 'date_item_city_avg_item_cnt' ]\n",
        "group.reset_index(inplace=True)\n",
        "\n",
        "matrix = pd.merge(matrix, group, on=['date_block_num', 'item_id', 'city_code'], how='left')\n",
        "matrix['date_item_city_avg_item_cnt'] = matrix['date_item_city_avg_item_cnt'].astype(np.float16)\n",
        "matrix = lag_feature(matrix, [1], 'date_item_city_avg_item_cnt')\n",
        "matrix.drop(['date_item_city_avg_item_cnt'], axis=1, inplace=True)"
      ],
      "execution_count": 0,
      "outputs": []
    },
    {
      "cell_type": "code",
      "metadata": {
        "id": "7U-cjMCIziCr",
        "colab_type": "code",
        "colab": {}
      },
      "source": [
        "group = matrix.groupby(['date_block_num', 'item_id', 'shop_type_code']).agg({'item_cnt_month': ['mean']})\n",
        "group.columns = [ 'date_item_shop_type_avg_item_cnt' ]\n",
        "group.reset_index(inplace=True)\n",
        "\n",
        "matrix = pd.merge(matrix, group, on=['date_block_num', 'item_id', 'shop_type_code'], how='left')\n",
        "matrix['date_item_shop_type_avg_item_cnt'] = matrix['date_item_shop_type_avg_item_cnt'].astype(np.float16)\n",
        "matrix = lag_feature(matrix, [1], 'date_item_shop_type_avg_item_cnt')\n",
        "matrix.drop(['date_item_shop_type_avg_item_cnt'], axis=1, inplace=True)"
      ],
      "execution_count": 0,
      "outputs": []
    },
    {
      "cell_type": "code",
      "metadata": {
        "_uuid": "3cd5232ad63357dacebe9d223cc93dd669132bb7",
        "id": "Hz0hA7dQziCu",
        "colab_type": "code",
        "colab": {}
      },
      "source": [
        "group = matrix.groupby(['date_block_num', 'type_code']).agg({'item_cnt_month': ['mean']})\n",
        "group.columns = [ 'date_type_avg_item_cnt' ]\n",
        "group.reset_index(inplace=True)\n",
        "\n",
        "matrix = pd.merge(matrix, group, on=['date_block_num', 'type_code'], how='left')\n",
        "matrix['date_type_avg_item_cnt'] = matrix['date_type_avg_item_cnt'].astype(np.float16)\n",
        "matrix = lag_feature(matrix, [1], 'date_type_avg_item_cnt')\n",
        "matrix.drop(['date_type_avg_item_cnt'], axis=1, inplace=True)"
      ],
      "execution_count": 0,
      "outputs": []
    },
    {
      "cell_type": "code",
      "metadata": {
        "_uuid": "00394f3694ae9c7093176eadac7abeaa79ff5467",
        "collapsed": true,
        "id": "wQPQBw6TziCv",
        "colab_type": "code",
        "colab": {}
      },
      "source": [
        "ts = time.time()\n",
        "group = matrix.groupby(['date_block_num', 'subtype_code']).agg({'item_cnt_month': ['mean']})\n",
        "group.columns = [ 'date_subtype_avg_item_cnt' ]\n",
        "group.reset_index(inplace=True)\n",
        "\n",
        "matrix = pd.merge(matrix, group, on=['date_block_num', 'subtype_code'], how='left')\n",
        "matrix['date_subtype_avg_item_cnt'] = matrix['date_subtype_avg_item_cnt'].astype(np.float16)\n",
        "matrix = lag_feature(matrix, [1], 'date_subtype_avg_item_cnt')\n",
        "matrix.drop(['date_subtype_avg_item_cnt'], axis=1, inplace=True)\n",
        "time.time() - ts"
      ],
      "execution_count": 0,
      "outputs": []
    },
    {
      "cell_type": "code",
      "metadata": {
        "id": "IEMy0cEzziCx",
        "colab_type": "code",
        "colab": {}
      },
      "source": [
        "group = matrix.groupby(['date_block_num', 'subtype_code', 'item_f1_code']).agg({'item_cnt_month': ['mean']})\n",
        "group.columns = [ 'date_subtype_item_f1_avg_item_cnt' ]\n",
        "group.reset_index(inplace=True)\n",
        "\n",
        "matrix = pd.merge(matrix, group, on=['date_block_num', 'subtype_code', 'item_f1_code'], how='left')\n",
        "matrix['date_subtype_item_f1_avg_item_cnt'] = matrix['date_subtype_item_f1_avg_item_cnt'].astype(np.float16)\n",
        "matrix = lag_feature(matrix, [1], 'date_subtype_item_f1_avg_item_cnt')\n",
        "matrix.drop(['date_subtype_item_f1_avg_item_cnt'], axis=1, inplace=True)"
      ],
      "execution_count": 0,
      "outputs": []
    },
    {
      "cell_type": "code",
      "metadata": {
        "id": "csmiE6OrziCy",
        "colab_type": "code",
        "colab": {}
      },
      "source": [
        "group = matrix.groupby(['date_block_num', 'subtype_code', 'item_f2_code']).agg({'item_cnt_month': ['mean']})\n",
        "group.columns = [ 'date_subtype_item_f2_avg_item_cnt' ]\n",
        "group.reset_index(inplace=True)\n",
        "\n",
        "matrix = pd.merge(matrix, group, on=['date_block_num', 'subtype_code', 'item_f2_code'], how='left')\n",
        "matrix['date_subtype_item_f2_avg_item_cnt'] = matrix['date_subtype_item_f2_avg_item_cnt'].astype(np.float16)\n",
        "matrix = lag_feature(matrix, [1], 'date_subtype_item_f2_avg_item_cnt')\n",
        "matrix.drop(['date_subtype_item_f2_avg_item_cnt'], axis=1, inplace=True)"
      ],
      "execution_count": 0,
      "outputs": []
    },
    {
      "cell_type": "markdown",
      "metadata": {
        "_uuid": "6bcea31d93ab035ca3fa1ed7c0afddbf602c414a",
        "id": "ERlcxNlaziC0",
        "colab_type": "text"
      },
      "source": [
        "## Trend features"
      ]
    },
    {
      "cell_type": "markdown",
      "metadata": {
        "_uuid": "0504e9613087237c255914d9ebd165fac4e88cd0",
        "id": "IqVVJ4O8ziC0",
        "colab_type": "text"
      },
      "source": [
        "Price trend for the last six months."
      ]
    },
    {
      "cell_type": "code",
      "metadata": {
        "_uuid": "0da2ded8502e273137991fd2bebbadaf19c19622",
        "id": "KHg3uAgxziC1",
        "colab_type": "code",
        "colab": {}
      },
      "source": [
        "group = train.groupby(['item_id']).agg({'item_price': ['mean']})\n",
        "group.columns = ['item_avg_item_price']\n",
        "group.reset_index(inplace=True)\n",
        "\n",
        "matrix = pd.merge(matrix, group, on=['item_id'], how='left')\n",
        "matrix['item_avg_item_price'] = matrix['item_avg_item_price'].astype(np.float16)\n",
        "\n",
        "group = train.groupby(['date_block_num','item_id']).agg({'item_price': ['mean']})\n",
        "group.columns = ['date_item_avg_item_price']\n",
        "group.reset_index(inplace=True)\n",
        "\n",
        "matrix = pd.merge(matrix, group, on=['date_block_num','item_id'], how='left')\n",
        "matrix['date_item_avg_item_price'] = matrix['date_item_avg_item_price'].astype(np.float16)\n",
        "\n",
        "lags = [1,2,3,4,5,6]\n",
        "matrix = lag_feature(matrix, lags, 'date_item_avg_item_price')\n",
        "\n",
        "for i in lags:\n",
        "    matrix['delta_price_lag_'+str(i)] = \\\n",
        "        (matrix['date_item_avg_item_price_lag_'+str(i)] - matrix['item_avg_item_price']) / matrix['item_avg_item_price']\n",
        "\n",
        "def select_trend(row):\n",
        "    for i in lags:\n",
        "        if row['delta_price_lag_'+str(i)]:\n",
        "            return row['delta_price_lag_'+str(i)]\n",
        "    return 0\n",
        "    \n",
        "matrix['delta_price_lag'] = matrix.apply(select_trend, axis=1)\n",
        "matrix['delta_price_lag'] = matrix['delta_price_lag'].astype(np.float16)\n",
        "matrix['delta_price_lag'].fillna(0, inplace=True)\n",
        "\n",
        "fetures_to_drop = ['item_avg_item_price', 'date_item_avg_item_price']\n",
        "for i in lags:\n",
        "    fetures_to_drop += ['date_item_avg_item_price_lag_'+str(i)]\n",
        "    fetures_to_drop += ['delta_price_lag_'+str(i)]\n",
        "\n",
        "matrix.drop(fetures_to_drop, axis=1, inplace=True)"
      ],
      "execution_count": 0,
      "outputs": []
    },
    {
      "cell_type": "markdown",
      "metadata": {
        "_uuid": "17765ddb48f52abd88847a42c0a3ffe974e5b121",
        "id": "LQFnfMBJziC3",
        "colab_type": "text"
      },
      "source": [
        "Last month shop revenue trend"
      ]
    },
    {
      "cell_type": "code",
      "metadata": {
        "_uuid": "e633be47f1a22b41487866ce67fb874bd296339e",
        "id": "pzL_JfI4ziC3",
        "colab_type": "code",
        "colab": {}
      },
      "source": [
        "group = train.groupby(['date_block_num','shop_id']).agg({'revenue': ['sum']})\n",
        "group.columns = ['date_shop_revenue']\n",
        "group.reset_index(inplace=True)\n",
        "\n",
        "matrix = pd.merge(matrix, group, on=['date_block_num','shop_id'], how='left')\n",
        "matrix['date_shop_revenue'] = matrix['date_shop_revenue'].astype(np.float32)\n",
        "\n",
        "group = group.groupby(['shop_id']).agg({'date_shop_revenue': ['mean']})\n",
        "group.columns = ['shop_avg_revenue']\n",
        "group.reset_index(inplace=True)\n",
        "\n",
        "matrix = pd.merge(matrix, group, on=['shop_id'], how='left')\n",
        "matrix['shop_avg_revenue'] = matrix['shop_avg_revenue'].astype(np.float32)\n",
        "\n",
        "matrix['delta_revenue'] = (matrix['date_shop_revenue'] - matrix['shop_avg_revenue']) / matrix['shop_avg_revenue']\n",
        "matrix['delta_revenue'] = matrix['delta_revenue'].astype(np.float16)\n",
        "\n",
        "matrix = lag_feature(matrix, [1], 'delta_revenue')\n",
        "\n",
        "matrix.drop(['date_shop_revenue','shop_avg_revenue','delta_revenue'], axis=1, inplace=True)"
      ],
      "execution_count": 0,
      "outputs": []
    },
    {
      "cell_type": "markdown",
      "metadata": {
        "_uuid": "47e06af411b7d26cd93dad3d6735e48e5fbdee50",
        "id": "NwiFRTzbziC4",
        "colab_type": "text"
      },
      "source": [
        "## Special features"
      ]
    },
    {
      "cell_type": "code",
      "metadata": {
        "_uuid": "bb521e1f33d4124a3b90b47447bdb29150770b6e",
        "id": "ZEJXfDdxziC5",
        "colab_type": "code",
        "colab": {}
      },
      "source": [
        "matrix['month'] = matrix['date_block_num'] % 12"
      ],
      "execution_count": 0,
      "outputs": []
    },
    {
      "cell_type": "markdown",
      "metadata": {
        "_uuid": "b4dc4d2ff86483989c4b74fc02a0d01ca68a5c75",
        "id": "tNw5QfFkziC6",
        "colab_type": "text"
      },
      "source": [
        "Number of days in a month. There are no leap years."
      ]
    },
    {
      "cell_type": "code",
      "metadata": {
        "_uuid": "e23f0201056b73368e3b70d4c36c6bb9e4a55291",
        "id": "RgU23ccNziC6",
        "colab_type": "code",
        "colab": {}
      },
      "source": [
        "days = pd.Series([31,28,31,30,31,30,31,31,30,31,30,31])\n",
        "matrix['days'] = matrix['month'].map(days).astype(np.int8)"
      ],
      "execution_count": 0,
      "outputs": []
    },
    {
      "cell_type": "markdown",
      "metadata": {
        "_uuid": "7c096e86eb0043c0f6eeb899de24e28ca4c4e044",
        "id": "I1qZA23cziC9",
        "colab_type": "text"
      },
      "source": [
        "Months since the last sale for each shop/item pair and for item only. I use programing approach.\n",
        "\n",
        "<i>Create HashTable with key equals to {shop_id,item_id} and value equals to date_block_num. Iterate data from the top. Foreach row if {row.shop_id,row.item_id} is not present in the table, then add it to the table and set its value to row.date_block_num. if HashTable contains key, then calculate the difference beteween cached value and row.date_block_num.</i>"
      ]
    },
    {
      "cell_type": "code",
      "metadata": {
        "_uuid": "3458a7056c963167760921417d1f863f074f2b39",
        "id": "i8qR8y1QziC-",
        "colab_type": "code",
        "colab": {}
      },
      "source": [
        "cache = {}\n",
        "matrix['item_shop_last_sale'] = -1\n",
        "matrix['item_shop_last_sale'] = matrix['item_shop_last_sale'].astype(np.int8)\n",
        "for idx, row in matrix.iterrows():    \n",
        "    key = str(row.item_id)+' '+str(row.shop_id)\n",
        "    if key not in cache:\n",
        "        if row.item_cnt_month!=0:\n",
        "            cache[key] = row.date_block_num\n",
        "    else:\n",
        "        last_date_block_num = cache[key]\n",
        "        matrix.at[idx, 'item_shop_last_sale'] = row.date_block_num - last_date_block_num\n",
        "        cache[key] = row.date_block_num         "
      ],
      "execution_count": 0,
      "outputs": []
    },
    {
      "cell_type": "code",
      "metadata": {
        "_uuid": "28b29fae3906d870b4dc3064a7f359b6d3abf623",
        "id": "GO41cdsxziDB",
        "colab_type": "code",
        "colab": {}
      },
      "source": [
        "cache = {}\n",
        "matrix['item_last_sale'] = -1\n",
        "matrix['item_last_sale'] = matrix['item_last_sale'].astype(np.int8)\n",
        "for idx, row in matrix.iterrows():    \n",
        "    key = row.item_id\n",
        "    if key not in cache:\n",
        "        if row.item_cnt_month!=0:\n",
        "            cache[key] = row.date_block_num\n",
        "    else:\n",
        "        last_date_block_num = cache[key]\n",
        "        if row.date_block_num>last_date_block_num:\n",
        "            matrix.at[idx, 'item_last_sale'] = row.date_block_num - last_date_block_num\n",
        "            cache[key] = row.date_block_num         "
      ],
      "execution_count": 0,
      "outputs": []
    },
    {
      "cell_type": "markdown",
      "metadata": {
        "_uuid": "61987e6adc1bec2ea897eec837c0253f7f73fdb5",
        "id": "oLlKGrAaziDC",
        "colab_type": "text"
      },
      "source": [
        "Months since the first sale for each shop/item pair and for item only."
      ]
    },
    {
      "cell_type": "code",
      "metadata": {
        "id": "rcYuN780DKm-",
        "colab_type": "code",
        "colab": {}
      },
      "source": [
        "matrix['item_shop_first_sale'] = matrix['date_block_num'] - matrix.groupby(['item_id','shop_id'])['date_block_num'].transform('min')\n",
        "matrix['item_first_sale'] = matrix['date_block_num'] - matrix.groupby('item_id')['date_block_num'].transform('min')"
      ],
      "execution_count": 0,
      "outputs": []
    },
    {
      "cell_type": "markdown",
      "metadata": {
        "_uuid": "966cb34ccfe849fbb3707d93270691cb8eef7a89",
        "id": "m-Dix8WSziDG",
        "colab_type": "text"
      },
      "source": [
        "## Final preparations\n",
        "Because of the using 12 as lag value drop first 12 months. Also drop all the columns with this month calculated values (other words which can not be calcucated for the test set)."
      ]
    },
    {
      "cell_type": "markdown",
      "metadata": {
        "_uuid": "48a14784050901f878b40f093e4bc34e07ecce05",
        "id": "ODpLc-QPziDI",
        "colab_type": "text"
      },
      "source": [
        "Producing lags brings a lot of nulls."
      ]
    },
    {
      "cell_type": "code",
      "metadata": {
        "_uuid": "8e5d8cb5cea9be28af4a0486cc1bf797e5b5c7ee",
        "id": "4LpXg3mmziDI",
        "colab_type": "code",
        "colab": {}
      },
      "source": [
        "def fill_na(df):\n",
        "    for col in df.columns:\n",
        "        if ('_lag_' in col) & (df[col].isnull().any()):\n",
        "            if ('item_cnt' in col):\n",
        "                df[col].fillna(0, inplace=True)         \n",
        "    return df\n",
        "\n",
        "matrix = fill_na(matrix)"
      ],
      "execution_count": 0,
      "outputs": []
    },
    {
      "cell_type": "code",
      "metadata": {
        "_uuid": "00bf3fffc1b143d0555d03b9d79b5fd00d9d0dc9",
        "id": "QRZPPQXCziDJ",
        "colab_type": "code",
        "outputId": "075f0778-732e-440a-c24b-1b8e8e06f8a4",
        "colab": {
          "base_uri": "https://localhost:8080/",
          "height": 449
        }
      },
      "source": [
        "matrix.columns"
      ],
      "execution_count": 0,
      "outputs": [
        {
          "output_type": "execute_result",
          "data": {
            "text/plain": [
              "Index(['date_block_num', 'item_cnt_month', 'item_id', 'shop_id', 'city_code',\n",
              "       'shop_type_code', 'item_category_id', 'item_f1_code', 'item_f2_code',\n",
              "       'type_code', 'subtype_code', 'item_cnt_month_lag_1',\n",
              "       'item_cnt_month_lag_2', 'item_cnt_month_lag_3', 'item_cnt_month_lag_6',\n",
              "       'item_cnt_month_lag_12', 'date_avg_item_cnt_lag_1',\n",
              "       'date_item_avg_item_cnt_lag_1', 'date_item_avg_item_cnt_lag_2',\n",
              "       'date_item_avg_item_cnt_lag_3', 'date_item_avg_item_cnt_lag_6',\n",
              "       'date_item_avg_item_cnt_lag_12', 'date_shop_avg_item_cnt_lag_1',\n",
              "       'date_shop_avg_item_cnt_lag_2', 'date_shop_avg_item_cnt_lag_3',\n",
              "       'date_shop_avg_item_cnt_lag_6', 'date_shop_avg_item_cnt_lag_12',\n",
              "       'date_cat_avg_item_cnt_lag_1', 'date_cat_item_f1_avg_item_cnt_lag_1',\n",
              "       'date_cat_item_f2_avg_item_cnt_lag_1',\n",
              "       'date_shop_cat_avg_item_cnt_lag_1',\n",
              "       'date_shop_type_avg_item_cnt_lag_1_x',\n",
              "       'date_shop_subtype_avg_item_cnt_lag_1', 'date_city_avg_item_cnt_lag_1',\n",
              "       'date_shop_type_avg_item_cnt_lag_1_y',\n",
              "       'date_item_city_avg_item_cnt_lag_1',\n",
              "       'date_item_shop_type_avg_item_cnt_lag_1',\n",
              "       'date_type_avg_item_cnt_lag_1', 'date_subtype_avg_item_cnt_lag_1',\n",
              "       'date_subtype_item_f1_avg_item_cnt_lag_1',\n",
              "       'date_subtype_item_f2_avg_item_cnt_lag_1', 'delta_price_lag',\n",
              "       'delta_revenue_lag_1', 'month', 'days', 'item_shop_last_sale',\n",
              "       'item_last_sale', 'item_shop_first_sale', 'item_first_sale'],\n",
              "      dtype='object')"
            ]
          },
          "metadata": {
            "tags": []
          },
          "execution_count": 59
        }
      ]
    },
    {
      "cell_type": "code",
      "metadata": {
        "_uuid": "5f4e4c5c552daf8d4da6999ae4b63f13459b2887",
        "id": "39OfEPXyziDK",
        "colab_type": "code",
        "outputId": "e3836694-a19a-405b-b1ee-bda8cb6f52db",
        "colab": {
          "base_uri": "https://localhost:8080/",
          "height": 989
        }
      },
      "source": [
        "matrix.info()"
      ],
      "execution_count": 0,
      "outputs": [
        {
          "output_type": "stream",
          "text": [
            "<class 'pandas.core.frame.DataFrame'>\n",
            "Int64Index: 11128004 entries, 0 to 11128003\n",
            "Data columns (total 49 columns):\n",
            "date_block_num                             int8\n",
            "item_cnt_month                             float16\n",
            "item_id                                    int16\n",
            "shop_id                                    int8\n",
            "city_code                                  int8\n",
            "shop_type_code                             int8\n",
            "item_category_id                           int8\n",
            "item_f1_code                               int16\n",
            "item_f2_code                               int16\n",
            "type_code                                  int8\n",
            "subtype_code                               int8\n",
            "item_cnt_month_lag_1                       float16\n",
            "item_cnt_month_lag_2                       float16\n",
            "item_cnt_month_lag_3                       float16\n",
            "item_cnt_month_lag_6                       float16\n",
            "item_cnt_month_lag_12                      float16\n",
            "date_avg_item_cnt_lag_1                    float16\n",
            "date_item_avg_item_cnt_lag_1               float16\n",
            "date_item_avg_item_cnt_lag_2               float16\n",
            "date_item_avg_item_cnt_lag_3               float16\n",
            "date_item_avg_item_cnt_lag_6               float16\n",
            "date_item_avg_item_cnt_lag_12              float16\n",
            "date_shop_avg_item_cnt_lag_1               float16\n",
            "date_shop_avg_item_cnt_lag_2               float16\n",
            "date_shop_avg_item_cnt_lag_3               float16\n",
            "date_shop_avg_item_cnt_lag_6               float16\n",
            "date_shop_avg_item_cnt_lag_12              float16\n",
            "date_cat_avg_item_cnt_lag_1                float16\n",
            "date_cat_item_f1_avg_item_cnt_lag_1        float16\n",
            "date_cat_item_f2_avg_item_cnt_lag_1        float16\n",
            "date_shop_cat_avg_item_cnt_lag_1           float16\n",
            "date_shop_type_avg_item_cnt_lag_1_x        float16\n",
            "date_shop_subtype_avg_item_cnt_lag_1       float16\n",
            "date_city_avg_item_cnt_lag_1               float16\n",
            "date_shop_type_avg_item_cnt_lag_1_y        float16\n",
            "date_item_city_avg_item_cnt_lag_1          float16\n",
            "date_item_shop_type_avg_item_cnt_lag_1     float16\n",
            "date_type_avg_item_cnt_lag_1               float16\n",
            "date_subtype_avg_item_cnt_lag_1            float16\n",
            "date_subtype_item_f1_avg_item_cnt_lag_1    float16\n",
            "date_subtype_item_f2_avg_item_cnt_lag_1    float16\n",
            "delta_price_lag                            float16\n",
            "delta_revenue_lag_1                        float16\n",
            "month                                      int8\n",
            "days                                       int8\n",
            "item_shop_last_sale                        int8\n",
            "item_last_sale                             int8\n",
            "item_shop_first_sale                       int8\n",
            "item_first_sale                            int8\n",
            "dtypes: float16(33), int16(3), int8(13)\n",
            "memory usage: 987.0 MB\n"
          ],
          "name": "stdout"
        }
      ]
    },
    {
      "cell_type": "markdown",
      "metadata": {
        "_uuid": "b69932efb440af8f6435f3cd802fbcd15682af71",
        "collapsed": true,
        "id": "Wu0WEXsWziDN",
        "colab_type": "text"
      },
      "source": [
        "# Part 2, xgboost"
      ]
    },
    {
      "cell_type": "code",
      "metadata": {
        "id": "LI0rk49LMKv2",
        "colab_type": "code",
        "colab": {}
      },
      "source": [
        "matrix.to_pickle('data.pkl')\n",
        "del matrix\n",
        "del cache\n",
        "del group\n",
        "del items\n",
        "del shops\n",
        "del cats\n",
        "del train\n",
        "# leave test for submission\n",
        "gc.collect();"
      ],
      "execution_count": 0,
      "outputs": []
    },
    {
      "cell_type": "code",
      "metadata": {
        "id": "VcxEcUC8MTDD",
        "colab_type": "code",
        "colab": {}
      },
      "source": [
        "data = pd.read_pickle('/content/drive/My Drive/data/data.pkl')"
      ],
      "execution_count": 0,
      "outputs": []
    },
    {
      "cell_type": "code",
      "metadata": {
        "id": "sXfevGV740E6",
        "colab_type": "code",
        "colab": {}
      },
      "source": [
        "data = data[data['date_block_num']>11]"
      ],
      "execution_count": 0,
      "outputs": []
    },
    {
      "cell_type": "code",
      "metadata": {
        "id": "Tnx6EP-v40LO",
        "colab_type": "code",
        "outputId": "37e42b83-631b-4920-f06f-b7ff6795e181",
        "colab": {
          "base_uri": "https://localhost:8080/",
          "height": 224
        }
      },
      "source": [
        "data.head()"
      ],
      "execution_count": 0,
      "outputs": [
        {
          "output_type": "execute_result",
          "data": {
            "text/html": [
              "<div>\n",
              "<style scoped>\n",
              "    .dataframe tbody tr th:only-of-type {\n",
              "        vertical-align: middle;\n",
              "    }\n",
              "\n",
              "    .dataframe tbody tr th {\n",
              "        vertical-align: top;\n",
              "    }\n",
              "\n",
              "    .dataframe thead th {\n",
              "        text-align: right;\n",
              "    }\n",
              "</style>\n",
              "<table border=\"1\" class=\"dataframe\">\n",
              "  <thead>\n",
              "    <tr style=\"text-align: right;\">\n",
              "      <th></th>\n",
              "      <th>date_block_num</th>\n",
              "      <th>item_cnt_month</th>\n",
              "      <th>item_id</th>\n",
              "      <th>shop_id</th>\n",
              "      <th>city_code</th>\n",
              "      <th>shop_type_code</th>\n",
              "      <th>item_category_id</th>\n",
              "      <th>item_f1_code</th>\n",
              "      <th>item_f2_code</th>\n",
              "      <th>type_code</th>\n",
              "      <th>subtype_code</th>\n",
              "      <th>item_cnt_month_lag_1</th>\n",
              "      <th>item_cnt_month_lag_2</th>\n",
              "      <th>item_cnt_month_lag_3</th>\n",
              "      <th>item_cnt_month_lag_6</th>\n",
              "      <th>item_cnt_month_lag_12</th>\n",
              "      <th>date_avg_item_cnt_lag_1</th>\n",
              "      <th>date_item_avg_item_cnt_lag_1</th>\n",
              "      <th>date_item_avg_item_cnt_lag_2</th>\n",
              "      <th>date_item_avg_item_cnt_lag_3</th>\n",
              "      <th>date_item_avg_item_cnt_lag_6</th>\n",
              "      <th>date_item_avg_item_cnt_lag_12</th>\n",
              "      <th>date_shop_avg_item_cnt_lag_1</th>\n",
              "      <th>date_shop_avg_item_cnt_lag_2</th>\n",
              "      <th>date_shop_avg_item_cnt_lag_3</th>\n",
              "      <th>date_shop_avg_item_cnt_lag_6</th>\n",
              "      <th>date_shop_avg_item_cnt_lag_12</th>\n",
              "      <th>date_cat_avg_item_cnt_lag_1</th>\n",
              "      <th>date_cat_item_f1_avg_item_cnt_lag_1</th>\n",
              "      <th>date_cat_item_f2_avg_item_cnt_lag_1</th>\n",
              "      <th>date_shop_cat_avg_item_cnt_lag_1</th>\n",
              "      <th>date_shop_type_avg_item_cnt_lag_1_x</th>\n",
              "      <th>date_shop_subtype_avg_item_cnt_lag_1</th>\n",
              "      <th>date_city_avg_item_cnt_lag_1</th>\n",
              "      <th>date_shop_type_avg_item_cnt_lag_1_y</th>\n",
              "      <th>date_item_city_avg_item_cnt_lag_1</th>\n",
              "      <th>date_item_shop_type_avg_item_cnt_lag_1</th>\n",
              "      <th>date_type_avg_item_cnt_lag_1</th>\n",
              "      <th>date_subtype_avg_item_cnt_lag_1</th>\n",
              "      <th>date_subtype_item_f1_avg_item_cnt_lag_1</th>\n",
              "      <th>date_subtype_item_f2_avg_item_cnt_lag_1</th>\n",
              "      <th>delta_price_lag</th>\n",
              "      <th>delta_revenue_lag_1</th>\n",
              "      <th>month</th>\n",
              "      <th>days</th>\n",
              "      <th>item_shop_last_sale</th>\n",
              "      <th>item_last_sale</th>\n",
              "      <th>item_shop_first_sale</th>\n",
              "      <th>item_first_sale</th>\n",
              "    </tr>\n",
              "  </thead>\n",
              "  <tbody>\n",
              "    <tr>\n",
              "      <th>4488710</th>\n",
              "      <td>12</td>\n",
              "      <td>0.0</td>\n",
              "      <td>27</td>\n",
              "      <td>2</td>\n",
              "      <td>0</td>\n",
              "      <td>4</td>\n",
              "      <td>19</td>\n",
              "      <td>1136</td>\n",
              "      <td>255</td>\n",
              "      <td>9</td>\n",
              "      <td>45</td>\n",
              "      <td>0.0</td>\n",
              "      <td>0.0</td>\n",
              "      <td>0.0</td>\n",
              "      <td>0.0</td>\n",
              "      <td>1.0</td>\n",
              "      <td>0.411377</td>\n",
              "      <td>0.086975</td>\n",
              "      <td>0.044434</td>\n",
              "      <td>0.130493</td>\n",
              "      <td>0.065247</td>\n",
              "      <td>0.155518</td>\n",
              "      <td>0.148071</td>\n",
              "      <td>0.100647</td>\n",
              "      <td>0.08905</td>\n",
              "      <td>0.096008</td>\n",
              "      <td>0.141235</td>\n",
              "      <td>1.082031</td>\n",
              "      <td>1.125000</td>\n",
              "      <td>1.052734</td>\n",
              "      <td>0.955566</td>\n",
              "      <td>0.808594</td>\n",
              "      <td>0.935059</td>\n",
              "      <td>0.148071</td>\n",
              "      <td>0.426514</td>\n",
              "      <td>0.0</td>\n",
              "      <td>0.074097</td>\n",
              "      <td>1.03418</td>\n",
              "      <td>1.075195</td>\n",
              "      <td>1.125977</td>\n",
              "      <td>1.050781</td>\n",
              "      <td>-0.282715</td>\n",
              "      <td>1.211914</td>\n",
              "      <td>0</td>\n",
              "      <td>31</td>\n",
              "      <td>1</td>\n",
              "      <td>1</td>\n",
              "      <td>12</td>\n",
              "      <td>12</td>\n",
              "    </tr>\n",
              "    <tr>\n",
              "      <th>4488711</th>\n",
              "      <td>12</td>\n",
              "      <td>0.0</td>\n",
              "      <td>30</td>\n",
              "      <td>2</td>\n",
              "      <td>0</td>\n",
              "      <td>4</td>\n",
              "      <td>40</td>\n",
              "      <td>1136</td>\n",
              "      <td>255</td>\n",
              "      <td>3</td>\n",
              "      <td>23</td>\n",
              "      <td>0.0</td>\n",
              "      <td>0.0</td>\n",
              "      <td>0.0</td>\n",
              "      <td>0.0</td>\n",
              "      <td>0.0</td>\n",
              "      <td>0.411377</td>\n",
              "      <td>1.021484</td>\n",
              "      <td>1.022461</td>\n",
              "      <td>0.521973</td>\n",
              "      <td>0.891113</td>\n",
              "      <td>0.000000</td>\n",
              "      <td>0.148071</td>\n",
              "      <td>0.100647</td>\n",
              "      <td>0.08905</td>\n",
              "      <td>0.096008</td>\n",
              "      <td>0.000000</td>\n",
              "      <td>0.291504</td>\n",
              "      <td>0.398682</td>\n",
              "      <td>0.290771</td>\n",
              "      <td>0.046234</td>\n",
              "      <td>0.051727</td>\n",
              "      <td>0.046234</td>\n",
              "      <td>0.148071</td>\n",
              "      <td>0.426514</td>\n",
              "      <td>0.0</td>\n",
              "      <td>0.962891</td>\n",
              "      <td>0.27002</td>\n",
              "      <td>0.291504</td>\n",
              "      <td>0.398682</td>\n",
              "      <td>0.290771</td>\n",
              "      <td>-0.483398</td>\n",
              "      <td>1.211914</td>\n",
              "      <td>0</td>\n",
              "      <td>31</td>\n",
              "      <td>1</td>\n",
              "      <td>1</td>\n",
              "      <td>11</td>\n",
              "      <td>11</td>\n",
              "    </tr>\n",
              "    <tr>\n",
              "      <th>4488712</th>\n",
              "      <td>12</td>\n",
              "      <td>0.0</td>\n",
              "      <td>31</td>\n",
              "      <td>2</td>\n",
              "      <td>0</td>\n",
              "      <td>4</td>\n",
              "      <td>37</td>\n",
              "      <td>390</td>\n",
              "      <td>255</td>\n",
              "      <td>3</td>\n",
              "      <td>9</td>\n",
              "      <td>0.0</td>\n",
              "      <td>0.0</td>\n",
              "      <td>0.0</td>\n",
              "      <td>0.0</td>\n",
              "      <td>0.0</td>\n",
              "      <td>0.411377</td>\n",
              "      <td>0.543457</td>\n",
              "      <td>0.600098</td>\n",
              "      <td>0.543457</td>\n",
              "      <td>0.304443</td>\n",
              "      <td>0.000000</td>\n",
              "      <td>0.148071</td>\n",
              "      <td>0.100647</td>\n",
              "      <td>0.08905</td>\n",
              "      <td>0.096008</td>\n",
              "      <td>0.000000</td>\n",
              "      <td>0.232788</td>\n",
              "      <td>0.227783</td>\n",
              "      <td>0.233276</td>\n",
              "      <td>0.059448</td>\n",
              "      <td>0.051727</td>\n",
              "      <td>0.064697</td>\n",
              "      <td>0.148071</td>\n",
              "      <td>0.426514</td>\n",
              "      <td>0.0</td>\n",
              "      <td>0.555664</td>\n",
              "      <td>0.27002</td>\n",
              "      <td>0.234009</td>\n",
              "      <td>0.227783</td>\n",
              "      <td>0.233887</td>\n",
              "      <td>-0.137451</td>\n",
              "      <td>1.211914</td>\n",
              "      <td>0</td>\n",
              "      <td>31</td>\n",
              "      <td>1</td>\n",
              "      <td>1</td>\n",
              "      <td>11</td>\n",
              "      <td>11</td>\n",
              "    </tr>\n",
              "    <tr>\n",
              "      <th>4488713</th>\n",
              "      <td>12</td>\n",
              "      <td>1.0</td>\n",
              "      <td>32</td>\n",
              "      <td>2</td>\n",
              "      <td>0</td>\n",
              "      <td>4</td>\n",
              "      <td>40</td>\n",
              "      <td>1136</td>\n",
              "      <td>255</td>\n",
              "      <td>3</td>\n",
              "      <td>23</td>\n",
              "      <td>0.0</td>\n",
              "      <td>0.0</td>\n",
              "      <td>0.0</td>\n",
              "      <td>0.0</td>\n",
              "      <td>0.0</td>\n",
              "      <td>0.411377</td>\n",
              "      <td>1.934570</td>\n",
              "      <td>1.799805</td>\n",
              "      <td>1.260742</td>\n",
              "      <td>1.891602</td>\n",
              "      <td>5.378906</td>\n",
              "      <td>0.148071</td>\n",
              "      <td>0.100647</td>\n",
              "      <td>0.08905</td>\n",
              "      <td>0.096008</td>\n",
              "      <td>0.141235</td>\n",
              "      <td>0.291504</td>\n",
              "      <td>0.398682</td>\n",
              "      <td>0.290771</td>\n",
              "      <td>0.046234</td>\n",
              "      <td>0.051727</td>\n",
              "      <td>0.046234</td>\n",
              "      <td>0.148071</td>\n",
              "      <td>0.426514</td>\n",
              "      <td>0.0</td>\n",
              "      <td>2.185547</td>\n",
              "      <td>0.27002</td>\n",
              "      <td>0.291504</td>\n",
              "      <td>0.398682</td>\n",
              "      <td>0.290771</td>\n",
              "      <td>-0.407227</td>\n",
              "      <td>1.211914</td>\n",
              "      <td>0</td>\n",
              "      <td>31</td>\n",
              "      <td>-1</td>\n",
              "      <td>1</td>\n",
              "      <td>12</td>\n",
              "      <td>12</td>\n",
              "    </tr>\n",
              "    <tr>\n",
              "      <th>4488714</th>\n",
              "      <td>12</td>\n",
              "      <td>1.0</td>\n",
              "      <td>33</td>\n",
              "      <td>2</td>\n",
              "      <td>0</td>\n",
              "      <td>4</td>\n",
              "      <td>37</td>\n",
              "      <td>390</td>\n",
              "      <td>255</td>\n",
              "      <td>3</td>\n",
              "      <td>9</td>\n",
              "      <td>1.0</td>\n",
              "      <td>2.0</td>\n",
              "      <td>0.0</td>\n",
              "      <td>0.0</td>\n",
              "      <td>1.0</td>\n",
              "      <td>0.411377</td>\n",
              "      <td>0.913086</td>\n",
              "      <td>0.333252</td>\n",
              "      <td>0.717285</td>\n",
              "      <td>1.000000</td>\n",
              "      <td>1.355469</td>\n",
              "      <td>0.148071</td>\n",
              "      <td>0.100647</td>\n",
              "      <td>0.08905</td>\n",
              "      <td>0.096008</td>\n",
              "      <td>0.141235</td>\n",
              "      <td>0.232788</td>\n",
              "      <td>0.227783</td>\n",
              "      <td>0.233276</td>\n",
              "      <td>0.059448</td>\n",
              "      <td>0.051727</td>\n",
              "      <td>0.064697</td>\n",
              "      <td>0.148071</td>\n",
              "      <td>0.426514</td>\n",
              "      <td>1.0</td>\n",
              "      <td>0.777832</td>\n",
              "      <td>0.27002</td>\n",
              "      <td>0.234009</td>\n",
              "      <td>0.227783</td>\n",
              "      <td>0.233887</td>\n",
              "      <td>-0.225464</td>\n",
              "      <td>1.211914</td>\n",
              "      <td>0</td>\n",
              "      <td>31</td>\n",
              "      <td>1</td>\n",
              "      <td>1</td>\n",
              "      <td>12</td>\n",
              "      <td>12</td>\n",
              "    </tr>\n",
              "  </tbody>\n",
              "</table>\n",
              "</div>"
            ],
            "text/plain": [
              "         date_block_num  item_cnt_month  ...  item_shop_first_sale  item_first_sale\n",
              "4488710              12             0.0  ...                    12               12\n",
              "4488711              12             0.0  ...                    11               11\n",
              "4488712              12             0.0  ...                    11               11\n",
              "4488713              12             1.0  ...                    12               12\n",
              "4488714              12             1.0  ...                    12               12\n",
              "\n",
              "[5 rows x 49 columns]"
            ]
          },
          "metadata": {
            "tags": []
          },
          "execution_count": 31
        }
      ]
    },
    {
      "cell_type": "markdown",
      "metadata": {
        "_uuid": "e5742775554b9e48e4d5c19784184069ad3eb9fb",
        "id": "_BkE6HuqziDO",
        "colab_type": "text"
      },
      "source": [
        "Select perfect features"
      ]
    },
    {
      "cell_type": "code",
      "metadata": {
        "id": "YiNCEJBLPyY3",
        "colab_type": "code",
        "outputId": "13bfa459-8a8e-42f9-88e2-954d017cc2d2",
        "colab": {
          "base_uri": "https://localhost:8080/",
          "height": 989
        }
      },
      "source": [
        "data.info()"
      ],
      "execution_count": 0,
      "outputs": [
        {
          "output_type": "stream",
          "text": [
            "<class 'pandas.core.frame.DataFrame'>\n",
            "Int64Index: 6639294 entries, 4488710 to 11128003\n",
            "Data columns (total 49 columns):\n",
            "date_block_num                             int8\n",
            "item_cnt_month                             float16\n",
            "item_id                                    int16\n",
            "shop_id                                    int8\n",
            "city_code                                  int8\n",
            "shop_type_code                             int8\n",
            "item_category_id                           int8\n",
            "item_f1_code                               int16\n",
            "item_f2_code                               int16\n",
            "type_code                                  int8\n",
            "subtype_code                               int8\n",
            "item_cnt_month_lag_1                       float16\n",
            "item_cnt_month_lag_2                       float16\n",
            "item_cnt_month_lag_3                       float16\n",
            "item_cnt_month_lag_6                       float16\n",
            "item_cnt_month_lag_12                      float16\n",
            "date_avg_item_cnt_lag_1                    float16\n",
            "date_item_avg_item_cnt_lag_1               float16\n",
            "date_item_avg_item_cnt_lag_2               float16\n",
            "date_item_avg_item_cnt_lag_3               float16\n",
            "date_item_avg_item_cnt_lag_6               float16\n",
            "date_item_avg_item_cnt_lag_12              float16\n",
            "date_shop_avg_item_cnt_lag_1               float16\n",
            "date_shop_avg_item_cnt_lag_2               float16\n",
            "date_shop_avg_item_cnt_lag_3               float16\n",
            "date_shop_avg_item_cnt_lag_6               float16\n",
            "date_shop_avg_item_cnt_lag_12              float16\n",
            "date_cat_avg_item_cnt_lag_1                float16\n",
            "date_cat_item_f1_avg_item_cnt_lag_1        float16\n",
            "date_cat_item_f2_avg_item_cnt_lag_1        float16\n",
            "date_shop_cat_avg_item_cnt_lag_1           float16\n",
            "date_shop_type_avg_item_cnt_lag_1_x        float16\n",
            "date_shop_subtype_avg_item_cnt_lag_1       float16\n",
            "date_city_avg_item_cnt_lag_1               float16\n",
            "date_shop_type_avg_item_cnt_lag_1_y        float16\n",
            "date_item_city_avg_item_cnt_lag_1          float16\n",
            "date_item_shop_type_avg_item_cnt_lag_1     float16\n",
            "date_type_avg_item_cnt_lag_1               float16\n",
            "date_subtype_avg_item_cnt_lag_1            float16\n",
            "date_subtype_item_f1_avg_item_cnt_lag_1    float16\n",
            "date_subtype_item_f2_avg_item_cnt_lag_1    float16\n",
            "delta_price_lag                            float16\n",
            "delta_revenue_lag_1                        float16\n",
            "month                                      int8\n",
            "days                                       int8\n",
            "item_shop_last_sale                        int8\n",
            "item_last_sale                             int8\n",
            "item_shop_first_sale                       int8\n",
            "item_first_sale                            int8\n",
            "dtypes: float16(33), int16(3), int8(13)\n",
            "memory usage: 588.9 MB\n"
          ],
          "name": "stdout"
        }
      ]
    },
    {
      "cell_type": "code",
      "metadata": {
        "id": "KoDKyNJiQK6L",
        "colab_type": "code",
        "colab": {}
      },
      "source": [
        "data = data[[\n",
        "    'date_block_num',\n",
        "    'item_cnt_month',\n",
        "    'item_id',                     \n",
        "    'shop_id',                        \n",
        "    'city_code',                         \n",
        "    'shop_type_code',             \n",
        "    'item_category_id',                         \n",
        "    'item_f1_code',         \n",
        "    'item_f2_code',                  \n",
        "    'type_code',                      \n",
        "    'subtype_code',                            \n",
        "    'item_cnt_month_lag_1',                   \n",
        "    'item_cnt_month_lag_2',            \n",
        "    'item_cnt_month_lag_3',                  \n",
        "    'item_cnt_month_lag_6',                  \n",
        "    'item_cnt_month_lag_12',                \n",
        "    'date_avg_item_cnt_lag_1',               \n",
        "    'date_item_avg_item_cnt_lag_1',         \n",
        "    'date_item_avg_item_cnt_lag_2',         \n",
        "    'date_item_avg_item_cnt_lag_3',         \n",
        "    'date_item_avg_item_cnt_lag_6',         \n",
        "    'date_item_avg_item_cnt_lag_12',       \n",
        "    'date_shop_avg_item_cnt_lag_1',        \n",
        "    'date_shop_avg_item_cnt_lag_2',        \n",
        "    'date_shop_avg_item_cnt_lag_3',        \n",
        "    'date_shop_avg_item_cnt_lag_6',        \n",
        "    'date_shop_avg_item_cnt_lag_12',      \n",
        "    'date_cat_avg_item_cnt_lag_1',          \n",
        "    'date_cat_item_f1_avg_item_cnt_lag_1', \n",
        "    'date_cat_item_f2_avg_item_cnt_lag_1', \n",
        "    'date_shop_cat_avg_item_cnt_lag_1',    \n",
        "    #'date_shop_type_avg_item_cnt_lag_1_x',        \n",
        "    'date_shop_subtype_avg_item_cnt_lag_1',       \n",
        "    'date_city_avg_item_cnt_lag_1',               \n",
        "    #'date_shop_type_avg_item_cnt_lag_1_y',      \n",
        "    'date_item_city_avg_item_cnt_lag_1',       \n",
        "    'date_item_shop_type_avg_item_cnt_lag_1',    \n",
        "    #'date_type_avg_item_cnt_lag_1',         \n",
        "    #'date_subtype_avg_item_cnt_lag_1',     \n",
        "    'date_subtype_item_f1_avg_item_cnt_lag_1',\n",
        "    'date_subtype_item_f2_avg_item_cnt_lag_1',    \n",
        "    'delta_price_lag',                      \n",
        "    'delta_revenue_lag_1',                    \n",
        "    'month',                                    \n",
        "    'days',                                       \n",
        "    'item_shop_last_sale',                     \n",
        "    'item_last_sale',                            \n",
        "    'item_shop_first_sale',                    \n",
        "    'item_first_sale',\n",
        "]]     "
      ],
      "execution_count": 0,
      "outputs": []
    },
    {
      "cell_type": "markdown",
      "metadata": {
        "_uuid": "11eb4f2f5ada18aa8993ec55e8c63e80758fc19e",
        "id": "dE783Iz0ziDO",
        "colab_type": "text"
      },
      "source": [
        "Validation strategy is 34 month for the test set, 33 month for the validation set and 13-33 months for the train."
      ]
    },
    {
      "cell_type": "code",
      "metadata": {
        "_uuid": "9af76d7b80064573a453e5e10c35b76fc31c47a4",
        "id": "_sX9FeQIziDP",
        "colab_type": "code",
        "colab": {}
      },
      "source": [
        "X_train = data[data.date_block_num < 33].drop(['item_cnt_month'], axis=1)\n",
        "Y_train = data[data.date_block_num < 33]['item_cnt_month']\n",
        "X_valid = data[data.date_block_num == 33].drop(['item_cnt_month'], axis=1)\n",
        "Y_valid = data[data.date_block_num == 33]['item_cnt_month']\n",
        "X_test = data[data.date_block_num == 34].drop(['item_cnt_month'], axis=1)"
      ],
      "execution_count": 0,
      "outputs": []
    },
    {
      "cell_type": "code",
      "metadata": {
        "_uuid": "6ea5437e8949db6d3e54e68b7b0c18cd0befe38c",
        "id": "m7O8mSKRziDQ",
        "colab_type": "code",
        "colab": {}
      },
      "source": [
        "del data\n",
        "gc.collect();"
      ],
      "execution_count": 0,
      "outputs": []
    },
    {
      "cell_type": "code",
      "metadata": {
        "_uuid": "acef75c36501f808d45f81fc69f9708fc3283bc3",
        "id": "LIqSeCT8ziDR",
        "colab_type": "code",
        "outputId": "89465f0a-a7d4-4280-a386-89538dd34e23",
        "colab": {
          "base_uri": "https://localhost:8080/",
          "height": 55
        }
      },
      "source": [
        "model = XGBRegressor(\n",
        "    max_depth=10,\n",
        "    n_estimators=1000,\n",
        "    min_child_weight=300,\n",
        "    colsample_bytree=0.8,\n",
        "    scale_pos_weight=1,\n",
        "    sub_sample=0.8,\n",
        "    eta=0.3,\n",
        "    seed=42)\n",
        "\n",
        "model.fit(\n",
        "    X_train,\n",
        "    Y_train,\n",
        "    eval_metric=\"rmse\",\n",
        "    eval_set=[(X_train, Y_train), (X_valid, Y_valid)],\n",
        "    verbose=True,\n",
        "    early_stopping_rounds=15)\n"
      ],
      "execution_count": 0,
      "outputs": [
        {
          "output_type": "execute_result",
          "data": {
            "text/plain": [
              "'model = XGBRegressor(\\n    max_depth=10,\\n    n_estimators=1000,\\n    min_child_weight=300,\\n    colsample_bytree=0.8,\\n    scale_pos_weight=1,\\n    sub_sample=0.8,\\n    eta=0.3,\\n    seed=42)\\n\\nmodel.fit(\\n    X_train,\\n    Y_train,\\n    eval_metric=\"rmse\",\\n    eval_set=[(X_train, Y_train), (X_valid, Y_valid)],\\n    verbose=True,\\n    early_stopping_rounds=15)\\n'"
            ]
          },
          "metadata": {
            "tags": []
          },
          "execution_count": 67
        }
      ]
    },
    {
      "cell_type": "code",
      "metadata": {
        "id": "N_KgEPLgqx3Y",
        "colab_type": "code",
        "outputId": "65c80a6b-638b-4df6-d2ca-7e1ff1902a95",
        "colab": {
          "base_uri": "https://localhost:8080/",
          "height": 433
        }
      },
      "source": [
        "'''depth_list = [9, 10]\n",
        "colsample_list = [0.5, 0.7, 0.8, 0.9]\n",
        "\n",
        "val_result_list = []\n",
        "val_result_list.append([\"max_depth\", \"colsample_bytree\", \"validation_rmse[0]\", \"validation_rmse[1]\"])\n",
        "\n",
        "for _max_depth in depth_list:\n",
        "    for _colsample in colsample_list:\n",
        "      print(\"[{0}/{1}] model fitting...\".format(_max_depth, _colsample)) \n",
        "\n",
        "      model = XGBRegressor(\n",
        "          max_depth=_max_depth,\n",
        "          n_estimators=1000,\n",
        "          min_child_weight=300,\n",
        "          colsample_bytree=_colsample,\n",
        "          scale_pos_weight=1,\n",
        "          sub_sample=0.8,\n",
        "          eta=0.3,\n",
        "          seed=42)\n",
        "      \n",
        "      model.fit(\n",
        "          X_train,\n",
        "          Y_train,\n",
        "          eval_metric=\"rmse\",\n",
        "          eval_set=[(X_train, Y_train), (X_valid, Y_valid)],\n",
        "          verbose=True,\n",
        "          early_stopping_rounds=50)\n",
        "\n",
        "      evals_result = model.evals_result()\n",
        "\n",
        "      val_result_list.append(\n",
        "          [_max_depth, _colsample, evals_result['validation_1']['rmse'][0], evals_result['validation_1']['rmse'][1]])\n",
        "\n",
        "      print(\"[{0}/{1}] : val_rsme_0 = {2}, val_rsme_1 = {3}]\".format(\n",
        "          _max_depth, _colsample, _eta, evals_result['validation_1']['rmse'][0], evals_result['validation_1']['rmse'][1]))\n",
        "\n",
        "pd.DataFrame(val_result_list).to_csv(\"validation_result.csv\", sep=',', header=None, index=None, encoding='cp949')'''"
      ],
      "execution_count": 0,
      "outputs": [
        {
          "output_type": "stream",
          "text": [
            "[9/0.5] model fitting...\n"
          ],
          "name": "stdout"
        },
        {
          "output_type": "stream",
          "text": [
            "/usr/local/lib/python3.6/dist-packages/xgboost/core.py:587: FutureWarning: Series.base is deprecated and will be removed in a future version\n",
            "  if getattr(data, 'base', None) is not None and \\\n",
            "/usr/local/lib/python3.6/dist-packages/xgboost/core.py:588: FutureWarning: Series.base is deprecated and will be removed in a future version\n",
            "  data.base is not None and isinstance(data, np.ndarray) \\\n"
          ],
          "name": "stderr"
        },
        {
          "output_type": "stream",
          "text": [
            "[11:05:01] WARNING: /workspace/src/objective/regression_obj.cu:152: reg:linear is now deprecated in favor of reg:squarederror.\n",
            "[11:05:02] WARNING: /workspace/src/learner.cc:686: Tree method is automatically selected to be 'approx' for faster speed. To use old behavior (exact greedy algorithm on single machine), set tree_method to 'exact'.\n",
            "[0]\tvalidation_0-rmse:1.12323\tvalidation_1-rmse:1.11652\n",
            "Multiple eval metrics have been passed: 'validation_1-rmse' will be used for early stopping.\n",
            "\n",
            "Will train until validation_1-rmse hasn't improved in 50 rounds.\n",
            "[1]\tvalidation_0-rmse:1.08706\tvalidation_1-rmse:1.08377\n",
            "[2]\tvalidation_0-rmse:1.06321\tvalidation_1-rmse:1.05724\n",
            "[3]\tvalidation_0-rmse:1.0182\tvalidation_1-rmse:1.02886\n",
            "[4]\tvalidation_0-rmse:0.988137\tvalidation_1-rmse:1.00523\n",
            "[5]\tvalidation_0-rmse:0.967524\tvalidation_1-rmse:0.988991\n",
            "[6]\tvalidation_0-rmse:0.946512\tvalidation_1-rmse:0.972752\n",
            "[7]\tvalidation_0-rmse:0.927462\tvalidation_1-rmse:0.960665\n",
            "[8]\tvalidation_0-rmse:0.912341\tvalidation_1-rmse:0.948929\n",
            "[9]\tvalidation_0-rmse:0.898303\tvalidation_1-rmse:0.937219\n",
            "[10]\tvalidation_0-rmse:0.889388\tvalidation_1-rmse:0.931472\n",
            "[11]\tvalidation_0-rmse:0.880283\tvalidation_1-rmse:0.92559\n"
          ],
          "name": "stdout"
        }
      ]
    },
    {
      "cell_type": "code",
      "metadata": {
        "_uuid": "8ff5a80a22d046c5ca1cb27e938c757b607551d2",
        "id": "nh-BPqHRziDS",
        "colab_type": "code",
        "colab": {}
      },
      "source": [
        "Y_pred = model.predict(X_valid).clip(0, 20)\n",
        "Y_test = model.predict(X_test).clip(0, 20)\n",
        "\n",
        "submission = pd.DataFrame({\n",
        "    \"ID\": test.index, \n",
        "    \"item_cnt_month\": Y_test\n",
        "})\n",
        "submission.to_csv('submission.csv', index=False)\n",
        "\n",
        "# save predictions for an ensemble\n",
        "pickle.dump(Y_pred, open('xgb_train.pickle', 'wb'))\n",
        "pickle.dump(Y_test, open('xgb_test.pickle', 'wb'))"
      ],
      "execution_count": 0,
      "outputs": []
    },
    {
      "cell_type": "code",
      "metadata": {
        "_uuid": "c8adc7c93323eb77baeceb2e8db17390b5c4deb3",
        "id": "93_qTQ2XziDT",
        "colab_type": "code",
        "colab": {}
      },
      "source": [
        "plot_features(model, (10,14))"
      ],
      "execution_count": 0,
      "outputs": []
    },
    {
      "cell_type": "code",
      "metadata": {
        "id": "piWJqWHtziDU",
        "colab_type": "code",
        "outputId": "8c5e8059-586a-4f55-cc03-af2c85e0b3a6",
        "colab": {
          "base_uri": "https://localhost:8080/",
          "height": 53
        }
      },
      "source": [
        "!git clone https://github.com/eukeun/kaggle.git"
      ],
      "execution_count": 0,
      "outputs": [
        {
          "output_type": "stream",
          "text": [
            "Cloning into 'kaggle'...\n",
            "warning: You appear to have cloned an empty repository.\n"
          ],
          "name": "stdout"
        }
      ]
    },
    {
      "cell_type": "code",
      "metadata": {
        "id": "RIo-XJeFPLgo",
        "colab_type": "code",
        "colab": {}
      },
      "source": [
        ""
      ],
      "execution_count": 0,
      "outputs": []
    }
  ]
}